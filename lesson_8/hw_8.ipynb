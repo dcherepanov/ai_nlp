{
 "cells": [
  {
   "cell_type": "markdown",
   "metadata": {},
   "source": [
    "Данные берем отызывы за лето\n",
    "\n",
    "На вебинаре мы говорили, что долгое время CNN и RNN архитектуры были конурируещими выяснить какая архитектура больше подходит для нашей задачи\n",
    "- построить свёрточные архитектуры\n",
    "- построить различные архитектуры с RNN\n",
    "- построить совместные архитектуры CNN -> RNN или (RNN -> CNN)"
   ]
  },
  {
   "cell_type": "code",
   "execution_count": 40,
   "metadata": {},
   "outputs": [],
   "source": [
    "import re\n",
    "import os\n",
    "import nltk\n",
    "import numpy as np\n",
    "import pandas as pd\n",
    "from nltk.probability import FreqDist\n",
    "from nltk.tokenize import word_tokenize\n",
    "from nltk.corpus import stopwords\n",
    "from pymorphy2 import MorphAnalyzer\n",
    "from sklearn.model_selection import train_test_split\n",
    "from sklearn.preprocessing import LabelEncoder\n",
    "from sklearn.metrics import classification_report\n",
    "from keras.models import Sequential, Model\n",
    "from keras.layers import Dense, Dropout, Activation, Input, Embedding, Conv1D, GlobalMaxPool1D, Flatten, SimpleRNN, LSTM, GRU, Reshape\n",
    "from keras.losses import categorical_crossentropy, SparseCategoricalCrossentropy"
   ]
  },
  {
   "cell_type": "code",
   "execution_count": 41,
   "metadata": {},
   "outputs": [],
   "source": [
    "data_path = r'/home/dmitriy/Downloads/ai_nlp_data/hw_8/'"
   ]
  },
  {
   "cell_type": "code",
   "execution_count": 42,
   "metadata": {},
   "outputs": [],
   "source": [
    "data = pd.read_excel(os.path.join(data_path, r'отзывы за лето.xls'))"
   ]
  },
  {
   "cell_type": "code",
   "execution_count": 43,
   "metadata": {},
   "outputs": [],
   "source": [
    "max_words = 20000\n",
    "max_len = 150\n",
    "num_classes = 5\n",
    "epochs = 10\n",
    "batch_size = 512\n",
    "print_batch_n = 100"
   ]
  },
  {
   "cell_type": "code",
   "execution_count": 44,
   "metadata": {},
   "outputs": [
    {
     "name": "stderr",
     "output_type": "stream",
     "text": [
      "[nltk_data] Downloading package stopwords to\n",
      "[nltk_data]     /home/dmitriy/nltk_data...\n",
      "[nltk_data]   Package stopwords is already up-to-date!\n",
      "[nltk_data] Downloading package punkt to /home/dmitriy/nltk_data...\n",
      "[nltk_data]   Package punkt is already up-to-date!\n"
     ]
    },
    {
     "data": {
      "text/plain": [
       "True"
      ]
     },
     "execution_count": 44,
     "metadata": {},
     "output_type": "execute_result"
    }
   ],
   "source": [
    "nltk.download('stopwords')\n",
    "nltk.download('punkt')"
   ]
  },
  {
   "cell_type": "code",
   "execution_count": 45,
   "metadata": {},
   "outputs": [],
   "source": [
    "stopwordslist = stopwords.words(\"russian\")\n",
    "ptrn = r'[^a-zA-Zа-яА-Я0-9]'\n",
    "morpher = MorphAnalyzer()\n",
    "\n",
    "\n",
    "def words_only(text):\n",
    "    text=str(text)\n",
    "    return text.lower()   \n",
    "\n",
    "\n",
    "def remove_punkt(text):\n",
    "    return re.sub(ptrn, ' ', text)\n",
    "\n",
    "\n",
    "def to_token(text):\n",
    "    return nltk.tokenize.word_tokenize(text)\n",
    "\n",
    "\n",
    "def remove_stopwords(text):\n",
    "    text_list = [w for w in text if w not in stopwordslist]\n",
    "    return ' '.join(word for word in text_list)\n",
    "\n",
    "\n",
    "def morphe_text(text):\n",
    "    text = [morpher.parse(word)[0].normal_form for word in text.split() if word not in stopwordslist]\n",
    "    return \" \".join(text)\n",
    "\n",
    "\n",
    "def normalize_text(text):\n",
    "    text = words_only(text)\n",
    "    text = remove_punkt(text)\n",
    "    text = to_token(text)\n",
    "    text = remove_stopwords(text)\n",
    "    text = morphe_text(text)\n",
    "    return text"
   ]
  },
  {
   "cell_type": "code",
   "execution_count": 46,
   "metadata": {},
   "outputs": [],
   "source": [
    "data['normalized_content'] = data['Content'].apply(normalize_text)"
   ]
  },
  {
   "cell_type": "code",
   "execution_count": 47,
   "metadata": {},
   "outputs": [],
   "source": [
    "train_corpus = \" \".join(data['normalized_content'])\n",
    "train_tokens = word_tokenize(train_corpus)\n",
    "train_tokens_filtered = [word for word in train_tokens if word.isalnum()]"
   ]
  },
  {
   "cell_type": "code",
   "execution_count": 48,
   "metadata": {},
   "outputs": [],
   "source": [
    "dist = FreqDist(train_tokens_filtered)\n",
    "tokens_filtered_top = [pair[0] for pair in dist.most_common(max_words-1)]\n",
    "voc = {v: k for k, v in dict(enumerate(tokens_filtered_top, 1)).items()}"
   ]
  },
  {
   "cell_type": "code",
   "execution_count": 49,
   "metadata": {},
   "outputs": [],
   "source": [
    "def text_to_sequence(text, maxlen):\n",
    "    result = []\n",
    "    tokens = word_tokenize(text.lower())\n",
    "    tokens_filtered = [word for word in tokens if word.isalnum()]\n",
    "    for word in tokens_filtered:\n",
    "        if word in voc:\n",
    "            result.append(voc[word])\n",
    "    padding = [0]*(maxlen-len(result))\n",
    "    return padding + result[-maxlen:]\n",
    "\n",
    "\n",
    "data_train = np.asarray(\n",
    "    [text_to_sequence(text, max_len) for text in data['normalized_content']], \n",
    "    dtype=np.int32)"
   ]
  },
  {
   "cell_type": "code",
   "execution_count": 50,
   "metadata": {},
   "outputs": [],
   "source": [
    "X_train, X_test, y_train, y_test = train_test_split(data_train, data.Rating, test_size=0.3, random_state=1)\n",
    "le = LabelEncoder()\n",
    "y_train = le.fit_transform(y_train) \n",
    "y_test = le.transform(y_test)"
   ]
  },
  {
   "cell_type": "markdown",
   "metadata": {},
   "source": [
    "CNN"
   ]
  },
  {
   "cell_type": "code",
   "execution_count": 51,
   "metadata": {},
   "outputs": [
    {
     "name": "stdout",
     "output_type": "stream",
     "text": [
      "Epoch 1/10\n",
      "23/23 [==============================] - 12s 478ms/step - loss: 1.2540 - accuracy: 0.6762 - val_loss: 1.2528 - val_accuracy: 0.7155\n",
      "Epoch 2/10\n",
      "23/23 [==============================] - 10s 450ms/step - loss: 0.9661 - accuracy: 0.7046 - val_loss: 0.8785 - val_accuracy: 0.7172\n",
      "Epoch 3/10\n",
      "23/23 [==============================] - 10s 434ms/step - loss: 0.7606 - accuracy: 0.7242 - val_loss: 0.7998 - val_accuracy: 0.7131\n",
      "Epoch 4/10\n",
      "23/23 [==============================] - 10s 425ms/step - loss: 0.6909 - accuracy: 0.7527 - val_loss: 0.7620 - val_accuracy: 0.7463\n",
      "Epoch 5/10\n",
      "23/23 [==============================] - 10s 432ms/step - loss: 0.6510 - accuracy: 0.7626 - val_loss: 0.7318 - val_accuracy: 0.7618\n",
      "Epoch 6/10\n",
      "23/23 [==============================] - 10s 431ms/step - loss: 0.6217 - accuracy: 0.7838 - val_loss: 0.7261 - val_accuracy: 0.7632\n",
      "Epoch 7/10\n",
      "23/23 [==============================] - 10s 428ms/step - loss: 0.5932 - accuracy: 0.7892 - val_loss: 0.7119 - val_accuracy: 0.7646\n",
      "Epoch 8/10\n",
      "23/23 [==============================] - 10s 426ms/step - loss: 0.5719 - accuracy: 0.7906 - val_loss: 0.7345 - val_accuracy: 0.7556\n",
      "Epoch 9/10\n",
      "23/23 [==============================] - 10s 433ms/step - loss: 0.5541 - accuracy: 0.7940 - val_loss: 0.7040 - val_accuracy: 0.7636\n",
      "Epoch 10/10\n",
      "23/23 [==============================] - 10s 436ms/step - loss: 0.5402 - accuracy: 0.7959 - val_loss: 0.7334 - val_accuracy: 0.7584\n"
     ]
    },
    {
     "data": {
      "text/plain": [
       "<keras.src.callbacks.History at 0x7f669ca88940>"
      ]
     },
     "execution_count": 51,
     "metadata": {},
     "output_type": "execute_result"
    }
   ],
   "source": [
    "model = Sequential()\n",
    "model.add(Embedding(input_dim=max_words, \n",
    "                    output_dim=128, \n",
    "                    input_length=max_len))\n",
    "model.add(Conv1D(128, 3))\n",
    "model.add(Activation(\"relu\"))\n",
    "model.add(Dropout(0.2))\n",
    "model.add(Conv1D(128, 3))\n",
    "model.add(Activation(\"relu\"))\n",
    "model.add(Dropout(0.2))\n",
    "model.add(GlobalMaxPool1D())\n",
    "model.add(Flatten())\n",
    "model.add(Dense(10))\n",
    "model.add(Activation(\"relu\"))\n",
    "model.add(Dense(num_classes))\n",
    "model.add(Activation('softmax'))\n",
    "model.compile(loss=SparseCategoricalCrossentropy(),\n",
    "              optimizer='adam',\n",
    "              metrics=['accuracy'])\n",
    "model.fit(X_train, y_train,\n",
    "          batch_size=batch_size,\n",
    "          epochs=epochs,\n",
    "          verbose=1,\n",
    "          validation_split=0.2)"
   ]
  },
  {
   "cell_type": "code",
   "execution_count": 52,
   "metadata": {},
   "outputs": [
    {
     "name": "stdout",
     "output_type": "stream",
     "text": [
      " 1/13 [=>............................] - ETA: 1s - loss: 0.7886 - accuracy: 0.7305"
     ]
    },
    {
     "name": "stdout",
     "output_type": "stream",
     "text": [
      "13/13 [==============================] - 1s 82ms/step - loss: 0.7741 - accuracy: 0.7283\n",
      "Test score: 0.7740876078605652\n",
      "Test accuracy: 0.7282994389533997\n"
     ]
    }
   ],
   "source": [
    "score = model.evaluate(X_test, y_test, batch_size=batch_size, verbose=1)\n",
    "metrics_df = pd.DataFrame(columns=['model', 'Test score', 'Test accuracy'])\n",
    "metrics_df = pd.concat([metrics_df, pd.DataFrame({\n",
    "    'model': ['CNN'],\n",
    "    'Test score': [score[0]],\n",
    "    'Test accuracy': [score[1]],\n",
    "})])\n",
    "print('Test score:', score[0])\n",
    "print('Test accuracy:', score[1])"
   ]
  },
  {
   "cell_type": "markdown",
   "metadata": {},
   "source": [
    "SimpleRNN"
   ]
  },
  {
   "cell_type": "code",
   "execution_count": 53,
   "metadata": {},
   "outputs": [
    {
     "name": "stdout",
     "output_type": "stream",
     "text": [
      "Epoch 1/10\n",
      "23/23 [==============================] - 8s 270ms/step - loss: 1.3257 - accuracy: 0.6789 - val_loss: 0.8988 - val_accuracy: 0.7155\n",
      "Epoch 2/10\n",
      "23/23 [==============================] - 6s 259ms/step - loss: 0.7918 - accuracy: 0.7114 - val_loss: 0.7137 - val_accuracy: 0.7425\n",
      "Epoch 3/10\n",
      "23/23 [==============================] - 6s 262ms/step - loss: 0.6703 - accuracy: 0.7597 - val_loss: 0.6782 - val_accuracy: 0.7715\n",
      "Epoch 4/10\n",
      "23/23 [==============================] - 7s 310ms/step - loss: 0.6146 - accuracy: 0.7810 - val_loss: 0.6686 - val_accuracy: 0.7812\n",
      "Epoch 5/10\n",
      "23/23 [==============================] - 6s 245ms/step - loss: 0.5647 - accuracy: 0.7950 - val_loss: 0.6708 - val_accuracy: 0.7822\n",
      "Epoch 6/10\n",
      "23/23 [==============================] - 6s 259ms/step - loss: 0.5102 - accuracy: 0.8202 - val_loss: 0.6976 - val_accuracy: 0.7812\n",
      "Epoch 7/10\n",
      "23/23 [==============================] - 6s 248ms/step - loss: 0.4405 - accuracy: 0.8539 - val_loss: 0.7386 - val_accuracy: 0.7770\n",
      "Epoch 8/10\n",
      "23/23 [==============================] - 6s 249ms/step - loss: 0.3666 - accuracy: 0.8862 - val_loss: 0.8149 - val_accuracy: 0.7767\n",
      "Epoch 9/10\n",
      "23/23 [==============================] - 6s 241ms/step - loss: 0.3012 - accuracy: 0.9053 - val_loss: 0.8828 - val_accuracy: 0.7674\n",
      "Epoch 10/10\n",
      "23/23 [==============================] - 6s 249ms/step - loss: 0.2664 - accuracy: 0.9161 - val_loss: 0.9384 - val_accuracy: 0.7587\n"
     ]
    },
    {
     "data": {
      "text/plain": [
       "<keras.src.callbacks.History at 0x7f669d6f7d90>"
      ]
     },
     "execution_count": 53,
     "metadata": {},
     "output_type": "execute_result"
    }
   ],
   "source": [
    "model = Sequential()\n",
    "model.add(Embedding(input_dim=max_words, \n",
    "                    output_dim=128, \n",
    "                    input_length=max_len,\n",
    "                    trainable=True,\n",
    "                    mask_zero=True))\n",
    "model.add(SimpleRNN(128))\n",
    "model.add(Activation(\"relu\"))\n",
    "model.add(Dropout(0.2))\n",
    "model.add(Reshape((1,128)))\n",
    "model.add(SimpleRNN(128))\n",
    "model.add(Activation(\"relu\"))\n",
    "model.add(Dropout(0.2))\n",
    "model.add(Flatten())\n",
    "model.add(Dense(10))\n",
    "model.add(Activation(\"relu\"))\n",
    "model.add(Dense(num_classes))\n",
    "model.add(Activation('softmax'))\n",
    "model.compile(loss=SparseCategoricalCrossentropy(),\n",
    "              optimizer='adam',\n",
    "              metrics=['accuracy'])\n",
    "model.fit(X_train, y_train,\n",
    "          batch_size=batch_size,\n",
    "          epochs=epochs,\n",
    "          verbose=1,\n",
    "          validation_split=0.2)"
   ]
  },
  {
   "cell_type": "code",
   "execution_count": 54,
   "metadata": {},
   "outputs": [
    {
     "name": "stdout",
     "output_type": "stream",
     "text": [
      "13/13 [==============================] - 1s 76ms/step - loss: 0.9805 - accuracy: 0.7352\n",
      "Test score: 0.9805441498756409\n",
      "Test accuracy: 0.735237181186676\n"
     ]
    }
   ],
   "source": [
    "score = model.evaluate(X_test, y_test, batch_size=batch_size, verbose=1)\n",
    "metrics_df = pd.concat([metrics_df, pd.DataFrame({\n",
    "    'model': ['SimpleRNN'],\n",
    "    'Test score': [score[0]],\n",
    "    'Test accuracy': [score[1]],\n",
    "})])\n",
    "print('Test score:', score[0])\n",
    "print('Test accuracy:', score[1])"
   ]
  },
  {
   "cell_type": "markdown",
   "metadata": {},
   "source": [
    "LSTM"
   ]
  },
  {
   "cell_type": "code",
   "execution_count": 55,
   "metadata": {},
   "outputs": [
    {
     "name": "stdout",
     "output_type": "stream",
     "text": [
      "Epoch 1/10\n",
      " 2/23 [=>............................] - ETA: 10s - loss: 1.6087 - accuracy: 0.4180 "
     ]
    },
    {
     "name": "stdout",
     "output_type": "stream",
     "text": [
      "23/23 [==============================] - 17s 586ms/step - loss: 1.5655 - accuracy: 0.6783 - val_loss: 1.4617 - val_accuracy: 0.7155\n",
      "Epoch 2/10\n",
      "23/23 [==============================] - 13s 556ms/step - loss: 1.2204 - accuracy: 0.7030 - val_loss: 0.9662 - val_accuracy: 0.7155\n",
      "Epoch 3/10\n",
      "23/23 [==============================] - 13s 547ms/step - loss: 0.8506 - accuracy: 0.7033 - val_loss: 0.7960 - val_accuracy: 0.7356\n",
      "Epoch 4/10\n",
      "23/23 [==============================] - 13s 551ms/step - loss: 0.7293 - accuracy: 0.7633 - val_loss: 0.7439 - val_accuracy: 0.7736\n",
      "Epoch 5/10\n",
      "23/23 [==============================] - 15s 663ms/step - loss: 0.6699 - accuracy: 0.7847 - val_loss: 0.7235 - val_accuracy: 0.7770\n",
      "Epoch 6/10\n",
      "23/23 [==============================] - 16s 701ms/step - loss: 0.6325 - accuracy: 0.7904 - val_loss: 0.7072 - val_accuracy: 0.7767\n",
      "Epoch 7/10\n",
      "23/23 [==============================] - 15s 645ms/step - loss: 0.5981 - accuracy: 0.8001 - val_loss: 0.7183 - val_accuracy: 0.7788\n",
      "Epoch 8/10\n",
      "23/23 [==============================] - 14s 628ms/step - loss: 0.5733 - accuracy: 0.8109 - val_loss: 0.7029 - val_accuracy: 0.7729\n",
      "Epoch 9/10\n",
      "23/23 [==============================] - 14s 629ms/step - loss: 0.5474 - accuracy: 0.8217 - val_loss: 0.7246 - val_accuracy: 0.7757\n",
      "Epoch 10/10\n",
      "23/23 [==============================] - 15s 633ms/step - loss: 0.5180 - accuracy: 0.8303 - val_loss: 0.7348 - val_accuracy: 0.7681\n"
     ]
    },
    {
     "data": {
      "text/plain": [
       "<keras.src.callbacks.History at 0x7f662e402ec0>"
      ]
     },
     "execution_count": 55,
     "metadata": {},
     "output_type": "execute_result"
    }
   ],
   "source": [
    "model = Sequential()\n",
    "model.add(Embedding(input_dim=max_words, \n",
    "                    output_dim=128, \n",
    "                    input_length=max_len,\n",
    "                    trainable=True,\n",
    "                    mask_zero=True))\n",
    "model.add(LSTM(128))\n",
    "model.add(Activation(\"relu\"))\n",
    "model.add(Dropout(0.2))\n",
    "model.add(Reshape((1,128)))\n",
    "model.add(LSTM(128))\n",
    "model.add(Activation(\"relu\"))\n",
    "model.add(Dropout(0.2))\n",
    "model.add(Flatten())\n",
    "model.add(Dense(10))\n",
    "model.add(Activation(\"relu\"))\n",
    "model.add(Dense(num_classes))\n",
    "model.add(Activation('softmax'))\n",
    "model.compile(loss=SparseCategoricalCrossentropy(),\n",
    "              optimizer='adam',\n",
    "              metrics=['accuracy'])\n",
    "model.fit(X_train, y_train,\n",
    "          batch_size=batch_size,\n",
    "          epochs=epochs,\n",
    "          verbose=1,\n",
    "          validation_split=0.2)"
   ]
  },
  {
   "cell_type": "code",
   "execution_count": 56,
   "metadata": {},
   "outputs": [
    {
     "name": "stdout",
     "output_type": "stream",
     "text": [
      "13/13 [==============================] - 3s 195ms/step - loss: 0.7613 - accuracy: 0.7509\n",
      "Test score: 0.7613303661346436\n",
      "Test accuracy: 0.750887393951416\n"
     ]
    }
   ],
   "source": [
    "score = model.evaluate(X_test, y_test, batch_size=batch_size, verbose=1)\n",
    "metrics_df = pd.concat([metrics_df, pd.DataFrame({\n",
    "    'model': ['LSTM'],\n",
    "    'Test score': [score[0]],\n",
    "    'Test accuracy': [score[1]],\n",
    "})])\n",
    "print('Test score:', score[0])\n",
    "print('Test accuracy:', score[1])"
   ]
  },
  {
   "cell_type": "markdown",
   "metadata": {},
   "source": [
    "GRU"
   ]
  },
  {
   "cell_type": "code",
   "execution_count": 57,
   "metadata": {},
   "outputs": [
    {
     "name": "stdout",
     "output_type": "stream",
     "text": [
      "Epoch 1/10\n",
      "23/23 [==============================] - 17s 564ms/step - loss: 1.5168 - accuracy: 0.6749 - val_loss: 1.2947 - val_accuracy: 0.7155\n",
      "Epoch 2/10\n",
      "23/23 [==============================] - 12s 521ms/step - loss: 1.0397 - accuracy: 0.7030 - val_loss: 0.8704 - val_accuracy: 0.7155\n",
      "Epoch 3/10\n",
      "23/23 [==============================] - 12s 523ms/step - loss: 0.7807 - accuracy: 0.7031 - val_loss: 0.7220 - val_accuracy: 0.7290\n",
      "Epoch 4/10\n",
      "23/23 [==============================] - 12s 526ms/step - loss: 0.6608 - accuracy: 0.7675 - val_loss: 0.6852 - val_accuracy: 0.7708\n",
      "Epoch 5/10\n",
      "23/23 [==============================] - 12s 530ms/step - loss: 0.6118 - accuracy: 0.7856 - val_loss: 0.6864 - val_accuracy: 0.7791\n",
      "Epoch 6/10\n",
      "23/23 [==============================] - 12s 528ms/step - loss: 0.5783 - accuracy: 0.7955 - val_loss: 0.6934 - val_accuracy: 0.7719\n",
      "Epoch 7/10\n",
      "23/23 [==============================] - 12s 530ms/step - loss: 0.5468 - accuracy: 0.8076 - val_loss: 0.7225 - val_accuracy: 0.7722\n",
      "Epoch 8/10\n",
      "23/23 [==============================] - 12s 527ms/step - loss: 0.5126 - accuracy: 0.8228 - val_loss: 0.7462 - val_accuracy: 0.7719\n",
      "Epoch 9/10\n",
      "23/23 [==============================] - 12s 529ms/step - loss: 0.4769 - accuracy: 0.8345 - val_loss: 0.7775 - val_accuracy: 0.7663\n",
      "Epoch 10/10\n",
      "23/23 [==============================] - 12s 529ms/step - loss: 0.4457 - accuracy: 0.8480 - val_loss: 0.7927 - val_accuracy: 0.7608\n"
     ]
    },
    {
     "data": {
      "text/plain": [
       "<keras.src.callbacks.History at 0x7f669b0915d0>"
      ]
     },
     "execution_count": 57,
     "metadata": {},
     "output_type": "execute_result"
    }
   ],
   "source": [
    "model = Sequential()\n",
    "model.add(Embedding(input_dim=max_words, \n",
    "                    output_dim=128, \n",
    "                    input_length=max_len,\n",
    "                    trainable=True,\n",
    "                    mask_zero=True))\n",
    "model.add(GRU(128))\n",
    "model.add(Activation(\"relu\"))\n",
    "model.add(Dropout(0.2))\n",
    "model.add(Reshape((1,128)))\n",
    "model.add(GRU(128))\n",
    "model.add(Activation(\"relu\"))\n",
    "model.add(Dropout(0.2))\n",
    "model.add(Flatten())\n",
    "model.add(Dense(10))\n",
    "model.add(Activation(\"relu\"))\n",
    "model.add(Dense(num_classes))\n",
    "model.add(Activation('softmax'))\n",
    "model.compile(loss=SparseCategoricalCrossentropy(),\n",
    "              optimizer='adam',\n",
    "              metrics=['accuracy'])\n",
    "model.fit(X_train, y_train,\n",
    "          batch_size=batch_size,\n",
    "          epochs=epochs,\n",
    "          verbose=1,\n",
    "          validation_split=0.2)"
   ]
  },
  {
   "cell_type": "code",
   "execution_count": 58,
   "metadata": {},
   "outputs": [
    {
     "name": "stdout",
     "output_type": "stream",
     "text": [
      "13/13 [==============================] - 2s 150ms/step - loss: 0.8087 - accuracy: 0.7491\n",
      "Test score: 0.808746337890625\n",
      "Test accuracy: 0.749112606048584\n"
     ]
    }
   ],
   "source": [
    "score = model.evaluate(X_test, y_test, batch_size=batch_size, verbose=1)\n",
    "metrics_df = pd.concat([metrics_df, pd.DataFrame({\n",
    "    'model': ['GRU'],\n",
    "    'Test score': [score[0]],\n",
    "    'Test accuracy': [score[1]],\n",
    "})])\n",
    "print('Test score:', score[0])\n",
    "print('Test accuracy:', score[1])"
   ]
  },
  {
   "cell_type": "markdown",
   "metadata": {},
   "source": [
    "CNN -> LSTM"
   ]
  },
  {
   "cell_type": "code",
   "execution_count": 59,
   "metadata": {},
   "outputs": [
    {
     "name": "stdout",
     "output_type": "stream",
     "text": [
      "Epoch 1/10\n",
      "23/23 [==============================] - 19s 781ms/step - loss: 1.1732 - accuracy: 0.6741 - val_loss: 0.8876 - val_accuracy: 0.7155\n",
      "Epoch 2/10\n",
      "23/23 [==============================] - 18s 792ms/step - loss: 0.8087 - accuracy: 0.7312 - val_loss: 0.7180 - val_accuracy: 0.7573\n",
      "Epoch 3/10\n",
      "23/23 [==============================] - 18s 785ms/step - loss: 0.6942 - accuracy: 0.7618 - val_loss: 0.6679 - val_accuracy: 0.7701\n",
      "Epoch 4/10\n",
      "23/23 [==============================] - 18s 774ms/step - loss: 0.6258 - accuracy: 0.7805 - val_loss: 0.6547 - val_accuracy: 0.7774\n",
      "Epoch 5/10\n",
      "23/23 [==============================] - 18s 775ms/step - loss: 0.5736 - accuracy: 0.7945 - val_loss: 0.6566 - val_accuracy: 0.7736\n",
      "Epoch 6/10\n",
      "23/23 [==============================] - 18s 775ms/step - loss: 0.5304 - accuracy: 0.8129 - val_loss: 0.6653 - val_accuracy: 0.7691\n",
      "Epoch 7/10\n",
      "23/23 [==============================] - 18s 780ms/step - loss: 0.4837 - accuracy: 0.8320 - val_loss: 0.6979 - val_accuracy: 0.7712\n",
      "Epoch 8/10\n",
      "23/23 [==============================] - 18s 799ms/step - loss: 0.4405 - accuracy: 0.8481 - val_loss: 0.7077 - val_accuracy: 0.7688\n",
      "Epoch 9/10\n",
      "23/23 [==============================] - 18s 771ms/step - loss: 0.4147 - accuracy: 0.8602 - val_loss: 0.7441 - val_accuracy: 0.7698\n",
      "Epoch 10/10\n",
      "23/23 [==============================] - 17s 748ms/step - loss: 0.3908 - accuracy: 0.8721 - val_loss: 0.7653 - val_accuracy: 0.7653\n"
     ]
    },
    {
     "data": {
      "text/plain": [
       "<keras.src.callbacks.History at 0x7f669ca887c0>"
      ]
     },
     "execution_count": 59,
     "metadata": {},
     "output_type": "execute_result"
    }
   ],
   "source": [
    "model = Sequential()\n",
    "model.add(Embedding(input_dim=max_words, \n",
    "                    output_dim=128, \n",
    "                    input_length=max_len,\n",
    "                    trainable=True,\n",
    "                    mask_zero=True))\n",
    "model.add(Conv1D(128, 3))\n",
    "model.add(Activation(\"relu\"))\n",
    "model.add(Dropout(0.2))\n",
    "model.add(LSTM(128))\n",
    "model.add(Activation(\"relu\"))\n",
    "model.add(Dropout(0.2))\n",
    "model.add(Flatten())\n",
    "model.add(Dense(10))\n",
    "model.add(Activation(\"relu\"))\n",
    "model.add(Dense(num_classes))\n",
    "model.add(Activation('softmax'))\n",
    "model.compile(loss=SparseCategoricalCrossentropy(),\n",
    "              optimizer='adam',\n",
    "              metrics=['accuracy'])\n",
    "model.fit(X_train, y_train,\n",
    "          batch_size=batch_size,\n",
    "          epochs=epochs,\n",
    "          verbose=1,\n",
    "          validation_split=0.2)"
   ]
  },
  {
   "cell_type": "code",
   "execution_count": 60,
   "metadata": {},
   "outputs": [
    {
     "name": "stdout",
     "output_type": "stream",
     "text": [
      "13/13 [==============================] - 2s 186ms/step - loss: 0.7966 - accuracy: 0.7460\n",
      "Test score: 0.7965673804283142\n",
      "Test accuracy: 0.7460471391677856\n"
     ]
    }
   ],
   "source": [
    "score = model.evaluate(X_test, y_test, batch_size=batch_size, verbose=1)\n",
    "metrics_df = pd.concat([metrics_df, pd.DataFrame({\n",
    "    'model': ['CNN -> LSTM'],\n",
    "    'Test score': [score[0]],\n",
    "    'Test accuracy': [score[1]],\n",
    "})])\n",
    "print('Test score:', score[0])\n",
    "print('Test accuracy:', score[1])"
   ]
  },
  {
   "cell_type": "markdown",
   "metadata": {},
   "source": [
    "CNN -> GRU"
   ]
  },
  {
   "cell_type": "code",
   "execution_count": 61,
   "metadata": {},
   "outputs": [
    {
     "name": "stdout",
     "output_type": "stream",
     "text": [
      "Epoch 1/10\n",
      " 5/23 [=====>........................] - ETA: 9s - loss: 1.5730 - accuracy: 0.5820 "
     ]
    },
    {
     "name": "stdout",
     "output_type": "stream",
     "text": [
      "23/23 [==============================] - 16s 658ms/step - loss: 1.1976 - accuracy: 0.6748 - val_loss: 0.8108 - val_accuracy: 0.7155\n",
      "Epoch 2/10\n",
      "23/23 [==============================] - 16s 718ms/step - loss: 0.7976 - accuracy: 0.7033 - val_loss: 0.7338 - val_accuracy: 0.7221\n",
      "Epoch 3/10\n",
      "23/23 [==============================] - 15s 670ms/step - loss: 0.7151 - accuracy: 0.7417 - val_loss: 0.6897 - val_accuracy: 0.7611\n",
      "Epoch 4/10\n",
      "23/23 [==============================] - 15s 664ms/step - loss: 0.6403 - accuracy: 0.7758 - val_loss: 0.6633 - val_accuracy: 0.7656\n",
      "Epoch 5/10\n",
      "23/23 [==============================] - 15s 671ms/step - loss: 0.5771 - accuracy: 0.7956 - val_loss: 0.6742 - val_accuracy: 0.7674\n",
      "Epoch 6/10\n",
      "23/23 [==============================] - 15s 670ms/step - loss: 0.5325 - accuracy: 0.8105 - val_loss: 0.7034 - val_accuracy: 0.7639\n",
      "Epoch 7/10\n",
      "23/23 [==============================] - 15s 663ms/step - loss: 0.4960 - accuracy: 0.8249 - val_loss: 0.7241 - val_accuracy: 0.7587\n",
      "Epoch 8/10\n",
      "23/23 [==============================] - 15s 660ms/step - loss: 0.4663 - accuracy: 0.8346 - val_loss: 0.7572 - val_accuracy: 0.7567\n",
      "Epoch 9/10\n",
      "23/23 [==============================] - 15s 664ms/step - loss: 0.4383 - accuracy: 0.8438 - val_loss: 0.7728 - val_accuracy: 0.7487\n",
      "Epoch 10/10\n",
      "23/23 [==============================] - 15s 654ms/step - loss: 0.4124 - accuracy: 0.8564 - val_loss: 0.7997 - val_accuracy: 0.7580\n"
     ]
    },
    {
     "data": {
      "text/plain": [
       "<keras.src.callbacks.History at 0x7f669af3cc10>"
      ]
     },
     "execution_count": 61,
     "metadata": {},
     "output_type": "execute_result"
    }
   ],
   "source": [
    "model = Sequential()\n",
    "model.add(Embedding(input_dim=max_words, \n",
    "                    output_dim=128, \n",
    "                    input_length=max_len,\n",
    "                    trainable=True,\n",
    "                    mask_zero=True))\n",
    "model.add(Conv1D(128, 3))\n",
    "model.add(Activation(\"relu\"))\n",
    "model.add(Dropout(0.2))\n",
    "model.add(GRU(128))\n",
    "model.add(Activation(\"relu\"))\n",
    "model.add(Dropout(0.2))\n",
    "model.add(Flatten())\n",
    "model.add(Dense(10))\n",
    "model.add(Activation(\"relu\"))\n",
    "model.add(Dense(num_classes))\n",
    "model.add(Activation('softmax'))\n",
    "model.compile(loss=SparseCategoricalCrossentropy(),\n",
    "              optimizer='adam',\n",
    "              metrics=['accuracy'])\n",
    "model.fit(X_train, y_train,\n",
    "          batch_size=batch_size,\n",
    "          epochs=epochs,\n",
    "          verbose=1,\n",
    "          validation_split=0.2)"
   ]
  },
  {
   "cell_type": "code",
   "execution_count": 62,
   "metadata": {},
   "outputs": [
    {
     "name": "stdout",
     "output_type": "stream",
     "text": [
      "13/13 [==============================] - 2s 188ms/step - loss: 0.8226 - accuracy: 0.7422\n",
      "Test score: 0.8225601315498352\n",
      "Test accuracy: 0.7421749234199524\n"
     ]
    }
   ],
   "source": [
    "score = model.evaluate(X_test, y_test, batch_size=batch_size, verbose=1)\n",
    "metrics_df = pd.concat([metrics_df, pd.DataFrame({\n",
    "    'model': ['CNN -> GRU'],\n",
    "    'Test score': [score[0]],\n",
    "    'Test accuracy': [score[1]],\n",
    "})])\n",
    "print('Test score:', score[0])\n",
    "print('Test accuracy:', score[1])"
   ]
  },
  {
   "cell_type": "markdown",
   "metadata": {},
   "source": [
    "CNN -> SimpleRNN"
   ]
  },
  {
   "cell_type": "code",
   "execution_count": 63,
   "metadata": {},
   "outputs": [
    {
     "name": "stdout",
     "output_type": "stream",
     "text": [
      "Epoch 1/10\n",
      " 9/23 [==========>...................] - ETA: 5s - loss: 1.5440 - accuracy: 0.3123"
     ]
    },
    {
     "name": "stdout",
     "output_type": "stream",
     "text": [
      "23/23 [==============================] - 11s 433ms/step - loss: 1.2696 - accuracy: 0.5504 - val_loss: 0.9163 - val_accuracy: 0.7280\n",
      "Epoch 2/10\n",
      "23/23 [==============================] - 9s 405ms/step - loss: 0.8889 - accuracy: 0.7223 - val_loss: 0.7991 - val_accuracy: 0.7394\n",
      "Epoch 3/10\n",
      "23/23 [==============================] - 9s 397ms/step - loss: 0.7690 - accuracy: 0.7503 - val_loss: 0.7274 - val_accuracy: 0.7594\n",
      "Epoch 4/10\n",
      "23/23 [==============================] - 9s 390ms/step - loss: 0.6801 - accuracy: 0.7695 - val_loss: 0.6847 - val_accuracy: 0.7663\n",
      "Epoch 5/10\n",
      "23/23 [==============================] - 9s 387ms/step - loss: 0.6165 - accuracy: 0.7904 - val_loss: 0.6720 - val_accuracy: 0.7701\n",
      "Epoch 6/10\n",
      "23/23 [==============================] - 10s 422ms/step - loss: 0.5662 - accuracy: 0.8049 - val_loss: 0.6781 - val_accuracy: 0.7743\n",
      "Epoch 7/10\n",
      "23/23 [==============================] - 9s 400ms/step - loss: 0.5205 - accuracy: 0.8172 - val_loss: 0.6640 - val_accuracy: 0.7750\n",
      "Epoch 8/10\n",
      "23/23 [==============================] - 9s 402ms/step - loss: 0.4737 - accuracy: 0.8354 - val_loss: 0.6821 - val_accuracy: 0.7729\n",
      "Epoch 9/10\n",
      "23/23 [==============================] - 9s 397ms/step - loss: 0.4336 - accuracy: 0.8517 - val_loss: 0.6957 - val_accuracy: 0.7750\n",
      "Epoch 10/10\n",
      "23/23 [==============================] - 9s 414ms/step - loss: 0.3913 - accuracy: 0.8730 - val_loss: 0.7295 - val_accuracy: 0.7656\n"
     ]
    },
    {
     "data": {
      "text/plain": [
       "<keras.src.callbacks.History at 0x7f669a920b80>"
      ]
     },
     "execution_count": 63,
     "metadata": {},
     "output_type": "execute_result"
    }
   ],
   "source": [
    "model = Sequential()\n",
    "model.add(Embedding(input_dim=max_words, \n",
    "                    output_dim=128, \n",
    "                    input_length=max_len,\n",
    "                    trainable=True,\n",
    "                    mask_zero=True))\n",
    "model.add(Conv1D(128, 3))\n",
    "model.add(Activation(\"relu\"))\n",
    "model.add(Dropout(0.2))\n",
    "model.add(SimpleRNN(128))\n",
    "model.add(Activation(\"relu\"))\n",
    "model.add(Dropout(0.2))\n",
    "model.add(Flatten())\n",
    "model.add(Dense(10))\n",
    "model.add(Activation(\"relu\"))\n",
    "model.add(Dense(num_classes))\n",
    "model.add(Activation('softmax'))\n",
    "model.compile(loss=SparseCategoricalCrossentropy(),\n",
    "              optimizer='adam',\n",
    "              metrics=['accuracy'])\n",
    "model.fit(X_train, y_train,\n",
    "          batch_size=batch_size,\n",
    "          epochs=epochs,\n",
    "          verbose=1,\n",
    "          validation_split=0.2)"
   ]
  },
  {
   "cell_type": "code",
   "execution_count": 64,
   "metadata": {},
   "outputs": [
    {
     "name": "stdout",
     "output_type": "stream",
     "text": [
      "13/13 [==============================] - 1s 109ms/step - loss: 0.7766 - accuracy: 0.7498\n",
      "Test score: 0.7766216397285461\n",
      "Test accuracy: 0.7497580051422119\n"
     ]
    }
   ],
   "source": [
    "score = model.evaluate(X_test, y_test, batch_size=batch_size, verbose=1)\n",
    "metrics_df = pd.concat([metrics_df, pd.DataFrame({\n",
    "    'model': ['CNN -> SimpleRNN'],\n",
    "    'Test score': [score[0]],\n",
    "    'Test accuracy': [score[1]],\n",
    "})])\n",
    "print('Test score:', score[0])\n",
    "print('Test accuracy:', score[1])"
   ]
  },
  {
   "cell_type": "markdown",
   "metadata": {},
   "source": [
    "SimpleRNN -> CNN"
   ]
  },
  {
   "cell_type": "code",
   "execution_count": 65,
   "metadata": {},
   "outputs": [
    {
     "name": "stdout",
     "output_type": "stream",
     "text": [
      "Epoch 1/10\n",
      "23/23 [==============================] - 15s 616ms/step - loss: 1.2615 - accuracy: 0.6833 - val_loss: 0.8706 - val_accuracy: 0.7214\n",
      "Epoch 2/10\n",
      "23/23 [==============================] - 14s 611ms/step - loss: 0.7715 - accuracy: 0.7398 - val_loss: 0.7070 - val_accuracy: 0.7584\n",
      "Epoch 3/10\n",
      "23/23 [==============================] - 14s 597ms/step - loss: 0.6440 - accuracy: 0.7688 - val_loss: 0.6758 - val_accuracy: 0.7681\n",
      "Epoch 4/10\n",
      "23/23 [==============================] - 14s 616ms/step - loss: 0.5796 - accuracy: 0.7905 - val_loss: 0.7154 - val_accuracy: 0.7684\n",
      "Epoch 5/10\n",
      "23/23 [==============================] - 13s 578ms/step - loss: 0.5358 - accuracy: 0.8026 - val_loss: 0.7344 - val_accuracy: 0.7615\n",
      "Epoch 6/10\n",
      "23/23 [==============================] - 12s 538ms/step - loss: 0.4931 - accuracy: 0.8224 - val_loss: 0.7974 - val_accuracy: 0.7598\n",
      "Epoch 7/10\n",
      "23/23 [==============================] - 12s 536ms/step - loss: 0.4560 - accuracy: 0.8320 - val_loss: 0.8708 - val_accuracy: 0.7560\n",
      "Epoch 8/10\n",
      "23/23 [==============================] - 14s 617ms/step - loss: 0.4269 - accuracy: 0.8432 - val_loss: 0.9438 - val_accuracy: 0.7504\n",
      "Epoch 9/10\n",
      "23/23 [==============================] - 14s 608ms/step - loss: 0.3934 - accuracy: 0.8579 - val_loss: 1.0195 - val_accuracy: 0.7518\n",
      "Epoch 10/10\n",
      "23/23 [==============================] - 14s 602ms/step - loss: 0.3555 - accuracy: 0.8724 - val_loss: 1.1255 - val_accuracy: 0.7411\n"
     ]
    },
    {
     "data": {
      "text/plain": [
       "<keras.src.callbacks.History at 0x7f65cc2e5bd0>"
      ]
     },
     "execution_count": 65,
     "metadata": {},
     "output_type": "execute_result"
    }
   ],
   "source": [
    "model = Sequential()\n",
    "model.add(Embedding(input_dim=max_words, \n",
    "                    output_dim=128, \n",
    "                    input_length=max_len,\n",
    "                    trainable=True,\n",
    "                    mask_zero=True))\n",
    "model.add(SimpleRNN(128, return_sequences=True))\n",
    "model.add(Activation(\"relu\"))\n",
    "model.add(Dropout(0.2))\n",
    "model.add(Conv1D(128, 3))\n",
    "model.add(Activation(\"relu\"))\n",
    "model.add(Dropout(0.2))\n",
    "model.add(Flatten())\n",
    "model.add(Dense(10))\n",
    "model.add(Activation(\"relu\"))\n",
    "model.add(Dense(num_classes))\n",
    "model.add(Activation('softmax'))\n",
    "model.compile(loss=SparseCategoricalCrossentropy(),\n",
    "              optimizer='adam',\n",
    "              metrics=['accuracy'])\n",
    "model.fit(X_train, y_train,\n",
    "          batch_size=batch_size,\n",
    "          epochs=epochs,\n",
    "          verbose=1,\n",
    "          validation_split=0.2)"
   ]
  },
  {
   "cell_type": "code",
   "execution_count": 66,
   "metadata": {},
   "outputs": [
    {
     "name": "stdout",
     "output_type": "stream",
     "text": [
      "13/13 [==============================] - 2s 145ms/step - loss: 1.1344 - accuracy: 0.7247\n",
      "Test score: 1.1343705654144287\n",
      "Test accuracy: 0.7247499227523804\n"
     ]
    }
   ],
   "source": [
    "score = model.evaluate(X_test, y_test, batch_size=batch_size, verbose=1)\n",
    "metrics_df = pd.concat([metrics_df, pd.DataFrame({\n",
    "    'model': ['SimpleRNN -> CNN'],\n",
    "    'Test score': [score[0]],\n",
    "    'Test accuracy': [score[1]],\n",
    "})])\n",
    "print('Test score:', score[0])\n",
    "print('Test accuracy:', score[1])"
   ]
  },
  {
   "cell_type": "markdown",
   "metadata": {},
   "source": [
    "LSTM -> CNN"
   ]
  },
  {
   "cell_type": "code",
   "execution_count": 67,
   "metadata": {},
   "outputs": [
    {
     "name": "stdout",
     "output_type": "stream",
     "text": [
      "Epoch 1/10\n",
      "23/23 [==============================] - 25s 983ms/step - loss: 1.2879 - accuracy: 0.6771 - val_loss: 1.0435 - val_accuracy: 0.7159\n",
      "Epoch 2/10\n",
      "23/23 [==============================] - 22s 968ms/step - loss: 0.9297 - accuracy: 0.7327 - val_loss: 0.8308 - val_accuracy: 0.7567\n",
      "Epoch 3/10\n",
      "23/23 [==============================] - 25s 1s/step - loss: 0.7578 - accuracy: 0.7648 - val_loss: 0.7586 - val_accuracy: 0.7653\n",
      "Epoch 4/10\n",
      "23/23 [==============================] - 22s 977ms/step - loss: 0.6821 - accuracy: 0.7801 - val_loss: 0.7525 - val_accuracy: 0.7698\n",
      "Epoch 5/10\n",
      "23/23 [==============================] - 21s 920ms/step - loss: 0.6282 - accuracy: 0.7921 - val_loss: 0.7637 - val_accuracy: 0.7739\n",
      "Epoch 6/10\n",
      "23/23 [==============================] - 24s 1s/step - loss: 0.5842 - accuracy: 0.8026 - val_loss: 0.7568 - val_accuracy: 0.7712\n",
      "Epoch 7/10\n",
      "23/23 [==============================] - 25s 1s/step - loss: 0.5524 - accuracy: 0.8108 - val_loss: 0.7525 - val_accuracy: 0.7708\n",
      "Epoch 8/10\n",
      "23/23 [==============================] - 22s 963ms/step - loss: 0.5206 - accuracy: 0.8224 - val_loss: 0.7784 - val_accuracy: 0.7708\n",
      "Epoch 9/10\n",
      "23/23 [==============================] - 21s 924ms/step - loss: 0.4932 - accuracy: 0.8284 - val_loss: 0.7902 - val_accuracy: 0.7677\n",
      "Epoch 10/10\n",
      "23/23 [==============================] - 21s 924ms/step - loss: 0.4780 - accuracy: 0.8358 - val_loss: 0.8438 - val_accuracy: 0.7677\n"
     ]
    },
    {
     "data": {
      "text/plain": [
       "<keras.src.callbacks.History at 0x7f66171102e0>"
      ]
     },
     "execution_count": 67,
     "metadata": {},
     "output_type": "execute_result"
    }
   ],
   "source": [
    "model = Sequential()\n",
    "model.add(Embedding(input_dim=max_words, \n",
    "                    output_dim=128, \n",
    "                    input_length=max_len,\n",
    "                    trainable=True,\n",
    "                    mask_zero=True))\n",
    "model.add(LSTM(128, return_sequences=True))\n",
    "model.add(Activation(\"relu\"))\n",
    "model.add(Dropout(0.2))\n",
    "model.add(Conv1D(128, 3))\n",
    "model.add(Activation(\"relu\"))\n",
    "model.add(Dropout(0.2))\n",
    "model.add(Flatten())\n",
    "model.add(Dense(10))\n",
    "model.add(Activation(\"relu\"))\n",
    "model.add(Dense(num_classes))\n",
    "model.add(Activation('softmax'))\n",
    "model.compile(loss=SparseCategoricalCrossentropy(),\n",
    "              optimizer='adam',\n",
    "              metrics=['accuracy'])\n",
    "model.fit(X_train, y_train,\n",
    "          batch_size=batch_size,\n",
    "          epochs=epochs,\n",
    "          verbose=1,\n",
    "          validation_split=0.2)"
   ]
  },
  {
   "cell_type": "code",
   "execution_count": 68,
   "metadata": {},
   "outputs": [
    {
     "name": "stdout",
     "output_type": "stream",
     "text": [
      "13/13 [==============================] - 3s 241ms/step - loss: 0.8934 - accuracy: 0.7460\n",
      "Test score: 0.8934483528137207\n",
      "Test accuracy: 0.7460471391677856\n"
     ]
    }
   ],
   "source": [
    "score = model.evaluate(X_test, y_test, batch_size=batch_size, verbose=1)\n",
    "metrics_df = pd.concat([metrics_df, pd.DataFrame({\n",
    "    'model': ['LSTM -> CNN'],\n",
    "    'Test score': [score[0]],\n",
    "    'Test accuracy': [score[1]],\n",
    "})])\n",
    "print('Test score:', score[0])\n",
    "print('Test accuracy:', score[1])"
   ]
  },
  {
   "cell_type": "markdown",
   "metadata": {},
   "source": [
    "GRU -> CNN"
   ]
  },
  {
   "cell_type": "code",
   "execution_count": 69,
   "metadata": {},
   "outputs": [
    {
     "name": "stdout",
     "output_type": "stream",
     "text": [
      "Epoch 1/10\n"
     ]
    },
    {
     "name": "stdout",
     "output_type": "stream",
     "text": [
      "23/23 [==============================] - 23s 861ms/step - loss: 1.2376 - accuracy: 0.6668 - val_loss: 0.9101 - val_accuracy: 0.7273\n",
      "Epoch 2/10\n",
      "23/23 [==============================] - 19s 816ms/step - loss: 0.8672 - accuracy: 0.7308 - val_loss: 0.7740 - val_accuracy: 0.7532\n",
      "Epoch 3/10\n",
      "23/23 [==============================] - 19s 826ms/step - loss: 0.7098 - accuracy: 0.7677 - val_loss: 0.7134 - val_accuracy: 0.7684\n",
      "Epoch 4/10\n",
      "23/23 [==============================] - 19s 823ms/step - loss: 0.6071 - accuracy: 0.7901 - val_loss: 0.7095 - val_accuracy: 0.7701\n",
      "Epoch 5/10\n",
      "23/23 [==============================] - 20s 875ms/step - loss: 0.5410 - accuracy: 0.8026 - val_loss: 0.7164 - val_accuracy: 0.7722\n",
      "Epoch 6/10\n",
      "23/23 [==============================] - 19s 819ms/step - loss: 0.4949 - accuracy: 0.8122 - val_loss: 0.7756 - val_accuracy: 0.7688\n",
      "Epoch 7/10\n",
      "23/23 [==============================] - 19s 818ms/step - loss: 0.4620 - accuracy: 0.8288 - val_loss: 0.7661 - val_accuracy: 0.7643\n",
      "Epoch 8/10\n",
      "23/23 [==============================] - 19s 825ms/step - loss: 0.4414 - accuracy: 0.8479 - val_loss: 0.8531 - val_accuracy: 0.7656\n",
      "Epoch 9/10\n",
      "23/23 [==============================] - 19s 829ms/step - loss: 0.4211 - accuracy: 0.8549 - val_loss: 0.8584 - val_accuracy: 0.7656\n",
      "Epoch 10/10\n",
      "23/23 [==============================] - 19s 830ms/step - loss: 0.4056 - accuracy: 0.8603 - val_loss: 0.9093 - val_accuracy: 0.7618\n"
     ]
    },
    {
     "data": {
      "text/plain": [
       "<keras.src.callbacks.History at 0x7f6616e50550>"
      ]
     },
     "execution_count": 69,
     "metadata": {},
     "output_type": "execute_result"
    }
   ],
   "source": [
    "model = Sequential()\n",
    "model.add(Embedding(input_dim=max_words, \n",
    "                    output_dim=128, \n",
    "                    input_length=max_len,\n",
    "                    trainable=True,\n",
    "                    mask_zero=True))\n",
    "model.add(GRU(128, return_sequences=True))\n",
    "model.add(Activation(\"relu\"))\n",
    "model.add(Dropout(0.2))\n",
    "model.add(Conv1D(128, 3))\n",
    "model.add(Activation(\"relu\"))\n",
    "model.add(Dropout(0.2))\n",
    "model.add(Flatten())\n",
    "model.add(Dense(10))\n",
    "model.add(Activation(\"relu\"))\n",
    "model.add(Dense(num_classes))\n",
    "model.add(Activation('softmax'))\n",
    "model.compile(loss=SparseCategoricalCrossentropy(),\n",
    "              optimizer='adam',\n",
    "              metrics=['accuracy'])\n",
    "model.fit(X_train, y_train,\n",
    "          batch_size=batch_size,\n",
    "          epochs=epochs,\n",
    "          verbose=1,\n",
    "          validation_split=0.2)"
   ]
  },
  {
   "cell_type": "code",
   "execution_count": 70,
   "metadata": {},
   "outputs": [
    {
     "name": "stdout",
     "output_type": "stream",
     "text": [
      "13/13 [==============================] - 3s 205ms/step - loss: 0.9782 - accuracy: 0.7377\n",
      "Test score: 0.9781825542449951\n",
      "Test accuracy: 0.7376573085784912\n"
     ]
    }
   ],
   "source": [
    "score = model.evaluate(X_test, y_test, batch_size=batch_size, verbose=1)\n",
    "metrics_df = pd.concat([metrics_df, pd.DataFrame({\n",
    "    'model': ['GRU -> CNN'],\n",
    "    'Test score': [score[0]],\n",
    "    'Test accuracy': [score[1]],\n",
    "})])\n",
    "print('Test score:', score[0])\n",
    "print('Test accuracy:', score[1])"
   ]
  },
  {
   "cell_type": "markdown",
   "metadata": {},
   "source": [
    "Итоги"
   ]
  },
  {
   "cell_type": "code",
   "execution_count": 71,
   "metadata": {},
   "outputs": [
    {
     "data": {
      "text/html": [
       "<div>\n",
       "<style scoped>\n",
       "    .dataframe tbody tr th:only-of-type {\n",
       "        vertical-align: middle;\n",
       "    }\n",
       "\n",
       "    .dataframe tbody tr th {\n",
       "        vertical-align: top;\n",
       "    }\n",
       "\n",
       "    .dataframe thead th {\n",
       "        text-align: right;\n",
       "    }\n",
       "</style>\n",
       "<table border=\"1\" class=\"dataframe\">\n",
       "  <thead>\n",
       "    <tr style=\"text-align: right;\">\n",
       "      <th></th>\n",
       "      <th>model</th>\n",
       "      <th>Test score</th>\n",
       "      <th>Test accuracy</th>\n",
       "    </tr>\n",
       "  </thead>\n",
       "  <tbody>\n",
       "    <tr>\n",
       "      <th>0</th>\n",
       "      <td>SimpleRNN -&gt; CNN</td>\n",
       "      <td>1.134371</td>\n",
       "      <td>0.724750</td>\n",
       "    </tr>\n",
       "    <tr>\n",
       "      <th>0</th>\n",
       "      <td>SimpleRNN</td>\n",
       "      <td>0.980544</td>\n",
       "      <td>0.735237</td>\n",
       "    </tr>\n",
       "    <tr>\n",
       "      <th>0</th>\n",
       "      <td>GRU -&gt; CNN</td>\n",
       "      <td>0.978183</td>\n",
       "      <td>0.737657</td>\n",
       "    </tr>\n",
       "    <tr>\n",
       "      <th>0</th>\n",
       "      <td>LSTM -&gt; CNN</td>\n",
       "      <td>0.893448</td>\n",
       "      <td>0.746047</td>\n",
       "    </tr>\n",
       "    <tr>\n",
       "      <th>0</th>\n",
       "      <td>CNN -&gt; GRU</td>\n",
       "      <td>0.822560</td>\n",
       "      <td>0.742175</td>\n",
       "    </tr>\n",
       "    <tr>\n",
       "      <th>0</th>\n",
       "      <td>GRU</td>\n",
       "      <td>0.808746</td>\n",
       "      <td>0.749113</td>\n",
       "    </tr>\n",
       "    <tr>\n",
       "      <th>0</th>\n",
       "      <td>CNN -&gt; LSTM</td>\n",
       "      <td>0.796567</td>\n",
       "      <td>0.746047</td>\n",
       "    </tr>\n",
       "    <tr>\n",
       "      <th>0</th>\n",
       "      <td>CNN -&gt; SimpleRNN</td>\n",
       "      <td>0.776622</td>\n",
       "      <td>0.749758</td>\n",
       "    </tr>\n",
       "    <tr>\n",
       "      <th>0</th>\n",
       "      <td>CNN</td>\n",
       "      <td>0.774088</td>\n",
       "      <td>0.728299</td>\n",
       "    </tr>\n",
       "    <tr>\n",
       "      <th>0</th>\n",
       "      <td>LSTM</td>\n",
       "      <td>0.761330</td>\n",
       "      <td>0.750887</td>\n",
       "    </tr>\n",
       "  </tbody>\n",
       "</table>\n",
       "</div>"
      ],
      "text/plain": [
       "              model  Test score  Test accuracy\n",
       "0  SimpleRNN -> CNN    1.134371       0.724750\n",
       "0         SimpleRNN    0.980544       0.735237\n",
       "0        GRU -> CNN    0.978183       0.737657\n",
       "0       LSTM -> CNN    0.893448       0.746047\n",
       "0        CNN -> GRU    0.822560       0.742175\n",
       "0               GRU    0.808746       0.749113\n",
       "0       CNN -> LSTM    0.796567       0.746047\n",
       "0  CNN -> SimpleRNN    0.776622       0.749758\n",
       "0               CNN    0.774088       0.728299\n",
       "0              LSTM    0.761330       0.750887"
      ]
     },
     "execution_count": 71,
     "metadata": {},
     "output_type": "execute_result"
    }
   ],
   "source": [
    "metrics_df.sort_values(by='Test score', ascending=False)"
   ]
  },
  {
   "cell_type": "code",
   "execution_count": 72,
   "metadata": {},
   "outputs": [
    {
     "data": {
      "text/html": [
       "<div>\n",
       "<style scoped>\n",
       "    .dataframe tbody tr th:only-of-type {\n",
       "        vertical-align: middle;\n",
       "    }\n",
       "\n",
       "    .dataframe tbody tr th {\n",
       "        vertical-align: top;\n",
       "    }\n",
       "\n",
       "    .dataframe thead th {\n",
       "        text-align: right;\n",
       "    }\n",
       "</style>\n",
       "<table border=\"1\" class=\"dataframe\">\n",
       "  <thead>\n",
       "    <tr style=\"text-align: right;\">\n",
       "      <th></th>\n",
       "      <th>model</th>\n",
       "      <th>Test score</th>\n",
       "      <th>Test accuracy</th>\n",
       "    </tr>\n",
       "  </thead>\n",
       "  <tbody>\n",
       "    <tr>\n",
       "      <th>0</th>\n",
       "      <td>LSTM</td>\n",
       "      <td>0.761330</td>\n",
       "      <td>0.750887</td>\n",
       "    </tr>\n",
       "    <tr>\n",
       "      <th>0</th>\n",
       "      <td>CNN -&gt; SimpleRNN</td>\n",
       "      <td>0.776622</td>\n",
       "      <td>0.749758</td>\n",
       "    </tr>\n",
       "    <tr>\n",
       "      <th>0</th>\n",
       "      <td>GRU</td>\n",
       "      <td>0.808746</td>\n",
       "      <td>0.749113</td>\n",
       "    </tr>\n",
       "    <tr>\n",
       "      <th>0</th>\n",
       "      <td>CNN -&gt; LSTM</td>\n",
       "      <td>0.796567</td>\n",
       "      <td>0.746047</td>\n",
       "    </tr>\n",
       "    <tr>\n",
       "      <th>0</th>\n",
       "      <td>LSTM -&gt; CNN</td>\n",
       "      <td>0.893448</td>\n",
       "      <td>0.746047</td>\n",
       "    </tr>\n",
       "    <tr>\n",
       "      <th>0</th>\n",
       "      <td>CNN -&gt; GRU</td>\n",
       "      <td>0.822560</td>\n",
       "      <td>0.742175</td>\n",
       "    </tr>\n",
       "    <tr>\n",
       "      <th>0</th>\n",
       "      <td>GRU -&gt; CNN</td>\n",
       "      <td>0.978183</td>\n",
       "      <td>0.737657</td>\n",
       "    </tr>\n",
       "    <tr>\n",
       "      <th>0</th>\n",
       "      <td>SimpleRNN</td>\n",
       "      <td>0.980544</td>\n",
       "      <td>0.735237</td>\n",
       "    </tr>\n",
       "    <tr>\n",
       "      <th>0</th>\n",
       "      <td>CNN</td>\n",
       "      <td>0.774088</td>\n",
       "      <td>0.728299</td>\n",
       "    </tr>\n",
       "    <tr>\n",
       "      <th>0</th>\n",
       "      <td>SimpleRNN -&gt; CNN</td>\n",
       "      <td>1.134371</td>\n",
       "      <td>0.724750</td>\n",
       "    </tr>\n",
       "  </tbody>\n",
       "</table>\n",
       "</div>"
      ],
      "text/plain": [
       "              model  Test score  Test accuracy\n",
       "0              LSTM    0.761330       0.750887\n",
       "0  CNN -> SimpleRNN    0.776622       0.749758\n",
       "0               GRU    0.808746       0.749113\n",
       "0       CNN -> LSTM    0.796567       0.746047\n",
       "0       LSTM -> CNN    0.893448       0.746047\n",
       "0        CNN -> GRU    0.822560       0.742175\n",
       "0        GRU -> CNN    0.978183       0.737657\n",
       "0         SimpleRNN    0.980544       0.735237\n",
       "0               CNN    0.774088       0.728299\n",
       "0  SimpleRNN -> CNN    1.134371       0.724750"
      ]
     },
     "execution_count": 72,
     "metadata": {},
     "output_type": "execute_result"
    }
   ],
   "source": [
    "metrics_df.sort_values(by='Test accuracy', ascending=False)"
   ]
  }
 ],
 "metadata": {
  "kernelspec": {
   "display_name": "Python 3",
   "language": "python",
   "name": "python3"
  },
  "language_info": {
   "codemirror_mode": {
    "name": "ipython",
    "version": 3
   },
   "file_extension": ".py",
   "mimetype": "text/x-python",
   "name": "python",
   "nbconvert_exporter": "python",
   "pygments_lexer": "ipython3",
   "version": "3.10.12"
  }
 },
 "nbformat": 4,
 "nbformat_minor": 2
}
