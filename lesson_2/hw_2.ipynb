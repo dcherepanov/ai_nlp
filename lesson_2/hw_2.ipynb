{
 "cells": [
  {
   "cell_type": "markdown",
   "metadata": {},
   "source": [
    "Все материалы для выполения дз в sem2.ipynb он находится в архиве Lesson-2.zip\n",
    "для скачивания данных пользуйтесь этими ссылками\n",
    "\n",
    "https://disk.yandex.ru/i/v5HM-ENiGXZVpQ\n",
    "https://disk.yandex.ru/i/koR5eMCToCZS2Q\n",
    "\n",
    "Задание 1.\n",
    "Задание: обучите три классификатора:\n",
    "\n",
    "1) на токенах с высокой частотой\n",
    "\n",
    "2) на токенах со средней частотой\n",
    "\n",
    "3) на токенах с низкой частотой\n",
    "\n",
    "Сравните полученные результаты, оцените какие токены наиболее важные для классификации.\n",
    "\n",
    "Задание 2.\n",
    "найти фичи с наибольшей значимостью, и вывести их\n",
    "\n",
    "Задание 3.\n",
    "1) сравнить count/tf-idf/hashing векторайзеры/полносвязанную сетку (построить classification_report)\n",
    "\n",
    "2) подобрать оптимальный размер для hashing векторайзера\n",
    "\n",
    "3) убедиться что для сетки нет переобучения"
   ]
  },
  {
   "cell_type": "code",
   "execution_count": 1,
   "metadata": {},
   "outputs": [],
   "source": [
    "import pandas as pd\n",
    "import numpy as np\n",
    "import re\n",
    "from sklearn.metrics import *\n",
    "from sklearn.model_selection import train_test_split\n",
    "from nltk import word_tokenize\n",
    "from sklearn.linear_model import LogisticRegression\n",
    "from sklearn.feature_extraction.text import CountVectorizer, TfidfVectorizer, HashingVectorizer\n",
    "from collections import Counter\n",
    "from string import punctuation\n",
    "import matplotlib.pyplot as plt\n",
    "%matplotlib inline\n",
    "import nltk\n",
    "\n",
    "nltk.download('punkt', quiet=True)\n",
    "\n",
    "# Отключить вывод ошибок\n",
    "import warnings\n",
    "warnings.filterwarnings('ignore')\n",
    "warnings.simplefilter('ignore')"
   ]
  },
  {
   "cell_type": "code",
   "execution_count": 2,
   "metadata": {},
   "outputs": [],
   "source": [
    "positive = pd.read_csv('/media/dmitriy/Disk/Downloads/ai_nlp_hw_data/hw_2/positive.csv', sep=';', usecols=[3], names=['text'])\n",
    "positive['label'] = ['positive'] * len(positive)\n",
    "negative = pd.read_csv('/media/dmitriy/Disk/Downloads/ai_nlp_hw_data/hw_2/negative.csv', sep=';', usecols=[3], names=['text'])\n",
    "negative['label'] = ['negative'] * len(negative)\n",
    "df = pd.concat([positive, negative])"
   ]
  },
  {
   "cell_type": "code",
   "execution_count": 3,
   "metadata": {},
   "outputs": [],
   "source": [
    "def delete_pattern(text, pattern):\n",
    "    return re.sub(pattern, ' ', text)"
   ]
  },
  {
   "cell_type": "code",
   "execution_count": 4,
   "metadata": {},
   "outputs": [],
   "source": [
    "df['text'] = df['text'].apply(lambda x: x.lower())\n",
    "# Замена пунктуации на пробелы\n",
    "pattern_for_punctuation = r'[^\\w\\s]'\n",
    "df['text'] = df['text'].apply(lambda x: delete_pattern(x, pattern_for_punctuation))\n",
    "# Замена спец. символов на пробелы \n",
    "pattern_for_special_symb = r'[^a-zA-Z0-9]'\n",
    "df['text'] = df['text'].apply(lambda x: delete_pattern(x, pattern_for_special_symb))\n",
    "# Замена чисел на пробелы \n",
    "pattern_for_numbers = r'[^a-zA-Z]'\n",
    "df['text'] = df['text'].apply(lambda x: delete_pattern(x, pattern_for_numbers))\n",
    "# Удаление лишних пробелов\n",
    "df['text'] = df['text'].apply(lambda x: ' '.join(x.split()))"
   ]
  },
  {
   "cell_type": "code",
   "execution_count": 5,
   "metadata": {},
   "outputs": [],
   "source": [
    "x_train, x_test, y_train, y_test = train_test_split(df.text, df.label, \n",
    "                                                    test_size=0.25,\n",
    "                                                    stratify=df.label)"
   ]
  },
  {
   "cell_type": "code",
   "execution_count": 6,
   "metadata": {},
   "outputs": [],
   "source": [
    "x_train = x_train.reset_index(drop=True)\n",
    "x_test = x_test.reset_index(drop=True)\n",
    "y_train = y_train.reset_index(drop=True)\n",
    "y_test = y_test.reset_index(drop=True)"
   ]
  },
  {
   "cell_type": "code",
   "execution_count": 7,
   "metadata": {},
   "outputs": [],
   "source": [
    "y_train_word = y_train.copy()\n",
    "y_train = [1 if elem == 'positive' else 0 for elem in y_train]\n",
    "y_test_word = y_test.copy()\n",
    "y_test = [1 if elem == 'positive' else 0 for elem in y_test]"
   ]
  },
  {
   "cell_type": "code",
   "execution_count": 8,
   "metadata": {},
   "outputs": [
    {
     "name": "stdout",
     "output_type": "stream",
     "text": [
      "467845\n"
     ]
    },
    {
     "data": {
      "text/plain": [
       "['first', 'timee', 'd', 'd', 'rt', 'katiacheh', 'rt', 'digger', 'dd', 'http']"
      ]
     },
     "execution_count": 8,
     "metadata": {},
     "output_type": "execute_result"
    }
   ],
   "source": [
    "corpus = [token for tweet in df.text for token in word_tokenize(tweet) if token not in punctuation]\n",
    "print(len(corpus))\n",
    "corpus[:10]"
   ]
  },
  {
   "cell_type": "code",
   "execution_count": 9,
   "metadata": {},
   "outputs": [
    {
     "data": {
      "text/plain": [
       "[('rt', 38168),\n",
       " ('t', 34166),\n",
       " ('http', 33076),\n",
       " ('co', 33071),\n",
       " ('d', 19449),\n",
       " ('o', 3501),\n",
       " ('a', 2299),\n",
       " ('s', 1603),\n",
       " ('i', 1553),\n",
       " ('dd', 1311)]"
      ]
     },
     "execution_count": 9,
     "metadata": {},
     "output_type": "execute_result"
    }
   ],
   "source": [
    "freq_dict = Counter(corpus)\n",
    "freq_dict_sorted= sorted(freq_dict.items(), key=lambda x: -x[1])\n",
    "list(freq_dict_sorted)[:10]"
   ]
  },
  {
   "cell_type": "code",
   "execution_count": 10,
   "metadata": {},
   "outputs": [
    {
     "data": {
      "image/png": "[encoded data removed]",
      "text/plain": [
       "<Figure size 432x288 with 1 Axes>"
      ]
     },
     "metadata": {
      "needs_background": "light"
     },
     "output_type": "display_data"
    }
   ],
   "source": [
    "first_100_freqs = [freq for word, freq in freq_dict_sorted[:100]]\n",
    "plt.plot(first_100_freqs)\n",
    "plt.show()"
   ]
  },
  {
   "cell_type": "code",
   "execution_count": 11,
   "metadata": {},
   "outputs": [
    {
     "data": {
      "image/png": "[encoded data removed]",
      "text/plain": [
       "<Figure size 432x288 with 1 Axes>"
      ]
     },
     "metadata": {
      "needs_background": "light"
     },
     "output_type": "display_data"
    }
   ],
   "source": [
    "low_freq = [freq for word, freq in freq_dict_sorted if freq < 10]\n",
    "plt.plot(low_freq)\n",
    "plt.show()"
   ]
  },
  {
   "cell_type": "code",
   "execution_count": 12,
   "metadata": {},
   "outputs": [],
   "source": [
    "very_low_freq = [freq for word, freq in freq_dict_sorted if freq <= 10]"
   ]
  },
  {
   "cell_type": "code",
   "execution_count": 13,
   "metadata": {},
   "outputs": [
    {
     "data": {
      "image/png": "[encoded data removed]",
      "text/plain": [
       "<Figure size 432x288 with 1 Axes>"
      ]
     },
     "metadata": {
      "needs_background": "light"
     },
     "output_type": "display_data"
    }
   ],
   "source": [
    "mean_freq = [freq for word, freq in freq_dict_sorted[100:-len(low_freq)]]\n",
    "plt.plot(mean_freq)\n",
    "plt.show()"
   ]
  },
  {
   "cell_type": "code",
   "execution_count": 14,
   "metadata": {},
   "outputs": [
    {
     "data": {
      "text/plain": [
       "112197"
      ]
     },
     "execution_count": 14,
     "metadata": {},
     "output_type": "execute_result"
    }
   ],
   "source": [
    "len(freq_dict_sorted)"
   ]
  },
  {
   "cell_type": "code",
   "execution_count": 15,
   "metadata": {},
   "outputs": [
    {
     "data": {
      "text/plain": [
       "(108611, 3486, 100)"
      ]
     },
     "execution_count": 15,
     "metadata": {},
     "output_type": "execute_result"
    }
   ],
   "source": [
    "len(low_freq), len(mean_freq), len(first_100_freqs)"
   ]
  },
  {
   "cell_type": "code",
   "execution_count": 16,
   "metadata": {},
   "outputs": [],
   "source": [
    "vectorizer_high_freq = TfidfVectorizer(vocabulary=list(dict(freq_dict_sorted[:100]).keys()))\n",
    "bag_of_words_high_freq = vectorizer_high_freq.fit_transform(x_train.values)\n",
    "feature_names_high_freq = vectorizer_high_freq.get_feature_names_out()\n",
    "df_high_freq_train = pd.DataFrame(bag_of_words_high_freq.toarray(), columns = feature_names_high_freq)\n",
    "bag_of_words_high_freq_test = vectorizer_high_freq.transform(x_test.values)\n",
    "df_high_freq_test = pd.DataFrame(bag_of_words_high_freq_test.toarray(), columns = feature_names_high_freq)"
   ]
  },
  {
   "cell_type": "code",
   "execution_count": 17,
   "metadata": {},
   "outputs": [],
   "source": [
    "classifier_high_freq = LogisticRegression(solver='lbfgs', max_iter=1000)\n",
    "classifier_high_freq.fit(df_high_freq_train, y_train)\n",
    "predictions_high_freq_train = classifier_high_freq.predict(df_high_freq_train)\n",
    "predictions_high_freq_test = classifier_high_freq.predict(df_high_freq_test)"
   ]
  },
  {
   "cell_type": "code",
   "execution_count": 18,
   "metadata": {},
   "outputs": [
    {
     "name": "stdout",
     "output_type": "stream",
     "text": [
      "              precision    recall  f1-score   support\n",
      "\n",
      "           0       0.77      0.54      0.64    118935\n",
      "           1       0.37      0.62      0.47     51190\n",
      "\n",
      "    accuracy                           0.57    170125\n",
      "   macro avg       0.57      0.58      0.55    170125\n",
      "weighted avg       0.65      0.57      0.59    170125\n",
      "\n"
     ]
    }
   ],
   "source": [
    "print(classification_report(predictions_high_freq_train, y_train))"
   ]
  },
  {
   "cell_type": "code",
   "execution_count": 19,
   "metadata": {},
   "outputs": [
    {
     "name": "stdout",
     "output_type": "stream",
     "text": [
      "              precision    recall  f1-score   support\n",
      "\n",
      "           0       0.77      0.55      0.64     39688\n",
      "           1       0.37      0.63      0.47     17021\n",
      "\n",
      "    accuracy                           0.57     56709\n",
      "   macro avg       0.57      0.59      0.55     56709\n",
      "weighted avg       0.65      0.57      0.59     56709\n",
      "\n"
     ]
    }
   ],
   "source": [
    "print(classification_report(predictions_high_freq_test, y_test))"
   ]
  },
  {
   "cell_type": "code",
   "execution_count": 20,
   "metadata": {},
   "outputs": [],
   "source": [
    "vectorizer_low_freq = TfidfVectorizer(vocabulary=list(dict(freq_dict_sorted[-20000:]).keys()))\n",
    "bag_of_words_low_freq = vectorizer_low_freq.fit_transform(x_train.values)\n",
    "feature_names_low_freq = vectorizer_low_freq.get_feature_names_out()\n",
    "df_low_freq_train = pd.DataFrame(bag_of_words_low_freq.toarray(), columns = feature_names_low_freq)\n",
    "bag_of_words_low_freq_test = vectorizer_low_freq.transform(x_test.values)\n",
    "df_low_freq_test = pd.DataFrame(bag_of_words_low_freq_test.toarray(), columns = feature_names_low_freq)"
   ]
  },
  {
   "cell_type": "code",
   "execution_count": 21,
   "metadata": {},
   "outputs": [],
   "source": [
    "classifier_low_freq = LogisticRegression(solver='lbfgs', max_iter=1000)\n",
    "classifier_low_freq.fit(df_low_freq_train, y_train)\n",
    "predictions_low_freq_train = classifier_low_freq.predict(df_low_freq_train)\n",
    "predictions_low_freq_test = classifier_low_freq.predict(df_low_freq_test)"
   ]
  },
  {
   "cell_type": "code",
   "execution_count": 22,
   "metadata": {},
   "outputs": [
    {
     "name": "stdout",
     "output_type": "stream",
     "text": [
      "              precision    recall  f1-score   support\n",
      "\n",
      "           0       0.15      1.00      0.26     12776\n",
      "           1       1.00      0.55      0.71    157349\n",
      "\n",
      "    accuracy                           0.58    170125\n",
      "   macro avg       0.58      0.77      0.49    170125\n",
      "weighted avg       0.94      0.58      0.67    170125\n",
      "\n"
     ]
    }
   ],
   "source": [
    "print(classification_report(predictions_low_freq_train, y_train))"
   ]
  },
  {
   "cell_type": "code",
   "execution_count": 23,
   "metadata": {},
   "outputs": [
    {
     "name": "stdout",
     "output_type": "stream",
     "text": [
      "              precision    recall  f1-score   support\n",
      "\n",
      "           0       0.00      0.00      0.00         0\n",
      "           1       1.00      0.51      0.67     56709\n",
      "\n",
      "    accuracy                           0.51     56709\n",
      "   macro avg       0.50      0.25      0.34     56709\n",
      "weighted avg       1.00      0.51      0.67     56709\n",
      "\n"
     ]
    }
   ],
   "source": [
    "print(classification_report(predictions_low_freq_test, y_test))"
   ]
  },
  {
   "cell_type": "code",
   "execution_count": 24,
   "metadata": {},
   "outputs": [],
   "source": [
    "vectorizer_mean_freq = TfidfVectorizer(vocabulary=list(dict(freq_dict_sorted[100:-90000]).keys()))\n",
    "\n",
    "# Создаем the Bag-of-Words модель\n",
    "bag_of_words_mean_freq = vectorizer_mean_freq.fit_transform(x_train.values)\n",
    "\n",
    "# Отобразим Bag-of-Words модель как DataFrame\n",
    "feature_names_mean_freq = vectorizer_mean_freq.get_feature_names_out()\n",
    "df_mean_freq_train = pd.DataFrame(bag_of_words_mean_freq.toarray(), columns = feature_names_mean_freq)\n",
    "bag_of_words_mean_freq_test = vectorizer_mean_freq.transform(x_test.values)\n",
    "df_mean_freq_test = pd.DataFrame(bag_of_words_mean_freq_test.toarray(), columns = feature_names_mean_freq)"
   ]
  },
  {
   "cell_type": "code",
   "execution_count": 25,
   "metadata": {},
   "outputs": [],
   "source": [
    "classifier_mean_freq = LogisticRegression(solver='lbfgs', max_iter=1000)\n",
    "classifier_mean_freq.fit(df_mean_freq_train, y_train)\n",
    "predictions_mean_freq_train = classifier_mean_freq.predict(df_mean_freq_train)\n",
    "predictions_mean_freq_test = classifier_mean_freq.predict(df_mean_freq_test)"
   ]
  },
  {
   "cell_type": "code",
   "execution_count": 26,
   "metadata": {},
   "outputs": [
    {
     "name": "stdout",
     "output_type": "stream",
     "text": [
      "              precision    recall  f1-score   support\n",
      "\n",
      "           0       0.88      0.60      0.71    124654\n",
      "           1       0.41      0.79      0.54     45471\n",
      "\n",
      "    accuracy                           0.65    170125\n",
      "   macro avg       0.65      0.69      0.63    170125\n",
      "weighted avg       0.76      0.65      0.67    170125\n",
      "\n"
     ]
    }
   ],
   "source": [
    "print(classification_report(predictions_mean_freq_train, y_train))"
   ]
  },
  {
   "cell_type": "code",
   "execution_count": 27,
   "metadata": {},
   "outputs": [
    {
     "name": "stdout",
     "output_type": "stream",
     "text": [
      "              precision    recall  f1-score   support\n",
      "\n",
      "           0       0.84      0.56      0.67     42274\n",
      "           1       0.35      0.69      0.46     14435\n",
      "\n",
      "    accuracy                           0.59     56709\n",
      "   macro avg       0.59      0.62      0.57     56709\n",
      "weighted avg       0.71      0.59      0.62     56709\n",
      "\n"
     ]
    }
   ],
   "source": [
    "print(classification_report(predictions_mean_freq_test, y_test))"
   ]
  },
  {
   "cell_type": "code",
   "execution_count": 28,
   "metadata": {},
   "outputs": [
    {
     "data": {
      "text/plain": [
       "array([ 0.69435446,  0.54041547,  0.60154486,  0.05464382, -0.06872621,\n",
       "        0.02834703,  0.64983122,  0.39400035,  0.47580726,  0.43356974])"
      ]
     },
     "execution_count": 28,
     "metadata": {},
     "output_type": "execute_result"
    }
   ],
   "source": [
    "classifier_mean_freq.coef_[0][:10]"
   ]
  },
  {
   "cell_type": "code",
   "execution_count": 29,
   "metadata": {},
   "outputs": [
    {
     "data": {
      "text/plain": [
       "array(['styles', 'olga', 'na', 'green', 'sobchak', 'masha', 'and', 'way',\n",
       "       'lol', 'killjoy'], dtype=object)"
      ]
     },
     "execution_count": 29,
     "metadata": {},
     "output_type": "execute_result"
    }
   ],
   "source": [
    "classifier_mean_freq.feature_names_in_[0:10]"
   ]
  },
  {
   "cell_type": "code",
   "execution_count": 30,
   "metadata": {},
   "outputs": [],
   "source": [
    "df_feature_importance = pd.DataFrame({'feature': list(classifier_mean_freq.feature_names_in_),\n",
    "                                      'weight': list(classifier_mean_freq.coef_[0]),\n",
    "                                      'abs_weight': [abs(elem) for elem in list(classifier_mean_freq.coef_[0])]})"
   ]
  },
  {
   "cell_type": "code",
   "execution_count": 31,
   "metadata": {},
   "outputs": [],
   "source": [
    "df_feature_importance = df_feature_importance.sort_values(by='abs_weight', ascending=False)"
   ]
  },
  {
   "cell_type": "code",
   "execution_count": 32,
   "metadata": {},
   "outputs": [
    {
     "name": "stdout",
     "output_type": "stream",
     "text": [
      "Признаки с наибольшей значимостью\n"
     ]
    },
    {
     "data": {
      "text/html": [
       "<div>\n",
       "<style scoped>\n",
       "    .dataframe tbody tr th:only-of-type {\n",
       "        vertical-align: middle;\n",
       "    }\n",
       "\n",
       "    .dataframe tbody tr th {\n",
       "        vertical-align: top;\n",
       "    }\n",
       "\n",
       "    .dataframe thead th {\n",
       "        text-align: right;\n",
       "    }\n",
       "</style>\n",
       "<table border=\"1\" class=\"dataframe\">\n",
       "  <thead>\n",
       "    <tr style=\"text-align: right;\">\n",
       "      <th></th>\n",
       "      <th>feature</th>\n",
       "      <th>weight</th>\n",
       "      <th>abs_weight</th>\n",
       "    </tr>\n",
       "  </thead>\n",
       "  <tbody>\n",
       "    <tr>\n",
       "      <th>70</th>\n",
       "      <td>prisonero</td>\n",
       "      <td>-3.847362</td>\n",
       "      <td>3.847362</td>\n",
       "    </tr>\n",
       "    <tr>\n",
       "      <th>235</th>\n",
       "      <td>horanso</td>\n",
       "      <td>-3.077350</td>\n",
       "      <td>3.077350</td>\n",
       "    </tr>\n",
       "    <tr>\n",
       "      <th>144</th>\n",
       "      <td>ddddd</td>\n",
       "      <td>2.927989</td>\n",
       "      <td>2.927989</td>\n",
       "    </tr>\n",
       "    <tr>\n",
       "      <th>105</th>\n",
       "      <td>oppa</td>\n",
       "      <td>-2.712440</td>\n",
       "      <td>2.712440</td>\n",
       "    </tr>\n",
       "    <tr>\n",
       "      <th>428</th>\n",
       "      <td>lponomarenko</td>\n",
       "      <td>-2.710428</td>\n",
       "      <td>2.710428</td>\n",
       "    </tr>\n",
       "    <tr>\n",
       "      <th>250</th>\n",
       "      <td>dtoropova</td>\n",
       "      <td>2.582084</td>\n",
       "      <td>2.582084</td>\n",
       "    </tr>\n",
       "    <tr>\n",
       "      <th>377</th>\n",
       "      <td>juljulianapai</td>\n",
       "      <td>2.551035</td>\n",
       "      <td>2.551035</td>\n",
       "    </tr>\n",
       "    <tr>\n",
       "      <th>381</th>\n",
       "      <td>obnulyay</td>\n",
       "      <td>-2.521796</td>\n",
       "      <td>2.521796</td>\n",
       "    </tr>\n",
       "    <tr>\n",
       "      <th>935</th>\n",
       "      <td>eminofficial</td>\n",
       "      <td>2.504164</td>\n",
       "      <td>2.504164</td>\n",
       "    </tr>\n",
       "    <tr>\n",
       "      <th>322</th>\n",
       "      <td>maksimofficial</td>\n",
       "      <td>2.493854</td>\n",
       "      <td>2.493854</td>\n",
       "    </tr>\n",
       "  </tbody>\n",
       "</table>\n",
       "</div>"
      ],
      "text/plain": [
       "            feature    weight  abs_weight\n",
       "70        prisonero -3.847362    3.847362\n",
       "235         horanso -3.077350    3.077350\n",
       "144           ddddd  2.927989    2.927989\n",
       "105            oppa -2.712440    2.712440\n",
       "428    lponomarenko -2.710428    2.710428\n",
       "250       dtoropova  2.582084    2.582084\n",
       "377   juljulianapai  2.551035    2.551035\n",
       "381        obnulyay -2.521796    2.521796\n",
       "935    eminofficial  2.504164    2.504164\n",
       "322  maksimofficial  2.493854    2.493854"
      ]
     },
     "execution_count": 32,
     "metadata": {},
     "output_type": "execute_result"
    }
   ],
   "source": [
    "print('Признаки с наибольшей значимостью')\n",
    "df_feature_importance.head(10)"
   ]
  },
  {
   "cell_type": "code",
   "execution_count": 33,
   "metadata": {},
   "outputs": [
    {
     "data": {
      "text/plain": [
       "6569"
      ]
     },
     "execution_count": 33,
     "metadata": {},
     "output_type": "execute_result"
    }
   ],
   "source": [
    "words_with_normal_freq = [word for word, freq in freq_dict_sorted if freq > 5]\n",
    "len(words_with_normal_freq)"
   ]
  },
  {
   "cell_type": "code",
   "execution_count": 34,
   "metadata": {},
   "outputs": [],
   "source": [
    "count_vectorizer = CountVectorizer(vocabulary = words_with_normal_freq)\n",
    "x_train_count = count_vectorizer.fit_transform(x_train.values)\n",
    "x_test_count = count_vectorizer.transform(x_test.values)\n",
    "classifier_count_vect = LogisticRegression(solver='lbfgs', max_iter=1000)\n",
    "classifier_count_vect.fit(x_train_count, y_train)\n",
    "predictions_train_count = classifier_count_vect.predict(x_train_count)\n",
    "predictions_test_count = classifier_count_vect.predict(x_test_count)"
   ]
  },
  {
   "cell_type": "code",
   "execution_count": 35,
   "metadata": {},
   "outputs": [
    {
     "name": "stdout",
     "output_type": "stream",
     "text": [
      "              precision    recall  f1-score   support\n",
      "\n",
      "           0       0.78      0.59      0.67    111098\n",
      "           1       0.47      0.69      0.56     59027\n",
      "\n",
      "    accuracy                           0.62    170125\n",
      "   macro avg       0.62      0.64      0.61    170125\n",
      "weighted avg       0.67      0.62      0.63    170125\n",
      "\n"
     ]
    }
   ],
   "source": [
    "print(classification_report(predictions_train_count, y_train))"
   ]
  },
  {
   "cell_type": "code",
   "execution_count": 36,
   "metadata": {},
   "outputs": [],
   "source": [
    "tfidf_vectorizer = TfidfVectorizer(vocabulary = words_with_normal_freq)\n",
    "x_train_tfidf = tfidf_vectorizer.fit_transform(x_train.values)\n",
    "x_test_tfidf = tfidf_vectorizer.transform(x_test.values)\n",
    "classifier_tfidf_vect = LogisticRegression(solver='lbfgs', max_iter=1000)\n",
    "classifier_tfidf_vect.fit(x_train_tfidf, y_train)\n",
    "predictions_train_tfidf = classifier_tfidf_vect.predict(x_train_tfidf)\n",
    "predictions_test_tfidf = classifier_tfidf_vect.predict(x_test_tfidf)"
   ]
  },
  {
   "cell_type": "code",
   "execution_count": 37,
   "metadata": {},
   "outputs": [
    {
     "name": "stdout",
     "output_type": "stream",
     "text": [
      "              precision    recall  f1-score   support\n",
      "\n",
      "           0       0.77      0.59      0.67    109695\n",
      "           1       0.48      0.68      0.56     60430\n",
      "\n",
      "    accuracy                           0.62    170125\n",
      "   macro avg       0.62      0.64      0.62    170125\n",
      "weighted avg       0.67      0.62      0.63    170125\n",
      "\n"
     ]
    }
   ],
   "source": [
    "print(classification_report(predictions_train_tfidf, y_train))"
   ]
  },
  {
   "cell_type": "code",
   "execution_count": 38,
   "metadata": {},
   "outputs": [
    {
     "name": "stdout",
     "output_type": "stream",
     "text": [
      "              precision    recall  f1-score   support\n",
      "\n",
      "           0       0.75      0.57      0.65     36776\n",
      "           1       0.45      0.65      0.54     19933\n",
      "\n",
      "    accuracy                           0.60     56709\n",
      "   macro avg       0.60      0.61      0.59     56709\n",
      "weighted avg       0.65      0.60      0.61     56709\n",
      "\n"
     ]
    }
   ],
   "source": [
    "print(classification_report(predictions_test_tfidf, y_test))"
   ]
  },
  {
   "cell_type": "code",
   "execution_count": 39,
   "metadata": {},
   "outputs": [],
   "source": [
    "n_features_for_hash = [2 ** i for i in range(18)]"
   ]
  },
  {
   "cell_type": "code",
   "execution_count": 40,
   "metadata": {},
   "outputs": [],
   "source": [
    "from nltk.tokenize import WordPunctTokenizer"
   ]
  },
  {
   "cell_type": "code",
   "execution_count": 41,
   "metadata": {},
   "outputs": [],
   "source": [
    "tokenizer = WordPunctTokenizer()"
   ]
  },
  {
   "cell_type": "code",
   "execution_count": 42,
   "metadata": {},
   "outputs": [],
   "source": [
    "train_corpus = \" \".join(x_train.values)\n",
    "train_corpus = train_corpus.lower()\n",
    "tokens = word_tokenize(train_corpus)"
   ]
  },
  {
   "cell_type": "code",
   "execution_count": 43,
   "metadata": {},
   "outputs": [],
   "source": [
    "from collections import Counter"
   ]
  },
  {
   "cell_type": "code",
   "execution_count": 44,
   "metadata": {},
   "outputs": [],
   "source": [
    "tokens_filtered = [word for word in tokens]"
   ]
  },
  {
   "cell_type": "code",
   "execution_count": 45,
   "metadata": {},
   "outputs": [],
   "source": [
    "index_count = 0\n",
    "vocabulary_inv = {}\n",
    "vocabulary = {}\n",
    "for key in dict(Counter(tokens_filtered).most_common(3000)).keys():\n",
    "  vocabulary_inv[index_count] = key\n",
    "  vocabulary[key] = index_count\n",
    "  index_count += 1"
   ]
  },
  {
   "cell_type": "code",
   "execution_count": 46,
   "metadata": {},
   "outputs": [],
   "source": [
    "import numpy as np\n",
    "def text_to_sequence(text, maxlen):\n",
    "    result = []\n",
    "    tokens = word_tokenize(text.lower())\n",
    "    tokens_filtered = [word for word in tokens if word.isalnum()]\n",
    "    for word in tokens_filtered:\n",
    "        if word in vocabulary:\n",
    "            result.append(vocabulary[word])\n",
    "    padding = [0]*(maxlen-len(result))\n",
    "    return padding + result[-maxlen:]"
   ]
  },
  {
   "cell_type": "code",
   "execution_count": 47,
   "metadata": {},
   "outputs": [],
   "source": [
    "max_len = len(vocabulary)"
   ]
  },
  {
   "cell_type": "code",
   "execution_count": 48,
   "metadata": {},
   "outputs": [],
   "source": [
    "x_train_for_nn = np.array([text_to_sequence(text, max_len) for text in x_train.values], dtype=np.int32)\n",
    "x_test_for_nn = np.array([text_to_sequence(text, max_len) for text in x_test.values], dtype=np.int32)"
   ]
  },
  {
   "cell_type": "code",
   "execution_count": 49,
   "metadata": {},
   "outputs": [],
   "source": [
    "import random\n",
    "import torch\n",
    "import torch.nn as nn\n",
    "\n",
    "seed = 0\n",
    "\n",
    "random.seed(seed)\n",
    "np.random.seed(seed)\n",
    "torch.manual_seed(seed)\n",
    "torch.cuda.manual_seed(seed)\n",
    "torch.backends.cudnn.deterministic = True"
   ]
  },
  {
   "cell_type": "code",
   "execution_count": 50,
   "metadata": {},
   "outputs": [
    {
     "data": {
      "text/plain": [
       "'cuda'"
      ]
     },
     "execution_count": 50,
     "metadata": {},
     "output_type": "execute_result"
    }
   ],
   "source": [
    "device = 'cuda' if torch.cuda.is_available() else 'cpu'\n",
    "device"
   ]
  },
  {
   "cell_type": "code",
   "execution_count": 51,
   "metadata": {},
   "outputs": [],
   "source": [
    "class Net(nn.Module):\n",
    "    def __init__(self, vocab_size=3000, embedding_dim=256, out_channel=128, num_classes=1):\n",
    "        super().__init__()\n",
    "        self.embedding = nn.Embedding(vocab_size, embedding_dim)\n",
    "        self.conv = nn.Conv1d(embedding_dim, out_channel, kernel_size=3)\n",
    "        self.relu = nn.ReLU()\n",
    "        self.linear = nn.Linear(out_channel, num_classes)\n",
    "        \n",
    "    def forward(self, x):        \n",
    "        output = self.embedding(x)\n",
    "        #                       B  F  L         \n",
    "        output = output.permute(0, 2, 1)\n",
    "        output = self.conv(output)\n",
    "        output = self.relu(output)\n",
    "        output = torch.max(output, axis=2).values\n",
    "        output = self.linear(output)\n",
    "        \n",
    "        return output"
   ]
  },
  {
   "cell_type": "code",
   "execution_count": 52,
   "metadata": {},
   "outputs": [],
   "source": [
    "from torch.utils.data import DataLoader, Dataset\n",
    "\n",
    "class DataWrapper(Dataset):\n",
    "    def __init__(self, data, target=None, transform=None):\n",
    "        self.data = torch.from_numpy(data).long()\n",
    "        if target is not None:\n",
    "            self.target = torch.from_numpy(target).long()\n",
    "        self.transform = transform\n",
    "        \n",
    "    def __getitem__(self, index):\n",
    "        x = self.data[index]\n",
    "        y = self.target[index] if self.target is not None else None\n",
    "        \n",
    "        if self.transform:\n",
    "            x = self.transform(x)\n",
    "            \n",
    "        return x, y\n",
    "    \n",
    "    def __len__(self):\n",
    "        return len(self.data)"
   ]
  },
  {
   "cell_type": "code",
   "execution_count": 53,
   "metadata": {},
   "outputs": [
    {
     "name": "stdout",
     "output_type": "stream",
     "text": [
      "Net(\n",
      "  (embedding): Embedding(3000, 256)\n",
      "  (conv): Conv1d(256, 128, kernel_size=(3,), stride=(1,))\n",
      "  (relu): ReLU()\n",
      "  (linear): Linear(in_features=128, out_features=1, bias=True)\n",
      ")\n",
      "Parameters: 866561\n",
      "Train epoch 1/2\n",
      "Step 0: loss=0.7004541158676147\n",
      "Step 400: loss=0.6558209657669067\n",
      "Step 800: loss=0.660375714302063\n",
      "Step 1200: loss=0.5971129536628723\n",
      "Train epoch 2/2\n",
      "Step 0: loss=0.586498498916626\n",
      "Step 400: loss=0.6322817802429199\n",
      "Step 800: loss=0.7262194752693176\n",
      "Step 1200: loss=0.630269467830658\n"
     ]
    }
   ],
   "source": [
    "batch_size = 128\n",
    "max_words = 50\n",
    "epochs = 2\n",
    "\n",
    "model = Net(vocab_size=len(vocabulary)).to(device)\n",
    "\n",
    "print(model)\n",
    "print(\"Parameters:\", sum([param.nelement() for param in model.parameters()]))\n",
    "\n",
    "model.train()\n",
    "#model = model.cuda()\n",
    "\n",
    "optimizer = torch.optim.Adam(model.parameters(), lr=10e-3)\n",
    "criterion = nn.BCEWithLogitsLoss()\n",
    "    \n",
    "train_dataset = DataWrapper(x_train_for_nn, np.array(y_train))\n",
    "train_loader = DataLoader(train_dataset, batch_size=batch_size, shuffle=True)\n",
    "\n",
    "loss_history = []\n",
    "\n",
    "for epoch in range(1, epochs + 1):\n",
    "    print(f\"Train epoch {epoch}/{epochs}\")\n",
    "    for i, (data, target) in enumerate(train_loader):\n",
    "        data = data.to(device)\n",
    "        target = target.to(device)\n",
    "        optimizer.zero_grad()\n",
    "        \n",
    "        # data = data.cuda()\n",
    "        # target = target.cuda()\n",
    "        \n",
    "        # compute output\n",
    "        output = model(data)\n",
    "        \n",
    "        # compute gradient and do SGD step\n",
    "        loss = criterion(output, target.float().view(-1, 1))\n",
    "        loss.backward()\n",
    "        \n",
    "        optimizer.step()\n",
    "        \n",
    "        if i%400 == 0:\n",
    "            loss = loss.float().item()\n",
    "            print(\"Step {}: loss={}\".format(i, loss))\n",
    "            loss_history.append(loss)"
   ]
  },
  {
   "cell_type": "code",
   "execution_count": 54,
   "metadata": {},
   "outputs": [],
   "source": [
    "test_dataset = DataWrapper(x_test_for_nn, np.array(y_test))\n",
    "test_loader = DataLoader(test_dataset, batch_size=batch_size, shuffle=True)"
   ]
  },
  {
   "cell_type": "code",
   "execution_count": 55,
   "metadata": {},
   "outputs": [
    {
     "name": "stdout",
     "output_type": "stream",
     "text": [
      "              precision    recall  f1-score   support\n",
      "\n",
      "           0       1.00      0.53      0.69       128\n",
      "           1       0.00      0.00      0.00         0\n",
      "\n",
      "    accuracy                           0.53       128\n",
      "   macro avg       0.50      0.27      0.35       128\n",
      "weighted avg       1.00      0.53      0.69       128\n",
      "\n"
     ]
    }
   ],
   "source": [
    "model.eval()\n",
    "list_accuracy = []\n",
    "for data in test_loader:\n",
    "  test_outputs = model(data[0].to(device))\n",
    "  label = data[1].to(device)\n",
    "  predict = torch.max(test_outputs, 1)[1]\n",
    "  break\n",
    "print(classification_report(predict.cpu(), label.cpu()))"
   ]
  },
  {
   "cell_type": "code",
   "execution_count": 56,
   "metadata": {},
   "outputs": [
    {
     "data": {
      "text/plain": [
       "0.49321157"
      ]
     },
     "execution_count": 56,
     "metadata": {},
     "output_type": "execute_result"
    }
   ],
   "source": [
    "list_accuracy = []\n",
    "for data in test_loader:\n",
    "  test_outputs = model(data[0].to(device))\n",
    "  label = data[1].to(device)\n",
    "  predict = torch.max(test_outputs, 1)[1]\n",
    "  list_accuracy.append((predict == label).sum()/predict.shape[0])\n",
    "np.mean([elem.cpu() for elem in list_accuracy])"
   ]
  }
 ],
 "metadata": {
  "kernelspec": {
   "display_name": "Python 3",
   "language": "python",
   "name": "python3"
  },
  "language_info": {
   "codemirror_mode": {
    "name": "ipython",
    "version": 3
   },
   "file_extension": ".py",
   "mimetype": "text/x-python",
   "name": "python",
   "nbconvert_exporter": "python",
   "pygments_lexer": "ipython3",
   "version": "3.10.12"
  }
 },
 "nbformat": 4,
 "nbformat_minor": 2
}
