{
 "cells": [
  {
   "cell_type": "code",
   "execution_count": 1,
   "metadata": {},
   "outputs": [
    {
     "name": "stderr",
     "output_type": "stream",
     "text": [
      "/usr/lib/python3/dist-packages/paramiko/transport.py:236: CryptographyDeprecationWarning: Blowfish has been deprecated\n",
      "  \"class\": algorithms.Blowfish,\n"
     ]
    }
   ],
   "source": [
    "import re\n",
    "import os\n",
    "import pymorphy2\n",
    "import pandas as pd\n",
    "import numpy as np\n",
    "import pyLDAvis\n",
    "import pyLDAvis.gensim as gensimvis\n",
    "import matplotlib.pyplot as plt\n",
    "from pandarallel import pandarallel\n",
    "from sklearn.metrics import *\n",
    "from sklearn.model_selection import train_test_split\n",
    "from sklearn.pipeline import Pipeline\n",
    "from gensim.models import *\n",
    "from gensim import corpora\n",
    "from nltk.corpus import stopwords\n",
    "from tqdm.notebook import tqdm\n",
    "from multiprocessing import Pool\n",
    "import nltk\n",
    "%matplotlib inline"
   ]
  },
  {
   "cell_type": "code",
   "execution_count": 2,
   "metadata": {},
   "outputs": [],
   "source": [
    "data_path = r'/media/dmitriy/Disk/Downloads/ai_nlp_hw_data/hw_4/'"
   ]
  },
  {
   "cell_type": "code",
   "execution_count": 3,
   "metadata": {},
   "outputs": [],
   "source": [
    "positive = pd.read_csv(os.path.join(data_path, r'positive.csv'), sep=';', encoding='utf8', header=None)\n",
    "positive = positive.rename(columns={3:'text'})"
   ]
  },
  {
   "cell_type": "code",
   "execution_count": 4,
   "metadata": {},
   "outputs": [],
   "source": [
    "negative = pd.read_csv(os.path.join(data_path, r'negative.csv'), sep=';', encoding='utf8', header=None)\n",
    "negative = negative.rename(columns={3:'text'})"
   ]
  },
  {
   "cell_type": "code",
   "execution_count": 5,
   "metadata": {},
   "outputs": [],
   "source": [
    "df = pd.concat([positive, negative], ignore_index=True)"
   ]
  },
  {
   "cell_type": "code",
   "execution_count": 6,
   "metadata": {},
   "outputs": [
    {
     "name": "stderr",
     "output_type": "stream",
     "text": [
      "[nltk_data] Downloading package stopwords to\n",
      "[nltk_data]     /home/dmitriy/nltk_data...\n",
      "[nltk_data]   Package stopwords is already up-to-date!\n"
     ]
    },
    {
     "data": {
      "text/plain": [
       "True"
      ]
     },
     "execution_count": 6,
     "metadata": {},
     "output_type": "execute_result"
    }
   ],
   "source": [
    "nltk.download('stopwords')"
   ]
  },
  {
   "cell_type": "code",
   "execution_count": 7,
   "metadata": {},
   "outputs": [
    {
     "name": "stderr",
     "output_type": "stream",
     "text": [
      "/home/dmitriy/.local/lib/python3.10/site-packages/pymorphy2/units/base.py:70: DeprecationWarning: inspect.getargspec() is deprecated since Python 3.0, use inspect.signature() or inspect.getfullargspec()\n",
      "  args, varargs, kw, default = inspect.getargspec(cls.__init__)\n",
      "/home/dmitriy/.local/lib/python3.10/site-packages/pymorphy2/units/base.py:70: DeprecationWarning: inspect.getargspec() is deprecated since Python 3.0, use inspect.signature() or inspect.getfullargspec()\n",
      "  args, varargs, kw, default = inspect.getargspec(cls.__init__)\n",
      "/home/dmitriy/.local/lib/python3.10/site-packages/pymorphy2/units/base.py:70: DeprecationWarning: inspect.getargspec() is deprecated since Python 3.0, use inspect.signature() or inspect.getfullargspec()\n",
      "  args, varargs, kw, default = inspect.getargspec(cls.__init__)\n",
      "/home/dmitriy/.local/lib/python3.10/site-packages/pymorphy2/units/base.py:70: DeprecationWarning: inspect.getargspec() is deprecated since Python 3.0, use inspect.signature() or inspect.getfullargspec()\n",
      "  args, varargs, kw, default = inspect.getargspec(cls.__init__)\n",
      "/home/dmitriy/.local/lib/python3.10/site-packages/pymorphy2/units/base.py:70: DeprecationWarning: inspect.getargspec() is deprecated since Python 3.0, use inspect.signature() or inspect.getfullargspec()\n",
      "  args, varargs, kw, default = inspect.getargspec(cls.__init__)\n",
      "/home/dmitriy/.local/lib/python3.10/site-packages/pymorphy2/units/base.py:70: DeprecationWarning: inspect.getargspec() is deprecated since Python 3.0, use inspect.signature() or inspect.getfullargspec()\n",
      "  args, varargs, kw, default = inspect.getargspec(cls.__init__)\n",
      "/home/dmitriy/.local/lib/python3.10/site-packages/pymorphy2/units/base.py:70: DeprecationWarning: inspect.getargspec() is deprecated since Python 3.0, use inspect.signature() or inspect.getfullargspec()\n",
      "  args, varargs, kw, default = inspect.getargspec(cls.__init__)\n",
      "/home/dmitriy/.local/lib/python3.10/site-packages/pymorphy2/units/base.py:70: DeprecationWarning: inspect.getargspec() is deprecated since Python 3.0, use inspect.signature() or inspect.getfullargspec()\n",
      "  args, varargs, kw, default = inspect.getargspec(cls.__init__)\n",
      "/home/dmitriy/.local/lib/python3.10/site-packages/pymorphy2/units/base.py:70: DeprecationWarning: inspect.getargspec() is deprecated since Python 3.0, use inspect.signature() or inspect.getfullargspec()\n",
      "  args, varargs, kw, default = inspect.getargspec(cls.__init__)\n",
      "/home/dmitriy/.local/lib/python3.10/site-packages/pymorphy2/units/base.py:70: DeprecationWarning: inspect.getargspec() is deprecated since Python 3.0, use inspect.signature() or inspect.getfullargspec()\n",
      "  args, varargs, kw, default = inspect.getargspec(cls.__init__)\n",
      "/home/dmitriy/.local/lib/python3.10/site-packages/pymorphy2/units/base.py:70: DeprecationWarning: inspect.getargspec() is deprecated since Python 3.0, use inspect.signature() or inspect.getfullargspec()\n",
      "  args, varargs, kw, default = inspect.getargspec(cls.__init__)\n",
      "/home/dmitriy/.local/lib/python3.10/site-packages/pymorphy2/units/base.py:70: DeprecationWarning: inspect.getargspec() is deprecated since Python 3.0, use inspect.signature() or inspect.getfullargspec()\n",
      "  args, varargs, kw, default = inspect.getargspec(cls.__init__)\n"
     ]
    }
   ],
   "source": [
    "morph = pymorphy2.MorphAnalyzer()"
   ]
  },
  {
   "cell_type": "code",
   "execution_count": 8,
   "metadata": {},
   "outputs": [
    {
     "name": "stderr",
     "output_type": "stream",
     "text": [
      "<>:1: DeprecationWarning: invalid escape sequence '\\w'\n",
      "<>:1: DeprecationWarning: invalid escape sequence '\\w'\n",
      "/tmp/ipykernel_41369/159252999.py:1: DeprecationWarning: invalid escape sequence '\\w'\n",
      "  words_regex = re.compile('\\w+')\n"
     ]
    }
   ],
   "source": [
    "words_regex = re.compile('\\w+')\n",
    "\n",
    "\n",
    "def find_words(text, regex = words_regex):\n",
    "    tokens =  regex.findall(text.lower())\n",
    "    return [w for w in tokens if w.isalpha() and len(w) >= 3]\n",
    "\n",
    "\n",
    "stopwords_list = stopwords.words('russian')\n",
    "\n",
    "\n",
    "def lemmatize(words, lemmer = morph, stopwords = stopwords_list):\n",
    "    lemmas = [lemmer.parse(w)[0].normal_form for w in words]\n",
    "    return [w for w in lemmas if not w in stopwords\n",
    "            and w.isalpha()]\n",
    "\n",
    "\n",
    "def preprocess(text):\n",
    "    return (lemmatize(find_words(text)))"
   ]
  },
  {
   "cell_type": "code",
   "execution_count": 9,
   "metadata": {},
   "outputs": [
    {
     "name": "stdout",
     "output_type": "stream",
     "text": [
      "RT @veregijytaqo: У тебя есть ухажёр? Нет - мои уши не кто не жрёт :D ['veregijytaqo', 'ухажёр', 'ухо', 'жрать']\n"
     ]
    }
   ],
   "source": [
    "print(df.text.iloc[7], preprocess(df.text.iloc[7]))"
   ]
  },
  {
   "cell_type": "code",
   "execution_count": 10,
   "metadata": {},
   "outputs": [],
   "source": [
    "data = df.sample(100000)"
   ]
  },
  {
   "cell_type": "code",
   "execution_count": 11,
   "metadata": {},
   "outputs": [
    {
     "name": "stdout",
     "output_type": "stream",
     "text": [
      "INFO: Pandarallel will run on 6 workers.\n",
      "INFO: Pandarallel will use Memory file system to transfer data between the main process and workers.\n"
     ]
    }
   ],
   "source": [
    "tqdm.pandas()\n",
    "pandarallel.initialize(progress_bar=True)"
   ]
  },
  {
   "cell_type": "code",
   "execution_count": 12,
   "metadata": {},
   "outputs": [
    {
     "data": {
      "application/vnd.jupyter.widget-view+json": {
       "model_id": "178948af45b14d839c245e68f7bf4d20",
       "version_major": 2,
       "version_minor": 0
      },
      "text/plain": [
       "  0%|          | 0/100000 [00:00<?, ?it/s]"
      ]
     },
     "metadata": {},
     "output_type": "display_data"
    }
   ],
   "source": [
    "preprocessed_text2 = data['text'].progress_apply(lambda x: preprocess(str(x)))"
   ]
  },
  {
   "cell_type": "code",
   "execution_count": 13,
   "metadata": {},
   "outputs": [
    {
     "data": {
      "application/vnd.jupyter.widget-view+json": {
       "model_id": "f3c185da40aa43d8ad9452e0f648b92b",
       "version_major": 2,
       "version_minor": 0
      },
      "text/plain": [
       "  0%|          | 0/100000 [00:00<?, ?it/s]"
      ]
     },
     "metadata": {},
     "output_type": "display_data"
    }
   ],
   "source": [
    "preprocessed_text = list(tqdm(map(preprocess, data['text']), total=len(data)))"
   ]
  },
  {
   "cell_type": "code",
   "execution_count": 14,
   "metadata": {},
   "outputs": [
    {
     "data": {
      "text/html": [
       "<div>\n",
       "<style scoped>\n",
       "    .dataframe tbody tr th:only-of-type {\n",
       "        vertical-align: middle;\n",
       "    }\n",
       "\n",
       "    .dataframe tbody tr th {\n",
       "        vertical-align: top;\n",
       "    }\n",
       "\n",
       "    .dataframe thead th {\n",
       "        text-align: right;\n",
       "    }\n",
       "</style>\n",
       "<table border=\"1\" class=\"dataframe\">\n",
       "  <thead>\n",
       "    <tr style=\"text-align: right;\">\n",
       "      <th></th>\n",
       "      <th>0</th>\n",
       "      <th>1</th>\n",
       "      <th>2</th>\n",
       "      <th>text</th>\n",
       "      <th>4</th>\n",
       "      <th>5</th>\n",
       "      <th>6</th>\n",
       "      <th>7</th>\n",
       "      <th>8</th>\n",
       "      <th>9</th>\n",
       "      <th>10</th>\n",
       "      <th>11</th>\n",
       "    </tr>\n",
       "  </thead>\n",
       "  <tbody>\n",
       "    <tr>\n",
       "      <th>32398</th>\n",
       "      <td>409748662927912960</td>\n",
       "      <td>1386526668</td>\n",
       "      <td>Alinysik_17</td>\n",
       "      <td>[наслаждаться, момент, блин, круто, носить, бр...</td>\n",
       "      <td>1</td>\n",
       "      <td>0</td>\n",
       "      <td>0</td>\n",
       "      <td>0</td>\n",
       "      <td>763</td>\n",
       "      <td>16</td>\n",
       "      <td>20</td>\n",
       "      <td>1</td>\n",
       "    </tr>\n",
       "    <tr>\n",
       "      <th>216826</th>\n",
       "      <td>423635334745059328</td>\n",
       "      <td>1389837509</td>\n",
       "      <td>MrCosmoKot</td>\n",
       "      <td>[чувствовать, будущий, friend, зона, твитсдобром]</td>\n",
       "      <td>-1</td>\n",
       "      <td>0</td>\n",
       "      <td>0</td>\n",
       "      <td>0</td>\n",
       "      <td>60</td>\n",
       "      <td>4443</td>\n",
       "      <td>7</td>\n",
       "      <td>0</td>\n",
       "    </tr>\n",
       "    <tr>\n",
       "      <th>108267</th>\n",
       "      <td>411163690092601344</td>\n",
       "      <td>1386864037</td>\n",
       "      <td>MKozhina</td>\n",
       "      <td>[stepanbikerpro, nastuynlalala, poliktorsunova...</td>\n",
       "      <td>1</td>\n",
       "      <td>0</td>\n",
       "      <td>0</td>\n",
       "      <td>0</td>\n",
       "      <td>2065</td>\n",
       "      <td>77</td>\n",
       "      <td>58</td>\n",
       "      <td>1</td>\n",
       "    </tr>\n",
       "  </tbody>\n",
       "</table>\n",
       "</div>"
      ],
      "text/plain": [
       "                         0           1            2  \\\n",
       "32398   409748662927912960  1386526668  Alinysik_17   \n",
       "216826  423635334745059328  1389837509   MrCosmoKot   \n",
       "108267  411163690092601344  1386864037     MKozhina   \n",
       "\n",
       "                                                     text  4  5  6  7     8  \\\n",
       "32398   [наслаждаться, момент, блин, круто, носить, бр...  1  0  0  0   763   \n",
       "216826  [чувствовать, будущий, friend, зона, твитсдобром] -1  0  0  0    60   \n",
       "108267  [stepanbikerpro, nastuynlalala, poliktorsunova...  1  0  0  0  2065   \n",
       "\n",
       "           9  10  11  \n",
       "32398     16  20   1  \n",
       "216826  4443   7   0  \n",
       "108267    77  58   1  "
      ]
     },
     "execution_count": 14,
     "metadata": {},
     "output_type": "execute_result"
    }
   ],
   "source": [
    "data['text'] = preprocessed_text\n",
    "data.sample(3)"
   ]
  },
  {
   "cell_type": "code",
   "execution_count": 15,
   "metadata": {},
   "outputs": [],
   "source": [
    "dictionary = corpora.Dictionary(data['text'])\n",
    "dictionary.filter_extremes(no_below = 10, no_above = 0.9, keep_n=None)\n",
    "dictionary.save('tweets.dict')"
   ]
  },
  {
   "cell_type": "code",
   "execution_count": 16,
   "metadata": {},
   "outputs": [],
   "source": [
    "corpus = [dictionary.doc2bow(text) for text in data['text']]\n",
    "corpora.MmCorpus.serialize('tweets.model', corpus)"
   ]
  },
  {
   "cell_type": "code",
   "execution_count": 17,
   "metadata": {},
   "outputs": [],
   "source": [
    "lda = ldamodel.LdaModel(corpus, id2word=dictionary, num_topics=10, chunksize=50, update_every=1, passes=2)"
   ]
  },
  {
   "cell_type": "code",
   "execution_count": 18,
   "metadata": {},
   "outputs": [
    {
     "data": {
      "text/plain": [
       "[(0,\n",
       "  '0.126*\"всё\" + 0.020*\"понять\" + 0.019*\"работать\" + 0.015*\"вечер\" + 0.014*\"жаль\" + 0.013*\"ахах\" + 0.013*\"таки\" + 0.013*\"ребёнок\" + 0.013*\"минута\" + 0.012*\"месяц\"'),\n",
       " (1,\n",
       "  '0.078*\"мочь\" + 0.050*\"почему\" + 0.041*\"делать\" + 0.041*\"сидеть\" + 0.039*\"дом\" + 0.036*\"который\" + 0.025*\"написать\" + 0.021*\"хотя\" + 0.019*\"плохо\" + 0.018*\"понимать\"'),\n",
       " (2,\n",
       "  '0.100*\"день\" + 0.062*\"очень\" + 0.044*\"любить\" + 0.032*\"большой\" + 0.027*\"первый\" + 0.024*\"дело\" + 0.023*\"мама\" + 0.021*\"твой\" + 0.020*\"неделя\" + 0.019*\"забыть\"'),\n",
       " (3,\n",
       "  '0.163*\"это\" + 0.074*\"весь\" + 0.033*\"сказать\" + 0.031*\"говорить\" + 0.027*\"идти\" + 0.026*\"школа\" + 0.019*\"видеть\" + 0.012*\"скучать\" + 0.012*\"пара\" + 0.011*\"увидеть\"'),\n",
       " (4,\n",
       "  '0.072*\"сегодня\" + 0.067*\"просто\" + 0.059*\"знать\" + 0.022*\"работа\" + 0.021*\"найти\" + 0.020*\"посмотреть\" + 0.017*\"дать\" + 0.017*\"лента\" + 0.016*\"наверное\" + 0.015*\"рука\"'),\n",
       " (5,\n",
       "  '0.245*\"http\" + 0.043*\"новый\" + 0.042*\"год\" + 0.033*\"друг\" + 0.025*\"самый\" + 0.024*\"утро\" + 0.018*\"читать\" + 0.016*\"каждый\" + 0.015*\"добрый\" + 0.013*\"привет\"'),\n",
       " (6,\n",
       "  '0.060*\"человек\" + 0.046*\"завтра\" + 0.035*\"спать\" + 0.027*\"писать\" + 0.027*\"никто\" + 0.024*\"наш\" + 0.021*\"пока\" + 0.021*\"нужно\" + 0.021*\"жить\" + 0.016*\"снег\"'),\n",
       " (7,\n",
       "  '0.103*\"хотеть\" + 0.041*\"блин\" + 0.030*\"пойти\" + 0.029*\"ночь\" + 0.028*\"любимый\" + 0.025*\"хотеться\" + 0.025*\"ахи\" + 0.022*\"стать\" + 0.019*\"вчера\" + 0.017*\"бля\"'),\n",
       " (8,\n",
       "  '0.064*\"хороший\" + 0.040*\"смотреть\" + 0.037*\"думать\" + 0.033*\"болеть\" + 0.029*\"настроение\" + 0.023*\"голова\" + 0.020*\"второй\" + 0.015*\"папа\" + 0.014*\"слишком\" + 0.013*\"фото\"'),\n",
       " (9,\n",
       "  '0.072*\"ещё\" + 0.058*\"всё\" + 0.038*\"свой\" + 0.034*\"вообще\" + 0.028*\"спасибо\" + 0.024*\"время\" + 0.023*\"жизнь\" + 0.021*\"сделать\" + 0.017*\"ждать\" + 0.017*\"час\"')]"
      ]
     },
     "execution_count": 18,
     "metadata": {},
     "output_type": "execute_result"
    }
   ],
   "source": [
    "lda.show_topics(num_topics=10, num_words=10, formatted=True)"
   ]
  },
  {
   "cell_type": "code",
   "execution_count": 24,
   "metadata": {},
   "outputs": [
    {
     "data": {
      "text/html": [
       "\n",
       "<link rel=\"stylesheet\" type=\"text/css\" href=\"https://cdn.jsdelivr.net/gh/bmabey/pyLDAvis@3.4.0/pyLDAvis/js/ldavis.v1.0.0.css\">\n",
       "\n",
       "\n",
       "<div id=\"ldavis_el413691405204256292646449728023\" style=\"background-color:white;\"></div>\n",
       "<script type=\"text/javascript\">\n",
       "\n",
       "var ldavis_el413691405204256292646449728023_data = {\"mdsDat\": {\"x\": [-0.34481442014388697, -0.12166916623839943, -0.07984120166529039, -0.09261620900737376, -0.04879297502027735, -0.03869035590145247, -0.047184960062661596, 0.03453459795832219, 0.07615155903445223, 0.05801180632480778, 0.09699116457724108, 0.10448658279498778, 0.11553121115790287, 0.13830177391312928, 0.14960059227849895], \"y\": [-0.301577385009153, 0.28481133813918313, 0.11448813548212848, 0.14991015093977628, 0.05135282630176552, 0.03664119973535316, 0.04882880972684173, -0.026333027030543698, -0.044775002520739855, -0.0376948042111885, -0.05085559249089542, -0.053209719787481194, -0.05613125910074245, -0.05947835314616254, -0.05597731702814141], \"topics\": [1, 2, 3, 4, 5, 6, 7, 8, 9, 10, 11, 12, 13, 14, 15], \"cluster\": [1, 1, 1, 1, 1, 1, 1, 1, 1, 1, 1, 1, 1, 1, 1], \"Freq\": [12.300325555063248, 8.676586391397937, 8.243327266080755, 8.102060022926546, 7.911134184221725, 7.7996512550325345, 7.679058673806546, 6.623137704210162, 5.653602587610225, 5.566682785462849, 5.013408702766098, 4.805377908394685, 4.788003164484867, 3.9031554906990693, 2.9344883078427553]}, \"tinfo\": {\"Term\": [\"http\", \"\\u0432\\u0441\\u0451\", \"\\u044d\\u0442\\u043e\", \"\\u0445\\u043e\\u0442\\u0435\\u0442\\u044c\", \"\\u0435\\u0449\\u0451\", \"\\u0437\\u043d\\u0430\\u0442\\u044c\", \"\\u0431\\u043e\\u043b\\u044c\\u0448\\u043e\\u0439\", \"\\u0434\\u0435\\u043d\\u044c\", \"\\u0441\\u0435\\u0433\\u043e\\u0434\\u043d\\u044f\", \"\\u043c\\u043e\\u0447\\u044c\", \"\\u0434\\u0435\\u043b\\u0430\\u0442\\u044c\", \"\\u0432\\u0435\\u0441\\u044c\", \"\\u043f\\u0440\\u043e\\u0441\\u0442\\u043e\", \"\\u043d\\u043e\\u0432\\u044b\\u0439\", \"\\u0433\\u043e\\u0434\", \"\\u0447\\u0435\\u043b\\u043e\\u0432\\u0435\\u043a\", \"\\u0445\\u043e\\u0440\\u043e\\u0448\\u0438\\u0439\", \"\\u0433\\u043e\\u0432\\u043e\\u0440\\u0438\\u0442\\u044c\", \"\\u0431\\u043b\\u0438\\u043d\", \"\\u0441\\u0432\\u043e\\u0439\", \"\\u043e\\u0447\\u0435\\u043d\\u044c\", \"\\u0437\\u0430\\u0432\\u0442\\u0440\\u0430\", \"\\u0448\\u043a\\u043e\\u043b\\u0430\", \"\\u043f\\u043e\\u0447\\u0435\\u043c\\u0443\", \"\\u0438\\u0434\\u0442\\u0438\", \"\\u0441\\u043f\\u0430\\u0441\\u0438\\u0431\\u043e\", \"\\u043b\\u044e\\u0431\\u0438\\u0442\\u044c\", \"\\u0441\\u043a\\u0430\\u0437\\u0430\\u0442\\u044c\", \"\\u0443\\u0442\\u0440\\u043e\", \"\\u0432\\u043e\\u043e\\u0431\\u0449\\u0435\", \"\\u044d\\u0442\\u043e\", \"\\u0434\\u0435\\u043d\\u044c\", \"\\u0432\\u0435\\u0441\\u044c\", \"\\u043e\\u0447\\u0435\\u043d\\u044c\", \"\\u043f\\u0438\\u0441\\u0430\\u0442\\u044c\", \"\\u043d\\u0435\\u0434\\u0435\\u043b\\u044f\", \"\\u0437\\u0430\\u0431\\u044b\\u0442\\u044c\", \"\\u043f\\u043e\\u043d\\u044f\\u0442\\u044c\", \"\\u043e\\u0441\\u0442\\u0430\\u0442\\u044c\\u0441\\u044f\", \"\\u0434\\u0430\\u0442\\u044c\", \"\\u043f\\u0440\\u0430\\u0432\\u0434\\u0430\", \"\\u043f\\u0430\\u0440\\u0430\", \"\\u0432\\u0435\\u0447\\u0435\\u0440\", \"\\u043d\\u0430\\u0434\\u0435\\u044f\\u0442\\u044c\\u0441\\u044f\", \"\\u043a\\u043e\\u043d\\u0435\\u0446\", \"\\u0431\\u043e\\u0433\", \"\\u043b\\u0430\\u0434\\u043d\\u044b\\u0439\", \"\\u0438\\u043d\\u0442\\u0435\\u0440\\u0435\\u0441\\u043d\\u043e\", \"\\u0442\\u043e\\u0447\\u043d\\u043e\", \"\\u043e\\u0444\\u0438\\u0433\\u0435\\u043d\\u043d\\u044b\\u0439\", \"\\u043a\\u0440\\u0443\\u0442\\u043e\", \"\\u043f\\u0443\\u0441\\u0442\\u044c\", \"\\u0434\\u043e\\u043b\\u0433\\u043e\", \"\\u0430\\u0445\\u0430\\u0445\\u0438\", \"\\u043d\\u043e\\u0440\\u043c\\u0430\", \"\\u0433\\u043b\\u0430\\u0432\\u043d\\u043e\\u0435\", \"\\u0443\\u0434\\u0430\\u0447\\u0430\", \"\\u0441\\u0447\\u0430\\u0441\\u0442\\u043b\\u0438\\u0432\\u044b\\u0439\", \"\\u0434\\u0443\\u0448\\u0430\", \"\\u043f\\u043e\\u043d\\u0440\\u0430\\u0432\\u0438\\u0442\\u044c\\u0441\\u044f\", \"http\", \"\\u043b\\u044e\\u0431\\u0438\\u0442\\u044c\", \"\\u0441\\u0430\\u043c\\u044b\\u0439\", \"\\u0441\\u0434\\u0435\\u043b\\u0430\\u0442\\u044c\", \"\\u0430\\u0445\\u0438\", \"\\u0447\\u0438\\u0442\\u0430\\u0442\\u044c\", \"\\u0434\\u0430\\u0432\\u0430\\u0442\\u044c\", \"\\u0441\\u043a\\u0443\\u0447\\u0430\\u0442\\u044c\", \"\\u0444\\u043e\\u0442\\u043a\\u0430\", \"\\u043a\\u0440\\u0430\\u0441\\u0438\\u0432\\u044b\\u0439\", \"\\u0437\\u043d\\u0430\\u0447\\u0438\\u0442\", \"\\u0434\\u0435\\u0432\\u043e\\u0447\\u043a\\u0430\", \"\\u043f\\u0440\\u0430\\u0437\\u0434\\u043d\\u0438\\u043a\", \"\\u0432\\u043e\\u043f\\u0440\\u043e\\u0441\", \"\\u0434\\u043e\\u0440\\u043e\\u0433\\u043e\\u0439\", \"\\u0454\\u0432\\u0440\\u043e\\u043c\\u0430\\u0439\\u0434\\u0430\\u043d\", \"\\u043a\\u0430\\u0440\\u0442\\u0438\\u043d\\u043a\\u0430\", \"\\u043c\\u0430\\u043b\\u044c\\u0447\\u0438\\u043a\", \"amp\", \"\\u0432\\u043e\\u043a\\u0440\\u0443\\u0433\", \"\\u043c\\u0430\\u0439\\u0434\\u0430\\u043d\", \"\\u0447\\u0451\\u0440\\u043d\\u044b\\u0439\", \"\\u0435\\u0432\\u0440\\u043e\\u043c\\u0430\\u0439\\u0434\\u0430\\u043d\", \"\\u043d\\u0430\\u0437\\u044b\\u0432\\u0430\\u0442\\u044c\\u0441\\u044f\", \"euromaidan\", \"tukvasociopat\", \"\\u043d\\u0430\\u043f\\u043e\\u043c\\u043d\\u0438\\u0442\\u044c\", \"\\u043d\\u0430\\u0434\\u043f\\u0438\\u0441\\u044c\", \"\\u0432\\u0438\\u0434\", \"\\u043a\\u0438\\u0435\\u0432\", \"\\u043c\\u043e\\u0447\\u044c\", \"\\u0447\\u0435\\u043b\\u043e\\u0432\\u0435\\u043a\", \"\\u043f\\u043e\\u0447\\u0435\\u043c\\u0443\", \"\\u0441\\u0438\\u0434\\u0435\\u0442\\u044c\", \"\\u043a\\u043e\\u0442\\u043e\\u0440\\u044b\\u0439\", \"\\u0431\\u043e\\u043b\\u0435\\u0442\\u044c\", \"\\u043d\\u0430\\u0439\\u0442\\u0438\", \"\\u0433\\u043e\\u043b\\u043e\\u0432\\u0430\", \"\\u043f\\u043e\\u043d\\u0438\\u043c\\u0430\\u0442\\u044c\", \"\\u0432\\u0447\\u0435\\u0440\\u0430\", \"\\u0441\\u043e\\u043d\", \"\\u0440\\u0443\\u043a\\u0430\", \"\\u0440\\u043e\\u0436\\u0434\\u0435\\u043d\\u0438\\u0435\", \"\\u0447\\u0443\\u0432\\u0441\\u0442\\u0432\\u043e\", \"\\u043c\\u0435\\u0441\\u0442\\u043e\", \"\\u043a\\u0440\\u0443\\u0442\\u043e\\u0439\", \"\\u043f\\u043b\\u043e\\u0445\\u043e\\u0439\", \"\\u043d\\u0430\\u0447\\u0430\\u0442\\u044c\", \"\\u0443\\u0436\\u0430\\u0441\\u043d\\u043e\", \"\\u0441\\u0443\\u043a\\u0430\", \"\\u043c\\u0430\\u043b\\u043e\", \"\\u043f\\u0438\\u0442\\u044c\", \"\\u0441\\u0447\\u0430\\u0441\\u0442\\u0438\\u0435\", \"\\u0441\\u0438\\u043b\\u044c\\u043d\\u043e\", \"\\u043f\\u043e\\u043b\\u043d\\u044b\\u0439\", \"\\u043d\\u043e\\u0433\\u0430\", \"\\u0441\\u0435\\u043c\\u044c\\u044f\", \"\\u0432\\u043c\\u0435\\u0441\\u0442\\u043e\", \"\\u0443\\u0441\\u043d\\u0443\\u0442\\u044c\", \"\\u0441\\u043a\\u0438\\u043d\\u0443\\u0442\\u044c\", \"\\u0432\\u0441\\u0451\", \"\\u0432\\u043e\\u043e\\u0431\\u0449\\u0435\", \"\\u0434\\u0440\\u0443\\u0433\", \"\\u0432\\u0440\\u0435\\u043c\\u044f\", \"\\u043d\\u0430\\u0441\\u0442\\u0440\\u043e\\u0435\\u043d\\u0438\\u0435\", \"\\u043a\\u0443\\u043f\\u0438\\u0442\\u044c\", \"\\u043f\\u0440\\u0438\\u0432\\u0435\\u0442\", \"\\u0440\\u0430\\u0432\\u043d\\u043e\", \"\\u043a\\u0430\\u0437\\u0430\\u0442\\u044c\\u0441\\u044f\", \"\\u0440\\u0435\\u0448\\u0438\\u0442\\u044c\", \"\\u0436\\u0430\\u043b\\u043a\\u043e\", \"\\u0432\\u0440\\u043e\\u0434\\u0435\", \"\\u043f\\u043e\\u043b\\u0443\\u0447\\u0438\\u0442\\u044c\\u0441\\u044f\", \"\\u043e\\u0442\\u043b\\u0438\\u0447\\u043d\\u044b\\u0439\", \"\\u043d\\u043e\\u0440\\u043c\\u0430\\u043b\\u044c\\u043d\\u043e\", \"\\u0440\\u0430\\u043d\\u043e\", \"\\u0443\\u0442\\u0440\\u043e\\u043c\", \"\\u043d\\u0435\\u043c\\u043d\\u043e\\u0433\\u043e\", \"\\u0431\\u0435\\u0441\\u0438\\u0442\\u044c\", \"\\u0441\\u043a\\u0443\\u0447\\u043d\\u043e\", \"\\u0431\\u0438\\u043b\\u0435\\u0442\", \"\\u043e\\u0441\\u043e\\u0431\\u0435\\u043d\\u043d\\u043e\", \"\\u0432\\u0441\\u0442\\u0430\\u0432\\u0430\\u0442\\u044c\", \"\\u043d\\u0438\\u043a\\u0430\\u043a\\u043e\\u0439\", \"\\u043f\\u043e\\u0433\\u0443\\u043b\\u044f\\u0442\\u044c\", \"\\u043f\\u0435\\u0440\\u0435\\u0441\\u0442\\u0430\\u0442\\u044c\", \"\\u043b\\u044e\\u0431\\u043e\\u0439\", \"\\u043f\\u043e\\u0434\\u043d\\u044f\\u0442\\u044c\", \"\\u0438\\u0441\\u043f\\u043e\\u0440\\u0442\\u0438\\u0442\\u044c\", \"\\u0441\\u0434\\u0430\\u0432\\u0430\\u0442\\u044c\", \"\\u0441\\u0435\\u0433\\u043e\\u0434\\u043d\\u044f\", \"\\u0441\\u0432\\u043e\\u0439\", \"\\u043f\\u043e\\u0439\\u0442\\u0438\", \"\\u043d\\u043e\\u0447\\u044c\", \"\\u043b\\u044e\\u0431\\u0438\\u043c\\u044b\\u0439\", \"\\u043f\\u0440\\u0438\\u0439\\u0442\\u0438\", \"\\u0443\\u0440\\u043e\\u043a\", \"\\u043d\\u0438\\u0431\\u044b\\u0442\\u044c\", \"\\u043b\\u0435\\u043d\\u0442\\u0430\", \"\\u0431\\u043b\\u044f\", \"\\u0443\\u0432\\u0438\\u0434\\u0435\\u0442\\u044c\", \"\\u0442\\u0432\\u0438\\u0442\", \"\\u0434\\u043e\\u043b\\u0436\\u043d\\u044b\\u0439\", \"\\u043f\\u043e\\u0434\\u0430\\u0440\\u043e\\u043a\", \"\\u0434\\u043e\\u043c\\u043e\\u0439\", \"\\u043f\\u043e\\u0434\\u0440\\u0443\\u0433\\u0430\", \"\\u0443\\u0437\\u043d\\u0430\\u0442\\u044c\", \"\\u0441\\u043d\\u043e\\u0432\\u0430\", \"\\u0435\\u0434\\u0430\", \"\\u043f\\u0440\\u044f\\u043c\", \"\\u043f\\u043e\\u043b\\u0443\\u0447\\u0438\\u0442\\u044c\", \"\\u0431\\u0440\\u0430\\u0442\", \"\\u0441\\u0445\\u043e\\u0434\\u0438\\u0442\\u044c\", \"\\u0435\\u0445\\u0430\\u0442\\u044c\", \"\\u0443\\u0441\\u043f\\u0435\\u0442\\u044c\", \"\\u0441\\u0432\\u0435\\u0442\", \"\\u043d\\u043e\\u0432\\u043e\\u0441\\u0442\\u044c\", \"\\u0441\\u0442\\u0440\\u0430\\u0448\\u043d\\u043e\", \"\\u0441\\u043f\\u043e\\u043a\\u043e\\u0439\\u043d\\u044b\\u0439\", \"\\u0440\\u0435\\u0430\\u043b\\u044c\\u043d\\u043e\", \"\\u0445\\u043e\\u0440\\u043e\\u0448\\u0438\\u0439\", \"\\u0437\\u0430\\u0432\\u0442\\u0440\\u0430\", \"\\u0441\\u043a\\u0430\\u0437\\u0430\\u0442\\u044c\", \"\\u043d\\u0438\\u043a\\u0442\\u043e\", \"\\u043d\\u0430\\u0448\", \"\\u0445\\u043e\\u0442\\u0435\\u0442\\u044c\\u0441\\u044f\", \"\\u043d\\u0443\\u0436\\u043d\\u043e\", \"\\u0441\\u0442\\u0430\\u0442\\u044c\", \"\\u043f\\u043e\\u0441\\u043b\\u0435\\u0434\\u043d\\u0438\\u0439\", \"\\u043f\\u0430\\u0440\\u0435\\u043d\\u044c\", \"\\u043f\\u0430\\u043f\\u0430\", \"\\u0441\\u043b\\u043e\\u0432\\u043e\", \"\\u0440\\u0443\\u0441\\u0441\\u043a\\u0438\\u0439\", \"\\u0433\\u043b\\u0430\\u0437\", \"\\u0441\\u043b\\u0443\\u0448\\u0430\\u0442\\u044c\", \"\\u0434\\u0435\\u0432\\u0443\\u0448\\u043a\\u0430\", \"\\u043c\\u0443\\u0437\\u044b\\u043a\\u0430\", \"\\u043f\\u043e\\u044d\\u0442\\u043e\\u043c\\u0443\", \"\\u0431\\u044b\\u0432\\u0430\\u0442\\u044c\", \"\\u043f\\u043b\\u0430\\u043d\", \"\\u0441\\u0440\\u0430\\u0437\\u0443\", \"\\u0436\\u0435\\u043b\\u0430\\u043d\\u0438\\u0435\", \"\\u043f\\u043e\\u043c\\u043d\\u0438\\u0442\\u044c\", \"\\u043e\\u0431\\u0438\\u0434\\u043d\\u043e\", \"\\u0441\\u0435\\u0440\\u0438\\u044f\", \"\\u0437\\u0432\\u043e\\u043d\\u0438\\u0442\\u044c\", \"\\u0431\\u0440\\u0430\\u0442\\u044c\", \"\\u0433\\u0440\\u0443\\u0441\\u0442\\u043d\\u043e\", \"\\u0433\\u0440\\u0443\\u043f\\u043f\\u0430\", \"\\u0432\\u0435\\u0440\\u0438\\u0442\\u044c\", \"\\u043f\\u0440\\u043e\\u0441\\u0442\\u043e\", \"\\u0434\\u043e\\u043c\", \"\\u0436\\u0438\\u0437\\u043d\\u044c\", \"\\u043f\\u0435\\u0440\\u0432\\u044b\\u0439\", \"\\u0442\\u0432\\u043e\\u0439\", \"\\u0440\\u0430\\u0431\\u043e\\u0442\\u0430\", \"\\u043f\\u043e\\u0441\\u043c\\u043e\\u0442\\u0440\\u0435\\u0442\\u044c\", \"\\u0440\\u0430\\u0431\\u043e\\u0442\\u0430\\u0442\\u044c\", \"\\u0432\\u0442\\u043e\\u0440\\u043e\\u0439\", \"\\u043f\\u0435\\u0441\\u043d\\u044f\", \"\\u043d\\u0440\\u0430\\u0432\\u0438\\u0442\\u044c\\u0441\\u044f\", \"\\u0436\\u0430\\u043b\\u044c\", \"\\u0442\\u0430\\u043a\\u0438\", \"\\u0440\\u0435\\u0431\\u0451\\u043d\\u043e\\u043a\", \"\\u043f\\u0440\\u043e\\u0441\\u0442\\u0438\\u0442\\u044c\", \"\\u043c\\u0435\\u0441\\u044f\\u0446\", \"\\u043d\\u0430\\u0447\\u0438\\u043d\\u0430\\u0442\\u044c\", \"\\u0432\\u0437\\u044f\\u0442\\u044c\", \"\\u0431\\u043e\\u043b\\u044c\", \"\\u0434\\u0435\\u043d\\u044c\\u0433\\u0430\", \"\\u043c\\u0430\\u043b\\u0435\\u043d\\u044c\\u043a\\u0438\\u0439\", \"\\u043a\\u043b\\u0430\\u0441\\u0441\", \"ddd\", \"\\u0437\\u0430\\u0445\\u043e\\u0434\\u0438\\u0442\\u044c\", \"\\u0440\\u0435\\u0431\\u044f\\u0442\\u0430\", \"\\u0447\\u0443\\u0432\\u0441\\u0442\\u0432\\u043e\\u0432\\u0430\\u0442\\u044c\", \"\\u043d\\u0435\\u0442\\u0443\", \"\\u0440\\u0430\\u0434\\u043e\\u0441\\u0442\\u044c\", \"\\u043c\\u043e\\u043c\\u0435\\u043d\\u0442\", \"\\u043e\\u0442\\u043b\\u0438\\u0447\\u043d\\u043e\", \"\\u043d\\u043e\\u0432\\u044b\\u0439\", \"\\u0433\\u043e\\u0434\", \"\\u0441\\u043c\\u043e\\u0442\\u0440\\u0435\\u0442\\u044c\", \"\\u0434\\u0443\\u043c\\u0430\\u0442\\u044c\", \"\\u0436\\u0434\\u0430\\u0442\\u044c\", \"\\u0436\\u0438\\u0442\\u044c\", \"\\u043d\\u043e\\u0432\\u043e\\u0433\\u043e\\u0434\\u043d\\u0438\\u0439\", \"\\u0432\\u044b\\u0439\\u0442\\u0438\", \"\\u043f\\u0440\\u0438\\u0439\\u0442\\u0438\\u0441\\u044c\", \"\\u0444\\u043e\\u0442\\u043e\", \"\\u0437\\u0430\\u043a\\u043e\\u043d\\u0447\\u0438\\u0442\\u044c\\u0441\\u044f\", \"\\u0451\\u043b\\u043a\\u0430\", \"\\u043f\\u043e\\u0436\\u0430\\u043b\\u0443\\u0439\\u0441\\u0442\\u0430\", \"\\u043c\\u0430\\u0448\\u0438\\u043d\\u0430\", \"\\u0441\\u0435\\u0440\\u0438\\u0430\\u043b\", \"\\u043f\\u043e\\u0433\\u043e\\u0434\\u0430\", \"\\u043f\\u044b\\u0442\\u0430\\u0442\\u044c\\u0441\\u044f\", \"\\u0441\\u0442\\u0430\\u0440\\u044b\\u0439\", \"\\u0434\\u0435\\u043a\\u0430\\u0431\\u0440\\u044c\", \"\\u0432\\u0438\\u0434\\u0435\\u043e\", \"\\u043e\\u043a\\u0430\\u0437\\u044b\\u0432\\u0430\\u0442\\u044c\\u0441\\u044f\", \"\\u0432\\u0435\\u0449\\u044c\", \"\\u043f\\u043e\\u0445\\u043e\\u0436\\u0435\", \"\\u0432\\u0430\\u0448\", \"\\u0441\\u0435\\u0437\\u043e\\u043d\", \"\\u0437\\u0430\\u0442\\u043e\", \"\\u0441\\u043b\\u0435\\u0434\\u0443\\u044e\\u0449\\u0438\\u0439\", \"\\u0433\\u043e\\u0432\\u043d\\u043e\", \"\\u0432\\u0438\\u0434\\u0438\\u043c\\u043e\", \"\\u0447\\u0438\\u0442\\u0430\\u0442\\u0435\\u043b\\u044c\", \"\\u0435\\u0449\\u0451\", \"\\u0438\\u0434\\u0442\\u0438\", \"\\u043f\\u043b\\u043e\\u0445\\u043e\", \"\\u043d\\u0430\\u0432\\u0435\\u0440\\u043d\\u043e\\u0435\", \"\\u0445\\u043e\\u0434\\u0438\\u0442\\u044c\", \"\\u0443\\u0447\\u0438\\u0442\\u044c\", \"\\u0438\\u0431\\u043e\", \"\\u044d\\u043a\\u0437\\u0430\\u043c\\u0435\\u043d\", \"\\u0440\\u0430\\u043d\\u043d\\u0438\\u0439\", \"\\u043c\\u0430\\u0433\\u0430\\u0437\\u0438\\u043d\", \"\\u0437\\u0430\\u0447\\u0451\\u0442\", \"\\u0441\\u0434\\u0430\\u0442\\u044c\", \"\\u043b\\u0435\\u043d\\u044c\", \"\\u043f\\u043e\\u043b\", \"\\u0438\\u0441\\u0442\\u043e\\u0440\\u0438\\u044f\", \"\\u0441\\u0435\\u0440\\u0434\\u0446\\u0435\", \"\\u0443\\u0441\\u0442\\u0430\\u0442\\u044c\", \"\\u044f\\u043d\\u0432\\u0430\\u0440\\u044c\", \"\\u0433\\u043e\\u0442\\u043e\\u0432\\u0438\\u0442\\u044c\\u0441\\u044f\", \"\\u043f\\u0440\\u0435\\u0434\\u0441\\u0442\\u0430\\u0432\\u043b\\u044f\\u0442\\u044c\", \"\\u0430\\u0445\\u0430\\u0445\\u0430\\u0445\", \"\\u043a\\u043e\\u0442\", \"\\u0441\\u0442\\u0438\\u0445\", \"\\u0431\\u043e\\u043b\\u044c\\u043d\\u043e\", \"\\u0441\\u043c\\u0435\\u044f\\u0442\\u044c\\u0441\\u044f\", \"\\u0442\\u0443\\u0434\\u0430\", \"\\u0444\\u0438\\u0437\\u0438\\u043a\\u0430\", \"\\u0441\\u0435\\u0441\\u0441\\u0438\\u044f\", \"\\u0437\\u0430\\u0445\\u043e\\u0442\\u0435\\u0442\\u044c\", \"\\u0432\\u044b\\u0443\\u0447\\u0438\\u0442\\u044c\", \"\\u0441\\u043f\\u0430\\u0441\\u0438\\u0431\\u043e\", \"\\u0441\\u043f\\u0430\\u0442\\u044c\", \"\\u0434\\u0435\\u043b\\u043e\", \"\\u043c\\u0430\\u043c\\u0430\", \"\\u0447\\u0430\\u0441\", \"\\u043d\\u0443\\u0436\\u043d\\u044b\\u0439\", \"\\u043f\\u043e\\u0440\\u0430\", \"\\u0431\\u043b\\u044f\\u0434\\u044c\", \"\\u043c\\u0438\\u043d\\u0443\\u0442\\u0430\", \"\\u043f\\u0440\\u043e\\u0439\\u0442\\u0438\", \"\\u043f\\u0440\\u0438\\u044f\\u0442\\u043d\\u043e\", \"\\u0446\\u0435\\u043b\\u044b\\u0439\", \"\\u043f\\u0440\\u0435\\u043a\\u0440\\u0430\\u0441\\u043d\\u044b\\u0439\", \"\\u0433\\u043e\\u0440\\u043e\\u0434\", \"\\u043a\\u0430\\u043f\\u0435\\u0446\", \"\\u0433\\u0443\\u043b\\u044f\\u0442\\u044c\", \"\\u0441\\u043e\\u0431\\u0438\\u0440\\u0430\\u0442\\u044c\\u0441\\u044f\", \"\\u0432\\u0441\\u0442\\u0430\\u0442\\u044c\", \"\\u043b\\u0435\\u0447\\u044c\", \"\\u043f\\u043e\\u043c\\u043e\\u0447\\u044c\", \"\\u0432\\u0435\\u0441\\u0435\\u043b\\u043e\", \"\\u043a\\u0440\\u043e\\u0432\\u0430\\u0442\\u044c\", \"\\u043f\\u0438\\u0437\\u0434\\u0435\\u0446\", \"\\u043a\\u0432\\u0430\\u0440\\u0442\\u0438\\u0440\\u0430\", \"\\u043b\\u0435\\u0436\\u0430\\u0442\\u044c\", \"\\u0432\\u0435\\u0447\\u0435\\u0440\\u043e\\u043c\", \"\\u043e\\u0433\\u0440\\u043e\\u043c\\u043d\\u044b\\u0439\", \"\\u0441\\u043f\\u0430\\u0441\\u0442\\u044c\", \"\\u043b\\u043e\\u0436\\u0438\\u0442\\u044c\\u0441\\u044f\", \"\\u0447\\u0435\\u0442\\u0432\\u0435\\u0440\\u0442\\u044c\", \"\\u0445\\u043e\\u0442\\u0435\\u0442\\u044c\", \"\\u0431\\u043b\\u0438\\u043d\", \"\\u043d\\u0430\\u043f\\u0438\\u0441\\u0430\\u0442\\u044c\", \"\\u0442\\u0435\\u043b\\u0435\\u0444\\u043e\\u043d\", \"\\u0430\\u0445\\u0430\\u0445\", \"\\u0443\\u0447\\u0438\\u0442\\u044c\\u0441\\u044f\", \"\\u0442\\u0432\\u0438\\u0442\\u0442\\u0435\\u0440\", \"\\u0432\\u0441\\u043f\\u043e\\u043c\\u043d\\u0438\\u0442\\u044c\", \"\\u043d\\u0435\\u043d\\u0430\\u0432\\u0438\\u0434\\u0435\\u0442\\u044c\", \"\\u043c\\u043e\\u0440\\u043e\\u0437\", \"\\u043f\\u0438\\u0441\\u044c\\u043c\\u043e\", \"\\u0434\\u0435\\u0434\", \"\\u043f\\u0440\\u043e\\u0431\\u043a\\u0430\", \"\\u043e\\u0431\\u0440\\u0430\\u0442\\u043d\\u043e\", \"\\u043a\\u0443\\u0448\\u0430\\u0442\\u044c\", \"\\u0437\\u0430\\u0431\\u0440\\u0430\\u0442\\u044c\", \"\\u0431\\u044b\\u0441\\u0442\\u0440\\u044b\\u0439\", \"\\u0436\\u0438\\u0437\\u043d\\u044c\\u0431\\u043e\\u043b\\u044c\", \"\\u0434\\u043e\\u0441\\u0442\\u0430\\u0442\\u044c\", \"\\u0440\\u0435\\u0442\\u0432\\u0438\\u0442\", \"\\u043e\\u0442\\u043f\\u0440\\u0430\\u0432\\u0438\\u0442\\u044c\", \"\\u043f\\u0440\\u0438\\u0441\\u043b\\u0430\\u0442\\u044c\", \"\\u043f\\u0440\\u0438\\u043b\\u043e\\u0436\\u0435\\u043d\\u0438\\u0435\", \"\\u0431\\u043e\\u043b\\u0442\\u0430\\u0442\\u044c\", \"\\u043f\\u0440\\u0438\\u043d\\u0438\\u043c\\u0430\\u0442\\u044c\", \"\\u0441\\u0446\\u0435\\u043d\\u0430\\u0440\\u0438\\u0439\", \"\\u0441\\u043f\\u0435\\u043a\\u0442\\u0430\\u043a\\u043b\\u044c\", \"\\u043e\\u0442\\u043a\\u0440\\u044b\\u0432\\u0430\\u0442\\u044c\", \"\\u0441\\u043b\\u043e\\u043c\\u0430\\u0442\\u044c\", \"\\u0441\\u043a\\u043e\\u0440\\u044b\\u0439\", \"\\u0430\\u0433\\u0430\", \"\\u0433\\u043e\\u0432\\u043e\\u0440\\u0438\\u0442\\u044c\", \"\\u0448\\u043a\\u043e\\u043b\\u0430\", \"\\u0432\\u0438\\u0434\\u0435\\u0442\\u044c\", \"\\u0441\\u043a\\u043e\\u0440\\u043e\", \"\\u0434\\u0430\\u0432\\u043d\\u043e\", \"\\u0441\\u043b\\u0438\\u0448\\u043a\\u043e\\u043c\", \"\\u043a\\u0430\\u043d\\u0438\\u043a\\u0443\\u043b\\u044b\", \"\\u043f\\u0440\\u0438\\u0435\\u0445\\u0430\\u0442\\u044c\", \"\\u0431\\u043e\\u044f\\u0442\\u044c\\u0441\\u044f\", \"\\u0441\\u043c\\u043e\\u0447\\u044c\", \"\\u0441\\u0442\\u043e\\u0438\\u0442\\u044c\", \"\\u0438\\u0433\\u0440\\u0430\\u0442\\u044c\", \"\\u043f\\u0440\\u0438\\u0445\\u043e\\u0434\\u0438\\u0442\\u044c\", \"\\u043f\\u0440\\u043e\\u0441\\u043d\\u0443\\u0442\\u044c\\u0441\\u044f\", \"\\u0443\\u0439\\u0442\\u0438\", \"\\u0437\\u0430\\u0431\\u043e\\u043b\\u0435\\u0442\\u044c\", \"\\u0440\\u043e\\u0434\\u0438\\u0442\\u0435\\u043b\\u044c\", \"\\u043d\\u0435\\u0447\\u0435\\u0433\\u043e\", \"\\u0430\\u0430\\u0430\", \"\\u043f\\u043e\\u0445\\u043e\\u0434\", \"\\u0431\\u044b\\u0441\\u0442\\u0440\\u043e\", \"\\u0447\\u0435\\u0441\\u0442\\u043d\\u043e\", \"\\u0442\\u0435\\u043c\\u043f\\u0435\\u0440\\u0430\\u0442\\u0443\\u0440\\u0430\", \"\\u0440\\u0435\\u0434\\u043a\\u043e\", \"\\u043b\\u043e\\u043b\\u0430\", \"\\u043e\\u0431\\u0449\\u0430\\u0442\\u044c\\u0441\\u044f\", \"\\u0434\\u043e\\u0440\\u043e\\u0433\\u043e\", \"\\u0438\\u043d\\u0441\\u0442\\u0438\\u0442\\u0443\\u0442\", \"\\u0440\\u0430\\u0441\\u0441\\u043a\\u0430\\u0437\\u044b\\u0432\\u0430\\u0442\\u044c\", \"\\u043a\\u0438\\u0435\\u0432\", \"\\u0432\\u0437\\u0440\\u044b\\u0432\", \"\\u0443\\u0442\\u0440\\u043e\", \"\\u043f\\u043e\\u043a\\u0430\", \"\\u043a\\u0430\\u0436\\u0434\\u044b\\u0439\", \"\\u0434\\u043e\\u0431\\u0440\\u044b\\u0439\", \"\\u0441\\u043d\\u0435\\u0433\", \"\\u0444\\u0438\\u043b\\u044c\\u043c\", \"\\u0437\\u0438\\u043c\\u0430\", \"\\u043b\\u044e\\u0431\\u043e\\u0432\\u044c\", \"\\u0432\\u044b\\u0445\\u043e\\u0434\\u043d\\u043e\\u0439\", \"\\u043c\\u0438\\u043b\\u044b\\u0439\", \"\\u0443\\u043b\\u0438\\u0446\\u0430\", \"\\u043d\\u0430\\u0447\\u0430\\u0442\\u044c\\u0441\\u044f\", \"\\u043c\\u0438\\u0440\", \"\\u043f\\u043e\\u043d\\u0435\\u0434\\u0435\\u043b\\u044c\\u043d\\u0438\\u043a\", \"\\u0443\\u043c\\u0435\\u0442\\u044c\", \"\\u0436\\u0435\\u043d\\u0449\\u0438\\u043d\\u0430\", \"\\u0431\\u043e\\u043b\\u044c\\u0448\\u0438\\u0439\", \"\\u043f\\u043e\\u043a\\u0443\\u043f\\u0430\\u0442\\u044c\", \"\\u0434\\u043e\\u0436\\u0434\\u044c\", \"\\u043a\\u043e\\u0444\\u0435\", \"\\u0441\\u0432\\u043e\\u0431\\u043e\\u0434\\u043d\\u044b\\u0439\", \"\\u044d\\u043c\\u043e\\u0446\\u0438\\u044f\", \"\\u043f\\u0440\\u043e\\u0441\\u044b\\u043f\\u0430\\u0442\\u044c\\u0441\\u044f\", \"\\u0443\\u0433\\u0430\\u0434\\u0430\\u0442\\u044c\", \"\\u0432\\u044b\\u043f\\u0430\\u0441\\u0442\\u044c\", \"\\u043d\\u0430\\u0447\\u0438\\u043d\\u0430\\u0442\\u044c\\u0441\\u044f\", \"\\u0438\\u0437\\u0432\\u0438\\u043d\\u0438\\u0442\\u044c\", \"\\u043e\\u0431\\u0435\\u0434\", \"\\u0443\\u043b\\u044b\\u0431\\u0430\\u0442\\u044c\\u0441\\u044f\", \"\\u0432\\u0435\\u0441\\u0442\\u0438\", \"\\u0437\\u043d\\u0430\\u0442\\u044c\", \"\\u0434\\u0435\\u043b\\u0430\\u0442\\u044c\", \"\\u0445\\u043e\\u0442\\u044f\", \"\\u043d\\u0430\\u0447\\u0430\\u043b\\u043e\", \"\\u043b\\u0435\\u0442\\u043e\", \"\\u043f\\u0440\\u043e\\u0431\\u043b\\u0435\\u043c\\u0430\", \"\\u0441\\u043a\\u043e\\u043b\\u044c\\u043a\\u043e\", \"\\u0441\\u043f\\u0440\\u043e\\u0441\\u0438\\u0442\\u044c\", \"\\u0434\\u0430\\u043b\\u0451\\u043a\\u0438\\u0439\", \"\\u043f\\u043e\\u043c\\u043e\\u0433\\u0430\\u0442\\u044c\", \"\\u0440\\u0430\\u0441\\u0441\\u043a\\u0430\\u0437\\u0430\\u0442\\u044c\", \"\\u0445\\u0440\\u0435\\u043d\", \"\\u043e\\u0442\\u043a\\u0443\\u0434\\u0430\", \"\\u0441\\u0438\\u0442\\u0443\\u0430\\u0446\\u0438\\u044f\", \"\\u043e\\u0431\\u044f\\u0437\\u0430\\u0442\\u0435\\u043b\\u044c\\u043d\\u043e\", \"\\u0437\\u0430\\u043d\\u044f\\u0442\\u044c\\u0441\\u044f\", \"\\u0430\\u0433\\u0430\", \"\\u043e\\u0431\\u0449\\u0438\\u0439\", \"\\u043f\\u0430\\u043c\\u044f\\u0442\\u044c\", \"\\u043f\\u043e\\u043f\\u0440\\u043e\\u0449\\u0430\\u0442\\u044c\\u0441\\u044f\", \"\\u043b\\u0438\\u0446\\u043e\", \"\\u0437\\u043e\\u043b\\u043e\\u0442\\u043e\\u0439\", \"\\u0431\\u0440\\u043e\\u0441\\u0430\\u0442\\u044c\", \"\\u0440\\u0430\\u0437\\u0433\\u043e\\u0432\\u043e\\u0440\", \"\\u043e\\u0442\\u043f\\u0443\\u0441\\u043a\", \"\\u0442\\u0440\\u0430\\u0432\\u0438\\u0442\\u044c\", \"\\u043c\\u0430\\u0441\\u0441\\u0430\\u0436\", \"\\u0440\\u0430\\u0434\\u043e\\u0432\\u0430\\u0442\\u044c\\u0441\\u044f\", \"\\u0430\\u0445\\u0443\\u0435\\u043d\\u043d\\u043e\", \"aleshru\", \"\\u0438\\u043c\\u044f\", \"\\u043a\\u0440\\u043e\\u043c\\u0435\", \"\\u0440\\u0438\\u0441\\u043e\\u0432\\u0430\\u0442\\u044c\", \"\\u0431\\u043e\\u043b\\u044c\\u0448\\u043e\\u0439\", \"\\u0440\\u043e\\u0441\\u0441\\u0438\\u044f\", \"\\u043c\\u043e\\u0441\\u043a\\u0432\\u0430\", \"\\u0432\\u044b\\u0441\\u043f\\u0430\\u0442\\u044c\\u0441\\u044f\", \"\\u0440\\u044f\\u0434\\u043e\\u043c\", \"\\u043a\\u043e\\u043d\\u0446\\u0435\\u0440\\u0442\", \"\\u0443\\u043a\\u0440\\u0430\\u0438\\u043d\\u0430\", \"\\u043f\\u0440\\u043e\\u0432\\u0435\\u0441\\u0442\\u0438\", \"\\u0441\\u0442\\u0440\\u0430\\u043d\\u0430\", \"\\u043a\\u043e\\u043d\\u0441\\u0442\\u0438\\u0442\\u0443\\u0446\\u0438\\u044f\", \"\\u0435\\u0434\\u0438\\u043d\\u044b\\u0439\", \"\\u043a\\u043e\\u043d\\u0447\\u0438\\u0442\\u044c\\u0441\\u044f\", \"\\u043f\\u0440\\u0435\\u0437\\u0438\\u0434\\u0435\\u043d\\u0442\", \"\\u043e\\u0441\\u043d\\u043e\\u0432\\u0430\", \"\\u0438\\u043d\\u0438\\u0446\\u0438\\u0430\\u0442\\u0438\\u0432\\u0430\", \"\\u0431\\u043b\\u044f\\u0442\\u044c\", \"\\u043f\\u0440\\u0438\\u0435\\u0437\\u0436\\u0430\\u0442\\u044c\", \"\\u0435\\u0434\\u0438\\u043d\\u0441\\u0442\\u0432\\u0435\\u043d\\u043d\\u044b\\u0439\", \"\\u0432\\u043e\\u043a\\u0437\\u0430\\u043b\", \"\\u0445\\u0430\\u0443\\u0441\", \"\\u0435\\u0432\\u0440\\u043e\\u0432\\u0438\\u0434\\u0435\\u043d\\u0438\\u0435\", \"\\u043f\\u043e\\u0447\\u0442\\u0430\", \"\\u043f\\u043b\\u0430\\u043d\\u0435\\u0442\\u0430\", \"\\u0430\\u043d\\u0430\\u043b\\u0438\\u0437\", \"\\u0443\\u043c\\u0438\\u0440\\u0430\\u0442\\u044c\", \"\\u0442\\u0435\\u043e\\u0440\\u0438\\u044f\", \"\\u043e\\u0442\\u0432\\u0435\\u0442\", \"\\u0432\\u0437\\u0440\\u044b\\u0432\", \"\\u043e\\u043a\\u0430\\u0437\\u0430\\u0442\\u044c\\u0441\\u044f\", \"\\u0434\\u0435\\u0440\\u0436\\u0430\\u0442\\u044c\", \"\\u0443\\u0436\\u0430\\u0441\\u043d\\u044b\\u0439\"], \"Freq\": [23423.0, 16008.0, 15346.0, 9193.0, 9250.0, 6796.0, 5678.0, 8002.0, 6029.0, 6017.0, 4516.0, 6943.0, 5480.0, 4810.0, 4650.0, 4950.0, 4665.0, 3845.0, 3625.0, 4245.0, 4945.0, 3934.0, 3266.0, 3851.0, 3338.0, 3306.0, 3813.0, 3604.0, 3008.0, 3590.0, 15344.540589239805, 8000.147697349289, 6942.066998082115, 4943.874190584074, 2047.359059708637, 1631.7304479918064, 1528.549158786764, 1477.7133948332123, 1323.2170903395686, 1234.958557243837, 1214.1591500121733, 1113.4952206566168, 1098.7528604399054, 924.6022157341969, 882.6324126487544, 845.3364115902087, 821.593454492035, 799.2448204269615, 796.1497027623428, 756.4330859181375, 747.4835361646925, 747.412095362843, 698.5735896326256, 694.7785409401957, 684.9341243322191, 669.0463823787201, 639.6841498751646, 633.1166945234746, 611.7645809649034, 602.0651230940715, 23421.651539284452, 3811.6808640787767, 2406.9813774311615, 2298.4466985194986, 1824.9427853982972, 1680.0819986583508, 1414.6780263460887, 1261.0770152745806, 1031.7598349129519, 800.5952602958031, 764.7631466149654, 729.6752209536617, 727.9852690176493, 640.7254164292349, 549.4611742880638, 520.4444127228785, 489.0205063883455, 405.3796071497416, 330.27822214531255, 287.03659585258697, 276.071377658553, 267.9678046015034, 249.78093009954003, 188.30003733163647, 155.21914604423677, 148.0503146093007, 132.79877810664624, 121.22470302389026, 0.11682378724651399, 0.11615650848609764, 6015.748053327791, 4948.55924917261, 3849.331691662685, 3184.216755972243, 2809.782808441991, 2290.768502621949, 1716.1196811413183, 1626.0551481037435, 1375.6251639047423, 1369.636795588245, 1335.1779251102287, 1231.3376392806733, 1123.193854376372, 1036.5517884426044, 991.497671183563, 894.8602836191433, 879.4856303279549, 803.513221804186, 693.0460451576977, 680.5642948908777, 643.1257511709205, 640.5119301880981, 589.5015036137042, 540.9384021306604, 518.5251529552041, 462.8231024777296, 372.0682041602363, 347.9707606693684, 337.7842661529412, 307.6817499186637, 16007.031114145753, 3588.8941126421437, 3100.2405697446843, 2497.21778964475, 1979.098126464038, 1385.0098936755328, 1213.2060340653445, 1190.0386000652447, 1108.3949025904503, 1078.945449227629, 848.6280121417795, 832.3480793600849, 825.2774907769374, 809.9962465011115, 784.6755458852363, 647.8188601602749, 645.5518273015526, 589.199476761873, 543.8255272065641, 536.5913789191799, 499.05560840690106, 467.38294540649275, 456.951774976297, 435.14078783133294, 403.0026533988676, 363.35565671190227, 349.83003618155186, 259.7712852087846, 175.68895193082292, 167.30874556375272, 6027.773725748859, 4243.362457478061, 2257.8010793909616, 2225.621634779139, 2086.5802075544757, 1586.8324060841983, 1470.1196160415252, 1437.024608080727, 1390.6393576826238, 1312.72149992022, 1189.6232465701225, 1051.376581446056, 1028.9402595051213, 996.13324755001, 950.2840729330858, 935.7379671153451, 907.6725660910872, 876.2432713225852, 862.025806434584, 791.2023501369828, 767.2989245629169, 749.3178368668322, 709.7153498604678, 703.6453300273635, 675.7767573106189, 654.866401273306, 618.8559701545722, 551.7188141501738, 493.8567164621853, 489.7420656297397, 4664.080095752405, 3933.111855853975, 3602.506000947983, 2342.2506257625855, 2062.985349658563, 1940.0597688748949, 1822.4409553834807, 1668.9208393997228, 1294.974309489822, 1238.8563629245136, 1059.020572257613, 1032.7663628394378, 1008.1401846927051, 962.3088094322848, 816.8914916966432, 772.1903588864487, 737.2151862696275, 711.5809777774289, 707.8637660972489, 697.420737754262, 674.232208207612, 667.961952930739, 634.2278997161434, 621.4682694840396, 602.4406190756073, 565.612228807508, 557.2745454396947, 519.8823510593033, 511.08986464324073, 506.5278248698362, 5479.044702387713, 3038.694978566691, 2503.5436611609016, 2398.206023943631, 1893.330249117064, 1798.209890379025, 1655.3341326686987, 1545.8347970329762, 1387.5736283511158, 1264.9051429403758, 1187.2484508859516, 1125.19533792652, 1065.6810228994386, 1064.198957167385, 1033.7005310153497, 1010.9048699743707, 995.7167219674911, 903.1533942326387, 861.9788763791993, 824.9343848427153, 800.11776079931, 760.281723245086, 675.7499060321062, 621.0524618158438, 603.1319859760318, 563.1666272232665, 539.7184265824761, 529.6120004584817, 508.96477673413995, 481.09344530361386, 4808.532960175408, 4648.736085418421, 3152.717559570841, 2933.139203324112, 2165.355158490027, 1974.8027538405554, 1375.8196127361864, 1288.8273014390277, 1023.86968033304, 1003.4821982263761, 746.1261537131109, 718.0289794242557, 696.563188353786, 637.7203806464669, 612.8550829659404, 603.7314151120753, 598.0833753773413, 573.7770251267584, 501.8623648119716, 497.9871835002862, 497.04776409310847, 494.84881501463605, 487.45658951788505, 454.1393302116072, 443.8032765061813, 438.68907020396256, 426.2695375809797, 414.220716029348, 387.52307940554795, 326.17788723652296, 9248.216529790041, 3336.2735667611705, 1704.6586834218167, 1501.3668482798591, 1310.3341132616913, 1041.856869618016, 931.7370884881136, 875.5126210213286, 802.1703717084961, 740.7321848153915, 692.3882698551427, 658.9558227426395, 657.2744275923246, 585.436054577776, 525.5026697657561, 524.1599375362159, 492.74396108644976, 482.07023507811647, 473.1721604814925, 472.986338514968, 456.86874926220787, 435.4143693320624, 380.45834002506274, 371.06977412835215, 301.87077894783727, 265.98541244350037, 236.56960419996534, 214.51806543266704, 189.22621453619806, 139.55422075230115, 3304.539812264015, 3085.030464537828, 2217.920046580647, 2198.293700021525, 1989.8847475543841, 1405.8532094133886, 1216.9134751429983, 1137.2449516163815, 1085.1554751940023, 885.7840242683196, 884.5962181671297, 846.5277419235241, 845.1046990535772, 841.9580298329467, 814.1545136396076, 798.6884224849268, 717.8923690744476, 646.6091333501929, 602.6903317711277, 529.5168270348637, 517.9946121982258, 422.40880895064834, 421.84720893901806, 362.75637640918086, 339.90912630884475, 337.7717703832731, 322.92171584292237, 319.3477007752477, 260.55015932934384, 231.6459185075792, 9191.738798951044, 3623.569353551466, 2333.8287054893235, 2036.3700371380296, 1317.82885176242, 1215.716162314208, 1115.3184383417813, 1093.505066735079, 796.8803814152419, 675.960025170389, 430.9140656035284, 410.74857242858326, 407.80233521624916, 390.0845570970223, 386.2190862806483, 332.984426519691, 257.189663759863, 234.60411129725387, 197.28612851995874, 183.38462832726893, 0.14716671613741317, 0.1472721785058986, 0.1432245981928527, 0.1430117318158872, 0.1431953107457071, 0.14274057865895223, 0.14256303760318031, 0.14331145839751808, 0.14272241492996973, 0.14298137959842191, 0.14571460742887324, 3844.0239203059755, 3264.3505750514037, 2399.317442169894, 1708.2331522064492, 1365.580449689194, 1177.1489846146696, 1106.7425294600127, 1081.219317745186, 1058.0841058993792, 949.8497183933238, 875.229689699286, 746.3430082440248, 703.8647810657241, 693.3337488564573, 691.8636997567604, 610.017605885296, 543.6399537883509, 542.1091669870674, 513.1207095606671, 497.8170218754717, 459.00784367625454, 341.69036650446475, 226.45287282514693, 94.3731157253512, 0.16077569398640038, 0.15681198310621444, 0.14665731457379422, 0.1435152369093006, 0.14409219320449926, 0.1439221032420048, 0.14371689305218457, 3006.5935495151707, 2271.783941758109, 2076.69379879701, 1851.3898876251021, 1765.6658863136254, 1716.9385798849985, 1172.0000543454125, 1100.578218010542, 1082.6906377851287, 1044.1069477917408, 1018.8111689369451, 923.8047212042047, 911.7160973605953, 709.492218797784, 629.0527455759346, 589.0227466624103, 548.220811295594, 372.95742467024405, 329.1694481883374, 317.604024085209, 267.76960407255217, 260.69641106514206, 256.2710193855534, 227.7730248670926, 212.15051190815143, 205.36974134630844, 130.57924009063348, 124.15401945077186, 114.16756629807087, 97.32353115773276, 6794.216839640832, 4514.5222097504075, 2264.7459771466056, 1118.7672602579994, 942.7368635843197, 846.8151167827461, 698.5269870141134, 555.7172922453161, 519.1743124276827, 498.8277570074221, 367.6904954867942, 355.2472928041485, 283.3928665340119, 246.4033237981089, 213.08970612724602, 162.4216823508496, 0.19348994454204366, 0.17336852778522296, 0.17114093979933637, 0.16954169137281538, 0.17177296583590818, 0.1680862545676765, 0.1673375095914125, 0.1673499929004705, 0.1659894487493427, 0.16531710552554768, 0.16494559054487976, 0.16616879879119928, 0.1649459611431174, 0.16431054120689545, 0.16534328146422866, 0.1658963310658383, 0.16506072956576928, 5676.3760785868335, 1827.774979580885, 1133.1753684216771, 950.2231274559507, 886.0448956791722, 880.7710109147574, 735.2611773996135, 674.7798666437708, 473.79453411262557, 453.63460775209086, 238.64257981830463, 209.943104069054, 195.28672351023087, 148.13075338350308, 91.50449399731158, 36.448917739400386, 0.2992837320901762, 0.2722809053628063, 0.2584132469383484, 0.24791137695627757, 0.2460155253467939, 0.24368837710137853, 0.24300555552921543, 0.24186316422894164, 0.24186320822234234, 0.23956030034070902, 0.24038985456865167, 0.23956818982390005, 0.23981842428704442, 0.23839573636648573, 0.2391068456952947], \"Total\": [23423.0, 16008.0, 15346.0, 9193.0, 9250.0, 6796.0, 5678.0, 8002.0, 6029.0, 6017.0, 4516.0, 6943.0, 5480.0, 4810.0, 4650.0, 4950.0, 4665.0, 3845.0, 3625.0, 4245.0, 4945.0, 3934.0, 3266.0, 3851.0, 3338.0, 3306.0, 3813.0, 3604.0, 3008.0, 3590.0, 15346.39516301013, 8002.0022715171535, 6943.92157164879, 4945.728764486437, 2049.213633762319, 1633.5850219246825, 1530.403732929079, 1479.5679686093724, 1325.0716642439165, 1236.813131115951, 1216.0137238913283, 1115.34979433463, 1100.6074342133766, 926.456789123977, 884.4869862675902, 847.1909847803088, 823.4480278036787, 801.0993939628019, 798.0042763575535, 758.2876588997573, 749.3381098593659, 749.2666694154358, 700.4281635735797, 696.6331153872429, 686.7886987343228, 670.9009565089052, 641.5387235045947, 634.9712689059006, 613.6191550094657, 603.9196956351338, 23423.497244220074, 3813.526569197498, 2408.8270826096427, 2300.2924037647404, 1826.7884905731519, 1681.9277039821031, 1416.523731630527, 1262.92272017254, 1033.605540373784, 802.440965472937, 766.6088524292861, 731.5209257086553, 729.8309741677615, 642.5711214110386, 551.3068793795188, 522.2901174233552, 490.86621130756515, 407.22531247975274, 332.12392675244143, 288.8823010979484, 277.91708257077414, 269.8135102920077, 251.62663620493947, 190.145742402755, 157.06485141475693, 149.8960191492034, 134.6444841353962, 123.07041139754106, 1.9713938909962931, 1.9788340121958325, 6017.591740943128, 4950.402936804102, 3851.1753793563416, 3186.0604441197247, 2811.6264961339198, 2292.6121899818963, 1717.963368627456, 1627.898835697677, 1377.4688516229864, 1371.480483506723, 1337.021612999701, 1233.1813265376468, 1125.0375419239158, 1038.3954765901021, 993.3413590835949, 896.7039716993561, 881.3293178018295, 805.356909433483, 694.8897325977413, 682.4079830344516, 644.9694393596376, 642.3556174017327, 591.3451908804237, 542.7820890703498, 520.3688409273595, 464.66678927659206, 373.9118916443717, 349.81444820416436, 339.62795447381086, 309.525440487886, 16008.878291587318, 3590.7412901474, 3102.0877470747105, 2499.064967498483, 1980.9453035255274, 1386.8570707050576, 1215.0532111019036, 1191.8857766889037, 1110.2420800755385, 1080.7926269366176, 850.4751891727789, 834.1952562915632, 827.1246677977744, 811.8434238345307, 786.5227227832834, 649.6660375441106, 647.3990056755482, 591.0466542217496, 545.6727048156279, 538.4385558578065, 500.90278678931554, 469.2301223654965, 458.7989521313661, 436.98796559031496, 404.84983070142977, 365.20283353341483, 351.67721408100545, 261.61846543942295, 177.53612890728402, 169.15592292070366, 6029.614311556523, 4245.203043208309, 2259.6416651149857, 2227.4622207271022, 2088.4207931245005, 1588.6729915122323, 1471.9602040825896, 1438.8651936771198, 1392.4799435248506, 1314.5620858217824, 1191.4638322279586, 1053.2171668822882, 1030.7808447872121, 997.9738342503832, 952.124659007189, 937.5785530829592, 909.513151643497, 878.0838570571461, 863.8663923401514, 793.0429362456456, 769.1395104981998, 751.1584227398068, 711.5559360172722, 705.4859156759392, 677.6173433592346, 656.7069873068232, 620.6965562813905, 553.5593999959464, 495.69730152156217, 491.58265211802103, 4665.919146219, 3934.950906561769, 3604.3450512761824, 2344.089676397202, 2064.824399906031, 1941.8988197622957, 1824.2800058329342, 1670.7598904251017, 1296.8133600398241, 1240.6954131827079, 1060.8596238780005, 1034.605413057159, 1009.9792352363145, 964.1478597222426, 818.7305416310919, 774.0294090421495, 739.054237063958, 713.4200295197331, 709.7028163434685, 699.2597892893897, 676.0712587208008, 669.8010032503463, 636.0669498547459, 623.3073212572431, 604.2796703141158, 567.4512795262268, 559.113595817035, 521.7214014715054, 512.9289158233357, 508.3668747869141, 5480.887931071134, 3040.538207564586, 2505.386889643989, 2400.049252518314, 1895.1734776983667, 1800.0531189608635, 1657.1773611492044, 1547.678025509608, 1389.4168567358317, 1266.7483715056555, 1189.0916794182351, 1127.0385663933723, 1067.524251459776, 1066.0421860677548, 1035.5437595001215, 1012.7480982933201, 997.559950588842, 904.996623263601, 863.8221045731888, 826.7776140167393, 801.9609889503873, 762.1249516937733, 677.5931345771245, 622.8956906450062, 604.9752142235675, 565.0098561504087, 541.5616550395445, 531.4552302830268, 510.8080054254907, 482.936673605535, 4810.360969960752, 4650.564095206065, 3154.545569503634, 2934.9672133022623, 2167.1831686143078, 1976.630764396923, 1377.6476228510332, 1290.6553120135684, 1025.6976906509876, 1005.3102081146369, 747.9541641028827, 719.856989557133, 698.3911986695348, 639.5483907853727, 614.6830928289745, 605.5594257594339, 599.9113852141708, 575.605035063704, 503.690375018111, 499.81519323217486, 498.8757745477171, 496.6768255000317, 489.28459983585327, 455.9673399678247, 445.631286019141, 440.5170801730008, 428.0975484634157, 416.04872716317374, 389.3510890827666, 328.0058967810026, 9250.03997551218, 3338.0970126207553, 1706.4821290937934, 1503.1902942558702, 1312.1575589559159, 1043.680315295046, 933.5605346464946, 877.3360664193328, 803.9938173610299, 742.5556304869883, 694.21171510406, 660.7792680888579, 659.0978733840185, 587.2594999730173, 527.3261155493925, 525.9833831887587, 494.56740642183394, 483.89368119027813, 474.9956059236736, 474.80978455753086, 458.69219479922094, 437.2378151232444, 382.28178806127625, 372.8932194633792, 303.69422476207706, 267.8088580627125, 238.3930494434069, 216.34151085203587, 191.04966025291526, 141.3776663538136, 3306.376611441716, 3086.867263952898, 2219.756846113552, 2200.1304996349386, 1991.721546955053, 1407.6900087501724, 1218.7502742700306, 1139.0817513898855, 1086.9922745328001, 887.6208235722645, 886.4330173511939, 848.3645420827947, 846.941499171581, 843.7948295987918, 815.9913132479118, 800.5252218959328, 719.7291686148031, 648.4459327511764, 604.5271307271815, 531.3536260685307, 519.831411297709, 424.24560834814935, 423.68400782421287, 364.5931756135651, 341.74592537102427, 339.6085697291403, 324.7585151263922, 321.18450012817306, 262.3869582312415, 233.48271798703348, 9193.5583190229, 3625.3888735640203, 2335.6482254648367, 2038.1895572065423, 1319.6483715451982, 1217.535683414975, 1117.1379582523325, 1095.3245868714562, 798.6999013873674, 677.7795449950916, 432.7335852046301, 412.56809219803955, 409.6218554457208, 391.9040772857753, 388.03860641800475, 334.80394639277307, 259.00918377117796, 236.42363275095715, 199.10564860174824, 185.20414789594318, 1.97446948306216, 1.9824534505552398, 1.9682600089051925, 1.96591351556617, 1.9686149428285842, 1.964131807685186, 1.9647012581775494, 1.9767262180416503, 1.97261867263348, 1.9787162159321765, 2.0451294509157223, 3845.8440413637964, 3266.170696073312, 2401.1375630806233, 1710.0532732730567, 1367.40057047133, 1178.969105612607, 1108.5626506981594, 1083.0394389015844, 1059.9042268875592, 951.6698396686869, 877.0498104734207, 748.1631291159109, 705.6849019507503, 695.1538698179648, 693.6838205896196, 611.8377270324963, 545.4600747228117, 543.9292879845522, 514.9408305631131, 499.63714275714074, 460.82796465758554, 343.51048709725654, 228.27299470126195, 96.19323664386313, 1.9969129904520564, 2.0069745214532295, 1.967890781645091, 1.9695787559945543, 1.9802765242671332, 1.9788340121958325, 1.9800325263724878, 3008.404072270658, 2273.5944646803628, 2078.5043217090665, 1853.2004101823602, 1767.4764090979556, 1718.7491026736948, 1173.8105770008974, 1102.3887406658375, 1084.5011607342426, 1045.9174707781353, 1020.6216918208687, 925.6152440711162, 913.5266202765881, 711.3027417105451, 630.8632686043153, 590.8332698396769, 550.0313340239676, 374.7679475955139, 330.9799707829748, 319.4145467355259, 269.5801290500337, 262.5069346881297, 258.0815422724033, 229.5835477252157, 213.9610354056339, 207.1802637207296, 132.38976307251176, 125.96454228592908, 115.97808906659462, 99.1340536119889, 6796.014190250159, 4516.319560451069, 2266.5433279946674, 1120.5646108514097, 944.5342142987156, 848.6124676975711, 700.3243376387513, 557.514643235597, 520.9716629684168, 500.62510779777074, 369.4878460854985, 357.044644007767, 285.1902172247225, 248.2006744598344, 214.88705668643487, 164.2190327244969, 2.0451294509157223, 1.9900555177719954, 1.9869610551633403, 1.9692171836282422, 2.0075637214131588, 1.9691414153762756, 1.9673014130228776, 1.9739700180128286, 1.9692704404518024, 1.966620118802587, 1.9622958173405003, 1.978416829510624, 1.9646798914015813, 1.961661360520008, 1.9750818571686484, 1.9875440628895331, 1.9787830052701076, 5678.106724307401, 1829.5056252486393, 1134.9060142366736, 951.9537732228466, 887.775541627025, 882.5016565910751, 736.9918231022344, 676.5105229530881, 475.52517972729214, 455.3652534572654, 240.37322536730392, 211.67374971379826, 197.0173692857448, 149.86149018398444, 93.23520325886363, 38.17956337176896, 2.0402498746019657, 2.0328251264710113, 2.000811718905177, 1.9866350615902864, 1.9774533176389975, 1.977506113170052, 1.9814839947024108, 1.9745192629218478, 1.9877715713458552, 1.974590613569089, 1.9814472542275974, 1.9800325263724878, 1.9860619041162662, 1.9804163028235677, 1.9944842605446467], \"Category\": [\"Default\", \"Default\", \"Default\", \"Default\", \"Default\", \"Default\", \"Default\", \"Default\", \"Default\", \"Default\", \"Default\", \"Default\", \"Default\", \"Default\", \"Default\", \"Default\", \"Default\", \"Default\", \"Default\", \"Default\", \"Default\", \"Default\", \"Default\", \"Default\", \"Default\", \"Default\", \"Default\", \"Default\", \"Default\", \"Default\", \"Topic1\", \"Topic1\", \"Topic1\", \"Topic1\", \"Topic1\", \"Topic1\", \"Topic1\", \"Topic1\", \"Topic1\", \"Topic1\", \"Topic1\", \"Topic1\", \"Topic1\", \"Topic1\", \"Topic1\", \"Topic1\", \"Topic1\", \"Topic1\", \"Topic1\", \"Topic1\", \"Topic1\", \"Topic1\", \"Topic1\", \"Topic1\", \"Topic1\", \"Topic1\", \"Topic1\", \"Topic1\", \"Topic1\", \"Topic1\", \"Topic2\", \"Topic2\", \"Topic2\", \"Topic2\", \"Topic2\", \"Topic2\", \"Topic2\", \"Topic2\", \"Topic2\", \"Topic2\", \"Topic2\", \"Topic2\", \"Topic2\", \"Topic2\", \"Topic2\", \"Topic2\", \"Topic2\", \"Topic2\", \"Topic2\", \"Topic2\", \"Topic2\", \"Topic2\", \"Topic2\", \"Topic2\", \"Topic2\", \"Topic2\", \"Topic2\", \"Topic2\", \"Topic2\", \"Topic2\", \"Topic3\", \"Topic3\", \"Topic3\", \"Topic3\", \"Topic3\", \"Topic3\", \"Topic3\", \"Topic3\", \"Topic3\", \"Topic3\", \"Topic3\", \"Topic3\", \"Topic3\", \"Topic3\", \"Topic3\", \"Topic3\", \"Topic3\", \"Topic3\", \"Topic3\", \"Topic3\", \"Topic3\", \"Topic3\", \"Topic3\", \"Topic3\", \"Topic3\", \"Topic3\", \"Topic3\", \"Topic3\", \"Topic3\", \"Topic3\", \"Topic4\", \"Topic4\", \"Topic4\", \"Topic4\", \"Topic4\", \"Topic4\", \"Topic4\", \"Topic4\", \"Topic4\", \"Topic4\", \"Topic4\", \"Topic4\", \"Topic4\", \"Topic4\", \"Topic4\", \"Topic4\", \"Topic4\", \"Topic4\", \"Topic4\", \"Topic4\", \"Topic4\", \"Topic4\", \"Topic4\", \"Topic4\", \"Topic4\", \"Topic4\", \"Topic4\", \"Topic4\", \"Topic4\", \"Topic4\", \"Topic5\", \"Topic5\", \"Topic5\", \"Topic5\", \"Topic5\", \"Topic5\", \"Topic5\", \"Topic5\", \"Topic5\", \"Topic5\", \"Topic5\", \"Topic5\", \"Topic5\", \"Topic5\", \"Topic5\", \"Topic5\", \"Topic5\", \"Topic5\", \"Topic5\", \"Topic5\", \"Topic5\", \"Topic5\", \"Topic5\", \"Topic5\", \"Topic5\", \"Topic5\", \"Topic5\", \"Topic5\", \"Topic5\", \"Topic5\", \"Topic6\", \"Topic6\", \"Topic6\", \"Topic6\", \"Topic6\", \"Topic6\", \"Topic6\", \"Topic6\", \"Topic6\", \"Topic6\", \"Topic6\", \"Topic6\", \"Topic6\", \"Topic6\", \"Topic6\", \"Topic6\", \"Topic6\", \"Topic6\", \"Topic6\", \"Topic6\", \"Topic6\", \"Topic6\", \"Topic6\", \"Topic6\", \"Topic6\", \"Topic6\", \"Topic6\", \"Topic6\", \"Topic6\", \"Topic6\", \"Topic7\", \"Topic7\", \"Topic7\", \"Topic7\", \"Topic7\", \"Topic7\", \"Topic7\", \"Topic7\", \"Topic7\", \"Topic7\", \"Topic7\", \"Topic7\", \"Topic7\", \"Topic7\", \"Topic7\", \"Topic7\", \"Topic7\", \"Topic7\", \"Topic7\", \"Topic7\", \"Topic7\", \"Topic7\", \"Topic7\", \"Topic7\", \"Topic7\", \"Topic7\", \"Topic7\", \"Topic7\", \"Topic7\", \"Topic7\", \"Topic8\", \"Topic8\", \"Topic8\", \"Topic8\", \"Topic8\", \"Topic8\", \"Topic8\", \"Topic8\", \"Topic8\", \"Topic8\", \"Topic8\", \"Topic8\", \"Topic8\", \"Topic8\", \"Topic8\", \"Topic8\", \"Topic8\", \"Topic8\", \"Topic8\", \"Topic8\", \"Topic8\", \"Topic8\", \"Topic8\", \"Topic8\", \"Topic8\", \"Topic8\", \"Topic8\", \"Topic8\", \"Topic8\", \"Topic8\", \"Topic9\", \"Topic9\", \"Topic9\", \"Topic9\", \"Topic9\", \"Topic9\", \"Topic9\", \"Topic9\", \"Topic9\", \"Topic9\", \"Topic9\", \"Topic9\", \"Topic9\", \"Topic9\", \"Topic9\", \"Topic9\", \"Topic9\", \"Topic9\", \"Topic9\", \"Topic9\", \"Topic9\", \"Topic9\", \"Topic9\", \"Topic9\", \"Topic9\", \"Topic9\", \"Topic9\", \"Topic9\", \"Topic9\", \"Topic9\", \"Topic10\", \"Topic10\", \"Topic10\", \"Topic10\", \"Topic10\", \"Topic10\", \"Topic10\", \"Topic10\", \"Topic10\", \"Topic10\", \"Topic10\", \"Topic10\", \"Topic10\", \"Topic10\", \"Topic10\", \"Topic10\", \"Topic10\", \"Topic10\", \"Topic10\", \"Topic10\", \"Topic10\", \"Topic10\", \"Topic10\", \"Topic10\", \"Topic10\", \"Topic10\", \"Topic10\", \"Topic10\", \"Topic10\", \"Topic10\", \"Topic11\", \"Topic11\", \"Topic11\", \"Topic11\", \"Topic11\", \"Topic11\", \"Topic11\", \"Topic11\", \"Topic11\", \"Topic11\", \"Topic11\", \"Topic11\", \"Topic11\", \"Topic11\", \"Topic11\", \"Topic11\", \"Topic11\", \"Topic11\", \"Topic11\", \"Topic11\", \"Topic11\", \"Topic11\", \"Topic11\", \"Topic11\", \"Topic11\", \"Topic11\", \"Topic11\", \"Topic11\", \"Topic11\", \"Topic11\", \"Topic11\", \"Topic12\", \"Topic12\", \"Topic12\", \"Topic12\", \"Topic12\", \"Topic12\", \"Topic12\", \"Topic12\", \"Topic12\", \"Topic12\", \"Topic12\", \"Topic12\", \"Topic12\", \"Topic12\", \"Topic12\", \"Topic12\", \"Topic12\", \"Topic12\", \"Topic12\", \"Topic12\", \"Topic12\", \"Topic12\", \"Topic12\", \"Topic12\", \"Topic12\", \"Topic12\", \"Topic12\", \"Topic12\", \"Topic12\", \"Topic12\", \"Topic12\", \"Topic13\", \"Topic13\", \"Topic13\", \"Topic13\", \"Topic13\", \"Topic13\", \"Topic13\", \"Topic13\", \"Topic13\", \"Topic13\", \"Topic13\", \"Topic13\", \"Topic13\", \"Topic13\", \"Topic13\", \"Topic13\", \"Topic13\", \"Topic13\", \"Topic13\", \"Topic13\", \"Topic13\", \"Topic13\", \"Topic13\", \"Topic13\", \"Topic13\", \"Topic13\", \"Topic13\", \"Topic13\", \"Topic13\", \"Topic13\", \"Topic14\", \"Topic14\", \"Topic14\", \"Topic14\", \"Topic14\", \"Topic14\", \"Topic14\", \"Topic14\", \"Topic14\", \"Topic14\", \"Topic14\", \"Topic14\", \"Topic14\", \"Topic14\", \"Topic14\", \"Topic14\", \"Topic14\", \"Topic14\", \"Topic14\", \"Topic14\", \"Topic14\", \"Topic14\", \"Topic14\", \"Topic14\", \"Topic14\", \"Topic14\", \"Topic14\", \"Topic14\", \"Topic14\", \"Topic14\", \"Topic14\", \"Topic14\", \"Topic14\", \"Topic15\", \"Topic15\", \"Topic15\", \"Topic15\", \"Topic15\", \"Topic15\", \"Topic15\", \"Topic15\", \"Topic15\", \"Topic15\", \"Topic15\", \"Topic15\", \"Topic15\", \"Topic15\", \"Topic15\", \"Topic15\", \"Topic15\", \"Topic15\", \"Topic15\", \"Topic15\", \"Topic15\", \"Topic15\", \"Topic15\", \"Topic15\", \"Topic15\", \"Topic15\", \"Topic15\", \"Topic15\", \"Topic15\", \"Topic15\", \"Topic15\"], \"logprob\": [30.0, 29.0, 28.0, 27.0, 26.0, 25.0, 24.0, 23.0, 22.0, 21.0, 20.0, 19.0, 18.0, 17.0, 16.0, 15.0, 14.0, 13.0, 12.0, 11.0, 10.0, 9.0, 8.0, 7.0, 6.0, 5.0, 4.0, 3.0, 2.0, 1.0, -1.4826, -2.1339, -2.2758, -2.6152, -3.4968, -3.7237, -3.7891, -3.8229, -3.9333, -4.0023, -4.0193, -4.1059, -4.1192, -4.2918, -4.3382, -4.3814, -4.4099, -4.4375, -4.4414, -4.4925, -4.5044, -4.5045, -4.5721, -4.5775, -4.5918, -4.6153, -4.6602, -4.6705, -4.7048, -4.7208, -0.7107, -2.5263, -2.986, -3.0322, -3.2628, -3.3455, -3.5175, -3.6324, -3.8331, -4.0868, -4.1326, -4.1795, -4.1819, -4.3095, -4.4632, -4.5175, -4.5797, -4.7673, -4.9722, -5.1125, -5.1515, -5.1813, -5.2516, -5.5341, -5.7273, -5.7746, -5.8833, -5.9745, -12.9192, -12.925, -2.0188, -2.2141, -2.4653, -2.655, -2.7801, -2.9843, -3.2731, -3.327, -3.4943, -3.4986, -3.5241, -3.6051, -3.697, -3.7773, -3.8217, -3.9243, -3.9416, -4.0319, -4.1798, -4.198, -4.2546, -4.2587, -4.3416, -4.4276, -4.4699, -4.5836, -4.8018, -4.8688, -4.8985, -4.9919, -1.0229, -2.518, -2.6644, -2.8807, -3.1132, -3.4702, -3.6026, -3.6219, -3.693, -3.7199, -3.96, -3.9794, -3.9879, -4.0066, -4.0384, -4.23, -4.2335, -4.3249, -4.405, -4.4184, -4.4909, -4.5565, -4.5791, -4.628, -4.7047, -4.8083, -4.8462, -5.1438, -5.5349, -5.5838, -1.9757, -2.3267, -2.9576, -2.972, -3.0365, -3.3103, -3.3867, -3.4095, -3.4423, -3.4999, -3.5984, -3.7219, -3.7435, -3.7759, -3.823, -3.8385, -3.8689, -3.9041, -3.9205, -4.0062, -4.0369, -4.0606, -4.1149, -4.1235, -4.1639, -4.1954, -4.2519, -4.3667, -4.4775, -4.4859, -2.2179, -2.3884, -2.4762, -2.9067, -3.0337, -3.0951, -3.1577, -3.2457, -3.4993, -3.5437, -3.7005, -3.7256, -3.7497, -3.7963, -3.9601, -4.0164, -4.0627, -4.0981, -4.1033, -4.1182, -4.152, -4.1614, -4.2132, -4.2335, -4.2646, -4.3277, -4.3425, -4.412, -4.429, -4.438, -2.0413, -2.6308, -2.8246, -2.8675, -3.1039, -3.1555, -3.2383, -3.3067, -3.4147, -3.5073, -3.5706, -3.6243, -3.6786, -3.68, -3.7091, -3.7314, -3.7465, -3.8441, -3.8908, -3.9347, -3.9653, -4.0163, -4.1342, -4.2186, -4.2479, -4.3164, -4.359, -4.3779, -4.4176, -4.474, -2.0239, -2.0577, -2.4461, -2.5183, -2.8217, -2.9139, -3.2753, -3.3406, -3.5707, -3.5909, -3.8872, -3.9256, -3.9559, -4.0442, -4.084, -4.099, -4.1084, -4.1498, -4.2838, -4.2915, -4.2934, -4.2978, -4.3129, -4.3837, -4.4067, -4.4183, -4.447, -4.4757, -4.5423, -4.7146, -1.2116, -2.2312, -2.9027, -3.0297, -3.1658, -3.395, -3.5068, -3.569, -3.6565, -3.7362, -3.8037, -3.8532, -3.8557, -3.9715, -4.0795, -4.082, -4.1438, -4.1657, -4.1843, -4.1847, -4.2194, -4.2675, -4.4024, -4.4274, -4.6338, -4.7604, -4.8776, -4.9754, -5.1009, -5.4054, -2.2253, -2.294, -2.624, -2.6329, -2.7325, -3.0799, -3.2242, -3.292, -3.3388, -3.5418, -3.5432, -3.5872, -3.5889, -3.5926, -3.6262, -3.6453, -3.752, -3.8566, -3.9269, -4.0564, -4.0784, -4.2823, -4.2837, -4.4346, -4.4996, -4.5059, -4.5509, -4.562, -4.7655, -4.8831, -1.0976, -2.0284, -2.4684, -2.6047, -3.0399, -3.1205, -3.2067, -3.2265, -3.5429, -3.7075, -4.1577, -4.2057, -4.2128, -4.2573, -4.2672, -4.4155, -4.6738, -4.7657, -4.939, -5.012, -12.1398, -12.1391, -12.167, -12.1685, -12.1672, -12.1704, -12.1716, -12.1664, -12.1705, -12.1687, -12.1497, -1.927, -2.0904, -2.3983, -2.738, -2.9619, -3.1104, -3.1721, -3.1954, -3.217, -3.3249, -3.4068, -3.5661, -3.6247, -3.6397, -3.6419, -3.7678, -3.883, -3.8858, -3.9407, -3.971, -4.0522, -4.3473, -4.7587, -5.634, -12.009, -12.034, -12.1009, -12.1226, -12.1186, -12.1197, -12.1212, -2.1691, -2.4493, -2.5391, -2.6539, -2.7013, -2.7293, -3.1112, -3.174, -3.1904, -3.2267, -3.2512, -3.3491, -3.3623, -3.6131, -3.7334, -3.7992, -3.871, -4.2562, -4.3811, -4.4168, -4.5875, -4.6143, -4.6314, -4.7493, -4.8203, -4.8528, -5.3056, -5.3561, -5.44, -5.5996, -1.1495, -1.5582, -2.2481, -2.9533, -3.1245, -3.2318, -3.4243, -3.653, -3.7211, -3.761, -4.0661, -4.1005, -4.3265, -4.4663, -4.6116, -4.8831, -11.6158, -11.7256, -11.7386, -11.748, -11.7349, -11.7566, -11.761, -11.761, -11.7691, -11.7732, -11.7754, -11.7681, -11.7754, -11.7793, -11.773, -11.7697, -11.7747, -1.044, -2.1772, -2.6553, -2.8314, -2.9013, -2.9073, -3.0878, -3.1737, -3.5273, -3.5708, -4.2131, -4.3412, -4.4136, -4.69, -5.1717, -6.0921, -10.8944, -10.989, -11.0412, -11.0827, -11.0904, -11.0999, -11.1027, -11.1074, -11.1074, -11.117, -11.1135, -11.117, -11.1159, -11.1219, -11.1189], \"loglift\": [30.0, 29.0, 28.0, 27.0, 26.0, 25.0, 24.0, 23.0, 22.0, 21.0, 20.0, 19.0, 18.0, 17.0, 16.0, 15.0, 14.0, 13.0, 12.0, 11.0, 10.0, 9.0, 8.0, 7.0, 6.0, 5.0, 4.0, 3.0, 2.0, 1.0, 2.0954, 2.0953, 2.0953, 2.0952, 2.0946, 2.0944, 2.0943, 2.0943, 2.0941, 2.094, 2.094, 2.0939, 2.0939, 2.0935, 2.0934, 2.0934, 2.0933, 2.0932, 2.0932, 2.0931, 2.0931, 2.0931, 2.0929, 2.0929, 2.0928, 2.0928, 2.0926, 2.0926, 2.0925, 2.0925, 2.4445, 2.4441, 2.4438, 2.4437, 2.4435, 2.4434, 2.4432, 2.4431, 2.4428, 2.4422, 2.4421, 2.442, 2.442, 2.4417, 2.4412, 2.441, 2.4408, 2.44, 2.439, 2.4381, 2.4379, 2.4377, 2.4372, 2.4348, 2.4327, 2.4322, 2.4307, 2.4294, -0.3813, -0.3908, 2.4955, 2.4954, 2.4953, 2.4952, 2.4951, 2.495, 2.4947, 2.4946, 2.4944, 2.4944, 2.4944, 2.4943, 2.4941, 2.494, 2.4939, 2.4937, 2.4937, 2.4935, 2.4931, 2.4931, 2.4929, 2.4929, 2.4926, 2.4924, 2.4922, 2.4918, 2.4908, 2.4905, 2.4903, 2.4898, 2.5129, 2.5125, 2.5125, 2.5123, 2.5121, 2.5117, 2.5115, 2.5115, 2.5114, 2.5113, 2.5109, 2.5108, 2.5108, 2.5108, 2.5107, 2.5102, 2.5102, 2.5099, 2.5097, 2.5096, 2.5094, 2.5091, 2.509, 2.5088, 2.5085, 2.508, 2.5078, 2.506, 2.5026, 2.5021, 2.5366, 2.5365, 2.5361, 2.5361, 2.536, 2.5357, 2.5356, 2.5356, 2.5356, 2.5355, 2.5354, 2.5351, 2.5351, 2.5351, 2.535, 2.5349, 2.5349, 2.5348, 2.5348, 2.5346, 2.5345, 2.5344, 2.5343, 2.5343, 2.5342, 2.5341, 2.5339, 2.5336, 2.5332, 2.5331, 2.5507, 2.5506, 2.5506, 2.5503, 2.5502, 2.5501, 2.5501, 2.55, 2.5497, 2.5496, 2.5494, 2.5493, 2.5493, 2.5492, 2.5488, 2.5487, 2.5486, 2.5485, 2.5485, 2.5485, 2.5484, 2.5483, 2.5482, 2.5481, 2.548, 2.5478, 2.5478, 2.5476, 2.5475, 2.5475, 2.5663, 2.5661, 2.5659, 2.5659, 2.5657, 2.5656, 2.5656, 2.5655, 2.5653, 2.5652, 2.5651, 2.565, 2.5649, 2.5649, 2.5649, 2.5649, 2.5648, 2.5646, 2.5645, 2.5644, 2.5644, 2.5643, 2.5639, 2.5637, 2.5636, 2.5634, 2.5633, 2.5632, 2.5631, 2.5628, 2.7142, 2.7142, 2.714, 2.714, 2.7138, 2.7137, 2.7133, 2.7132, 2.7128, 2.7128, 2.7122, 2.7121, 2.712, 2.7117, 2.7116, 2.7116, 2.7115, 2.7114, 2.711, 2.7109, 2.7109, 2.7109, 2.7109, 2.7106, 2.7105, 2.7104, 2.7103, 2.7102, 2.7099, 2.709, 2.8727, 2.8723, 2.8718, 2.8717, 2.8715, 2.8711, 2.8709, 2.8708, 2.8706, 2.8704, 2.8702, 2.8701, 2.8701, 2.8698, 2.8694, 2.8694, 2.8692, 2.8691, 2.869, 2.869, 2.8689, 2.8687, 2.8681, 2.868, 2.8669, 2.866, 2.8652, 2.8644, 2.8633, 2.8599, 2.8878, 2.8878, 2.8875, 2.8875, 2.8874, 2.8871, 2.8869, 2.8868, 2.8867, 2.8863, 2.8863, 2.8862, 2.8862, 2.8862, 2.8861, 2.8861, 2.8858, 2.8855, 2.8853, 2.8849, 2.8848, 2.884, 2.884, 2.8833, 2.883, 2.8829, 2.8827, 2.8826, 2.8813, 2.8805, 2.9929, 2.9926, 2.9923, 2.9922, 2.9917, 2.9916, 2.9914, 2.9914, 2.9908, 2.9904, 2.9888, 2.9886, 2.9886, 2.9884, 2.9884, 2.9876, 2.986, 2.9853, 2.9839, 2.9832, 0.3966, 0.3932, 0.3726, 0.3723, 0.3722, 0.3713, 0.3697, 0.3689, 0.3668, 0.3656, 0.3515, 3.035, 3.0349, 3.0347, 3.0344, 3.0341, 3.0339, 3.0338, 3.0338, 3.0337, 3.0335, 3.0334, 3.033, 3.0329, 3.0328, 3.0328, 3.0325, 3.0321, 3.0321, 3.0319, 3.0318, 3.0315, 3.0301, 3.0274, 3.0163, 0.5161, 0.4861, 0.4388, 0.4163, 0.4149, 0.4144, 0.4124, 3.0385, 3.0383, 3.0382, 3.0381, 3.038, 3.038, 3.0375, 3.0374, 3.0374, 3.0373, 3.0373, 3.0371, 3.0371, 3.0365, 3.0362, 3.036, 3.0358, 3.0342, 3.0336, 3.0334, 3.0323, 3.0321, 3.032, 3.0311, 3.0306, 3.0303, 3.0253, 3.0246, 3.0233, 3.0206, 3.2431, 3.243, 3.2426, 3.2418, 3.2415, 3.2413, 3.2408, 3.2402, 3.2399, 3.2398, 3.2385, 3.2383, 3.2371, 3.2361, 3.235, 3.2324, 0.8854, 0.8029, 0.7915, 0.7911, 0.7849, 0.7825, 0.779, 0.7757, 0.7699, 0.7672, 0.7671, 0.7663, 0.7659, 0.7636, 0.763, 0.7601, 0.7595, 3.5283, 3.5277, 3.5271, 3.5268, 3.5267, 3.5267, 3.5263, 3.5261, 3.525, 3.5248, 3.5214, 3.5204, 3.5198, 3.517, 3.5099, 3.4822, 1.6092, 1.5183, 1.4819, 1.4475, 1.4445, 1.4349, 1.4301, 1.4289, 1.4222, 1.4193, 1.4193, 1.4166, 1.4146, 1.4115, 1.4074]}, \"token.table\": {\"Topic\": [2, 7, 2, 2, 2, 12, 11, 9, 1, 2, 4, 4, 11, 5, 10, 15, 1, 3, 7, 9, 13, 15, 12, 5, 6, 6, 12, 11, 8, 6, 10, 13, 1, 1, 10, 8, 7, 8, 12, 8, 3, 2, 4, 2, 4, 4, 11, 4, 10, 4, 7, 3, 8, 13, 15, 9, 13, 1, 6, 8, 12, 8, 3, 10, 9, 6, 6, 10, 2, 12, 14, 1, 2, 6, 11, 8, 14, 10, 1, 7, 13, 13, 1, 5, 7, 5, 2, 11, 4, 8, 1, 2, 5, 15, 5, 9, 4, 7, 8, 6, 13, 7, 11, 8, 12, 11, 1, 6, 8, 14, 8, 7, 9, 9, 6, 13, 14, 2, 9, 12, 9, 13, 15, 1, 4, 9, 13, 4, 12, 10, 2, 10, 7, 1, 15, 15, 15, 9, 3, 13, 2, 10, 1, 3, 4, 11, 1, 10, 5, 9, 14, 10, 10, 5, 2, 13, 4, 9, 2, 7, 3, 2, 10, 8, 3, 7, 13, 10, 13, 7, 11, 15, 3, 6, 9, 1, 2, 2, 3, 11, 2, 4, 14, 3, 13, 7, 13, 6, 1, 4, 11, 7, 12, 5, 4, 6, 8, 5, 8, 3, 1, 4, 5, 7, 6, 10, 13, 6, 11, 14, 10, 8, 15, 4, 1, 14, 7, 4, 1, 1, 6, 1, 6, 7, 4, 7, 10, 1, 11, 3, 6, 9, 3, 8, 4, 5, 4, 5, 8, 5, 13, 13, 9, 3, 5, 4, 6, 14, 10, 13, 3, 1, 1, 10, 6, 7, 12, 8, 3, 6, 1, 2, 9, 15, 10, 4, 12, 5, 8, 12, 10, 11, 14, 15, 10, 12, 7, 7, 13, 5, 1, 8, 7, 7, 4, 7, 9, 4, 14, 5, 7, 7, 12, 11, 4, 12, 3, 15, 3, 6, 15, 2, 5, 13, 5, 4, 9, 2, 5, 8, 3, 9, 8, 6, 9, 3, 3, 14, 6, 3, 14, 12, 2, 4, 8, 12, 6, 6, 9, 8, 12, 13, 5, 10, 3, 10, 10, 10, 5, 14, 6, 8, 6, 9, 12, 15, 5, 3, 5, 3, 1, 7, 5, 11, 7, 11, 12, 1, 9, 5, 13, 1, 3, 5, 12, 15, 13, 13, 13, 5, 3, 5, 9, 13, 4, 9, 11, 9, 13, 2, 8, 9, 6, 11, 6, 14, 14, 10, 10, 3, 12, 10, 8, 2, 3, 7, 2, 12, 9, 13, 1, 9, 8, 2], \"Freq\": [0.9936050173403358, 0.9976488330595045, 0.9868535105330197, 0.999936079390517, 0.9873511040522288, 0.9962309639323208, 0.998750900936385, 0.9963108271332988, 0.997655702332877, 0.9990209646150164, 0.9969346005382603, 0.9962012852802996, 0.9996169035619468, 0.9988117063175408, 0.9981724302164042, 0.9429128261487509, 0.9974138242501754, 0.9992967890561949, 0.9978906483597233, 0.994922891153388, 0.9963068758117714, 0.9996289741616897, 0.9982033972133963, 0.9971265412535293, 0.9962197381125272, 0.9976006628348444, 0.9960333035367248, 0.9922428087609705, 0.9956853489375718, 0.9973112434056861, 0.9964769129800428, 0.9784730520519054, 0.9997232728467679, 0.9985395026751519, 0.9952634595457257, 0.9966239103297329, 0.9977937782172039, 0.9963682711995278, 0.9991097706714143, 0.9965298952008854, 0.99481311245582, 0.9934841937675157, 0.9995150610955521, 0.9975549455014591, 0.9991737039551437, 0.9973684143190621, 0.9987906900955821, 0.9960789968612417, 0.9977701568039116, 0.9998826718803712, 0.9989802507944517, 0.9989205216373641, 0.9987174639129747, 0.9908346143403348, 0.997947617544251, 0.990255417355908, 0.9986158053226737, 0.9971665616355698, 0.9977722714409578, 0.9950757518785288, 0.9995205106229055, 0.9996636762392594, 0.9988335665238908, 0.9978729075649287, 0.995798685506168, 0.9962394090802241, 0.9967005350621037, 0.998094723496256, 0.9989243161999319, 0.9989757423672515, 0.9962154122602704, 0.9985340298624458, 0.9979208719050902, 0.997378124114611, 0.9961991917753862, 0.9966440196161179, 0.9997078239408423, 0.9992085411892623, 0.9997497786867319, 0.9978499490230472, 0.9988126431603025, 0.9940178531701149, 0.9979610134945271, 0.9982723342248567, 0.999494100235031, 0.9977685075298811, 0.9958156165544041, 0.989424465772139, 0.9993269864539843, 0.99932973244357, 0.997361303022816, 0.9935355166310189, 0.9978394895823005, 0.9942871117812495, 0.9978937698926059, 0.9997794630598807, 0.9982654530178432, 0.9981912186023093, 0.9989926238603525, 0.9973111368277943, 0.9968971452129392, 0.9994464369356598, 0.9939784668123395, 0.9991749777316551, 0.9969963816363375, 0.9946119321106903, 0.9990827695340285, 0.9995042106984064, 0.9973873210463016, 0.9864873596703028, 0.9965561376816422, 0.9969566483225414, 0.9892715838897495, 0.9968140625461378, 0.9974424596814047, 0.998457521991731, 0.9997036218298295, 0.9979013385715703, 0.9983284055092523, 0.997108746700112, 0.9993717939853675, 0.9895024884080308, 0.986751750243584, 0.997379358942694, 0.9913475137892285, 0.9974852079002177, 0.9992762479763191, 0.9979805484625606, 0.9985903812498327, 0.9975596391584297, 0.9961981263640168, 0.9956302648537401, 0.9972118066872753, 0.9983188149846444, 0.9970018497307381, 0.9982984093232463, 0.9920927856379862, 0.9948819268465752, 0.9994215105967467, 0.9955714392159567, 0.9982042722954856, 0.9947068200496102, 0.996879766518475, 0.9980997388735472, 0.9986609501842079, 0.9947463824880127, 0.998241506743855, 0.9948911596557333, 0.9989371886239853, 0.9968170533258629, 0.9983756921925219, 0.9974738425298719, 0.9947140732885847, 0.9993196806270183, 0.9995996961946383, 0.9987402441492655, 0.9952308139002173, 0.9979050317267568, 0.9931019620922872, 0.9975547576784828, 0.996946460964735, 0.9945354269207826, 0.9990316485157167, 0.9975789309961811, 0.9976429461411384, 0.9982739061211114, 0.9981667092942728, 0.9981671677163884, 0.9983288716029688, 0.9964604990401733, 0.997374448656304, 0.9983205532328105, 0.999735485388233, 0.9972204515434228, 0.998542902875145, 0.9984275692713586, 0.9831770173347902, 0.9887152750535428, 0.9988571533809684, 0.9992943177628948, 0.9877864723092368, 0.9990179923079828, 0.9986037299087815, 0.9983151452261861, 0.9982549508756879, 0.9984362337442264, 0.9894764893065852, 0.9991164382278154, 0.999029727927589, 0.9965372374462648, 0.9978716644581843, 0.9971163855029019, 0.9964530536833182, 0.9987037050549863, 0.9954507543757425, 0.999108533936119, 0.9988040317250187, 0.9972666897146093, 0.9997170752945047, 0.996412936506207, 0.9973955617825117, 0.9980639811932007, 0.9993435485847993, 0.9982409435248437, 0.9987501886631196, 0.9987994453752834, 0.9844040056806642, 0.9962982606195142, 0.9951414710993505, 0.9912183790148492, 0.9945851608364825, 0.9962399967217936, 0.9875785955304521, 0.9952472736527358, 0.998436564376238, 0.9923201530331712, 0.9959897980182866, 0.9977293357556267, 0.9969831252389408, 0.9996504530335648, 0.9982470594260128, 0.9978932220666865, 0.9986334976621226, 0.9991461623063927, 0.9939681915605584, 0.9986197957345093, 0.9960253212462257, 0.9989197642813575, 0.9959938741435788, 0.9978896154014874, 0.9967683122581864, 0.9991314710722575, 0.9973570403766447, 0.9974248179565891, 0.9954308225886502, 0.9980221583145356, 0.9938136421803999, 0.9983163511177079, 0.9980079951291123, 0.9992734843137608, 0.9992987031306012, 0.9952825538927303, 0.9961524675665168, 0.9973694794543807, 0.9972183063423514, 0.9974312605094571, 0.9967504209183988, 0.9967538428008145, 0.9974524949071183, 0.9967626418745309, 0.9989336589199416, 0.9968212733431141, 0.9989402523962139, 0.9985638778452142, 0.9986016800137157, 0.9986861025257462, 0.9967233365635979, 0.995330734225807, 0.9994351388492971, 0.99800954632478, 0.9983439957528735, 0.9974912353235632, 0.9961884008788543, 0.9897604495834127, 0.99770763485615, 0.9983101883249693, 0.9981169301612388, 0.9989469251877695, 0.9983448430600345, 0.9976123877015186, 0.9983833890173947, 0.996040603243799, 0.9980998774364629, 0.9977671848377253, 0.9981739685131074, 0.9969015927099293, 0.9985092281364655, 0.9996555428436275, 0.9919345558226468, 0.9974239273155662, 0.9969748161663133, 0.9968138874152415, 0.9988594120144362, 0.9989157786813859, 0.998417820964235, 0.9972618008063411, 0.997520108590419, 0.9974355477309409, 0.9959732204962589, 0.9967804964003468, 0.9967350493423065, 0.9980843290308354, 0.9771996793081912, 0.9880988200265278, 0.9983413775298425, 0.9973232234759737, 0.9981889120602754, 0.9991770316374761, 0.9982311388514362, 0.9980403208627835, 0.998000010651599, 0.9992415052857745, 0.9974006865469429, 0.9941385551835669, 0.9994810511568266, 0.9872548186106713, 0.9973073185331556, 0.9990034294070664, 0.9997322695162394, 0.9963393817482759, 0.9948867856650302, 0.9962291904038213, 0.9972618527358084, 0.9962274582017118, 0.9937991056512803, 0.999353294089719, 0.9967167504119341, 0.9911334871888492, 0.9996268250522502, 0.9950716797770112, 0.99810896527855, 0.9987992928026583, 0.9984775630829752, 0.9973282822298737, 0.9951003025573388, 0.9983298072839797, 0.9984482846920207, 0.9978863111327883, 0.994421280933464, 0.999510050031112, 0.9982453582123941, 0.999164679601744, 0.9976268131563993, 0.9975974732021337, 0.9984879728345114, 0.9995836495343718, 0.9931986128617624, 0.9993950941866846, 0.9965759314881234, 0.9972832225054995, 0.9969363307579148, 0.9972115687564714, 0.9989466526966637, 0.9940311358465487, 0.997662834597371, 0.9967926414997271, 0.9971829581505476, 0.9979367430196365, 0.9978133328126232, 0.9977252019612759, 0.9968954990525836, 0.9985721622176811, 0.9978948625677538, 0.9980862182360385, 0.9988531510577036, 0.9989257342631354, 0.9900426473826368, 0.9974883889511195, 0.9932457123494813, 0.9987714001983414, 0.9931025208865967, 0.9976015111041326, 0.997280528824801, 0.9983363059228305, 0.9975726396671781, 0.997297360649335, 0.998411074510894, 0.9829442864379426, 0.9970464779025137, 0.9986683036150347, 0.9952066534795905, 0.9976131907261748, 0.996830752691177, 0.999533283349933, 0.9978390364160532, 0.9983900095935305, 0.9987386953533324, 0.9941565014304764, 0.9989823397312767, 0.9984466604414647, 0.9977019947713757, 0.9983557165515758, 0.9995886884965516, 0.9998304988157114, 0.9990221839866362, 0.9993190829508506, 0.9942734219877487, 0.9983915616281597, 0.9991356487769664, 0.9997166014924418, 0.9956027918972125, 0.9936495600196165, 0.9938845709766557, 0.9988538722695754, 0.9986561222370839, 0.9964427945308733, 0.9932786527626247, 0.9993354002973814, 0.998477132685556, 0.9942594480792668, 0.9999090885517211, 0.9960865759072942, 0.9974203354498572, 0.995615238835739], \"Term\": [\"amp\", \"ddd\", \"euromaidan\", \"http\", \"tukvasociopat\", \"\\u0430\\u0430\\u0430\", \"\\u0430\\u0445\\u0430\\u0445\", \"\\u0430\\u0445\\u0430\\u0445\\u0430\\u0445\", \"\\u0430\\u0445\\u0430\\u0445\\u0438\", \"\\u0430\\u0445\\u0438\", \"\\u0431\\u0435\\u0441\\u0438\\u0442\\u044c\", \"\\u0431\\u0438\\u043b\\u0435\\u0442\", \"\\u0431\\u043b\\u0438\\u043d\", \"\\u0431\\u043b\\u044f\", \"\\u0431\\u043b\\u044f\\u0434\\u044c\", \"\\u0431\\u043b\\u044f\\u0442\\u044c\", \"\\u0431\\u043e\\u0433\", \"\\u0431\\u043e\\u043b\\u0435\\u0442\\u044c\", \"\\u0431\\u043e\\u043b\\u044c\", \"\\u0431\\u043e\\u043b\\u044c\\u043d\\u043e\", \"\\u0431\\u043e\\u043b\\u044c\\u0448\\u0438\\u0439\", \"\\u0431\\u043e\\u043b\\u044c\\u0448\\u043e\\u0439\", \"\\u0431\\u043e\\u044f\\u0442\\u044c\\u0441\\u044f\", \"\\u0431\\u0440\\u0430\\u0442\", \"\\u0431\\u0440\\u0430\\u0442\\u044c\", \"\\u0431\\u044b\\u0432\\u0430\\u0442\\u044c\", \"\\u0431\\u044b\\u0441\\u0442\\u0440\\u043e\", \"\\u0431\\u044b\\u0441\\u0442\\u0440\\u044b\\u0439\", \"\\u0432\\u0430\\u0448\", \"\\u0432\\u0435\\u0440\\u0438\\u0442\\u044c\", \"\\u0432\\u0435\\u0441\\u0435\\u043b\\u043e\", \"\\u0432\\u0435\\u0441\\u0442\\u0438\", \"\\u0432\\u0435\\u0441\\u044c\", \"\\u0432\\u0435\\u0447\\u0435\\u0440\", \"\\u0432\\u0435\\u0447\\u0435\\u0440\\u043e\\u043c\", \"\\u0432\\u0435\\u0449\\u044c\", \"\\u0432\\u0437\\u044f\\u0442\\u044c\", \"\\u0432\\u0438\\u0434\\u0435\\u043e\", \"\\u0432\\u0438\\u0434\\u0435\\u0442\\u044c\", \"\\u0432\\u0438\\u0434\\u0438\\u043c\\u043e\", \"\\u0432\\u043c\\u0435\\u0441\\u0442\\u043e\", \"\\u0432\\u043e\\u043a\\u0440\\u0443\\u0433\", \"\\u0432\\u043e\\u043e\\u0431\\u0449\\u0435\", \"\\u0432\\u043e\\u043f\\u0440\\u043e\\u0441\", \"\\u0432\\u0440\\u0435\\u043c\\u044f\", \"\\u0432\\u0440\\u043e\\u0434\\u0435\", \"\\u0432\\u0441\\u043f\\u043e\\u043c\\u043d\\u0438\\u0442\\u044c\", \"\\u0432\\u0441\\u0442\\u0430\\u0432\\u0430\\u0442\\u044c\", \"\\u0432\\u0441\\u0442\\u0430\\u0442\\u044c\", \"\\u0432\\u0441\\u0451\", \"\\u0432\\u0442\\u043e\\u0440\\u043e\\u0439\", \"\\u0432\\u0447\\u0435\\u0440\\u0430\", \"\\u0432\\u044b\\u0439\\u0442\\u0438\", \"\\u0432\\u044b\\u043f\\u0430\\u0441\\u0442\\u044c\", \"\\u0432\\u044b\\u0441\\u043f\\u0430\\u0442\\u044c\\u0441\\u044f\", \"\\u0432\\u044b\\u0443\\u0447\\u0438\\u0442\\u044c\", \"\\u0432\\u044b\\u0445\\u043e\\u0434\\u043d\\u043e\\u0439\", \"\\u0433\\u043b\\u0430\\u0432\\u043d\\u043e\\u0435\", \"\\u0433\\u043b\\u0430\\u0437\", \"\\u0433\\u043e\\u0432\\u043d\\u043e\", \"\\u0433\\u043e\\u0432\\u043e\\u0440\\u0438\\u0442\\u044c\", \"\\u0433\\u043e\\u0434\", \"\\u0433\\u043e\\u043b\\u043e\\u0432\\u0430\", \"\\u0433\\u043e\\u0440\\u043e\\u0434\", \"\\u0433\\u043e\\u0442\\u043e\\u0432\\u0438\\u0442\\u044c\\u0441\\u044f\", \"\\u0433\\u0440\\u0443\\u043f\\u043f\\u0430\", \"\\u0433\\u0440\\u0443\\u0441\\u0442\\u043d\\u043e\", \"\\u0433\\u0443\\u043b\\u044f\\u0442\\u044c\", \"\\u0434\\u0430\\u0432\\u0430\\u0442\\u044c\", \"\\u0434\\u0430\\u0432\\u043d\\u043e\", \"\\u0434\\u0430\\u043b\\u0451\\u043a\\u0438\\u0439\", \"\\u0434\\u0430\\u0442\\u044c\", \"\\u0434\\u0435\\u0432\\u043e\\u0447\\u043a\\u0430\", \"\\u0434\\u0435\\u0432\\u0443\\u0448\\u043a\\u0430\", \"\\u0434\\u0435\\u0434\", \"\\u0434\\u0435\\u043a\\u0430\\u0431\\u0440\\u044c\", \"\\u0434\\u0435\\u043b\\u0430\\u0442\\u044c\", \"\\u0434\\u0435\\u043b\\u043e\", \"\\u0434\\u0435\\u043d\\u044c\", \"\\u0434\\u0435\\u043d\\u044c\\u0433\\u0430\", \"\\u0434\\u043e\\u0431\\u0440\\u044b\\u0439\", \"\\u0434\\u043e\\u0436\\u0434\\u044c\", \"\\u0434\\u043e\\u043b\\u0433\\u043e\", \"\\u0434\\u043e\\u043b\\u0436\\u043d\\u044b\\u0439\", \"\\u0434\\u043e\\u043c\", \"\\u0434\\u043e\\u043c\\u043e\\u0439\", \"\\u0434\\u043e\\u0440\\u043e\\u0433\\u043e\\u0439\", \"\\u0434\\u043e\\u0441\\u0442\\u0430\\u0442\\u044c\", \"\\u0434\\u0440\\u0443\\u0433\", \"\\u0434\\u0443\\u043c\\u0430\\u0442\\u044c\", \"\\u0434\\u0443\\u0448\\u0430\", \"\\u0435\\u0432\\u0440\\u043e\\u043c\\u0430\\u0439\\u0434\\u0430\\u043d\", \"\\u0435\\u0434\\u0430\", \"\\u0435\\u0434\\u0438\\u043d\\u044b\\u0439\", \"\\u0435\\u0445\\u0430\\u0442\\u044c\", \"\\u0435\\u0449\\u0451\", \"\\u0436\\u0430\\u043b\\u043a\\u043e\", \"\\u0436\\u0430\\u043b\\u044c\", \"\\u0436\\u0434\\u0430\\u0442\\u044c\", \"\\u0436\\u0435\\u043b\\u0430\\u043d\\u0438\\u0435\", \"\\u0436\\u0435\\u043d\\u0449\\u0438\\u043d\\u0430\", \"\\u0436\\u0438\\u0437\\u043d\\u044c\", \"\\u0436\\u0438\\u0437\\u043d\\u044c\\u0431\\u043e\\u043b\\u044c\", \"\\u0436\\u0438\\u0442\\u044c\", \"\\u0437\\u0430\\u0431\\u043e\\u043b\\u0435\\u0442\\u044c\", \"\\u0437\\u0430\\u0431\\u0440\\u0430\\u0442\\u044c\", \"\\u0437\\u0430\\u0431\\u044b\\u0442\\u044c\", \"\\u0437\\u0430\\u0432\\u0442\\u0440\\u0430\", \"\\u0437\\u0430\\u043a\\u043e\\u043d\\u0447\\u0438\\u0442\\u044c\\u0441\\u044f\", \"\\u0437\\u0430\\u043d\\u044f\\u0442\\u044c\\u0441\\u044f\", \"\\u0437\\u0430\\u0442\\u043e\", \"\\u0437\\u0430\\u0445\\u043e\\u0434\\u0438\\u0442\\u044c\", \"\\u0437\\u0430\\u0445\\u043e\\u0442\\u0435\\u0442\\u044c\", \"\\u0437\\u0430\\u0447\\u0451\\u0442\", \"\\u0437\\u0432\\u043e\\u043d\\u0438\\u0442\\u044c\", \"\\u0437\\u0438\\u043c\\u0430\", \"\\u0437\\u043d\\u0430\\u0442\\u044c\", \"\\u0437\\u043d\\u0430\\u0447\\u0438\\u0442\", \"\\u0438\\u0431\\u043e\", \"\\u0438\\u0433\\u0440\\u0430\\u0442\\u044c\", \"\\u0438\\u0434\\u0442\\u0438\", \"\\u0438\\u0437\\u0432\\u0438\\u043d\\u0438\\u0442\\u044c\", \"\\u0438\\u043d\\u0438\\u0446\\u0438\\u0430\\u0442\\u0438\\u0432\\u0430\", \"\\u0438\\u043d\\u0442\\u0435\\u0440\\u0435\\u0441\\u043d\\u043e\", \"\\u0438\\u0441\\u043f\\u043e\\u0440\\u0442\\u0438\\u0442\\u044c\", \"\\u0438\\u0441\\u0442\\u043e\\u0440\\u0438\\u044f\", \"\\u043a\\u0430\\u0436\\u0434\\u044b\\u0439\", \"\\u043a\\u0430\\u0437\\u0430\\u0442\\u044c\\u0441\\u044f\", \"\\u043a\\u0430\\u043d\\u0438\\u043a\\u0443\\u043b\\u044b\", \"\\u043a\\u0430\\u043f\\u0435\\u0446\", \"\\u043a\\u0430\\u0440\\u0442\\u0438\\u043d\\u043a\\u0430\", \"\\u043a\\u0432\\u0430\\u0440\\u0442\\u0438\\u0440\\u0430\", \"\\u043a\\u043b\\u0430\\u0441\\u0441\", \"\\u043a\\u043e\\u043d\\u0435\\u0446\", \"\\u043a\\u043e\\u043d\\u0441\\u0442\\u0438\\u0442\\u0443\\u0446\\u0438\\u044f\", \"\\u043a\\u043e\\u043d\\u0446\\u0435\\u0440\\u0442\", \"\\u043a\\u043e\\u043d\\u0447\\u0438\\u0442\\u044c\\u0441\\u044f\", \"\\u043a\\u043e\\u0442\", \"\\u043a\\u043e\\u0442\\u043e\\u0440\\u044b\\u0439\", \"\\u043a\\u043e\\u0444\\u0435\", \"\\u043a\\u0440\\u0430\\u0441\\u0438\\u0432\\u044b\\u0439\", \"\\u043a\\u0440\\u043e\\u0432\\u0430\\u0442\\u044c\", \"\\u043a\\u0440\\u0443\\u0442\\u043e\", \"\\u043a\\u0440\\u0443\\u0442\\u043e\\u0439\", \"\\u043a\\u0443\\u043f\\u0438\\u0442\\u044c\", \"\\u043a\\u0443\\u0448\\u0430\\u0442\\u044c\", \"\\u043b\\u0430\\u0434\\u043d\\u044b\\u0439\", \"\\u043b\\u0435\\u0436\\u0430\\u0442\\u044c\", \"\\u043b\\u0435\\u043d\\u0442\\u0430\", \"\\u043b\\u0435\\u043d\\u044c\", \"\\u043b\\u0435\\u0442\\u043e\", \"\\u043b\\u0435\\u0447\\u044c\", \"\\u043b\\u043e\\u0436\\u0438\\u0442\\u044c\\u0441\\u044f\", \"\\u043b\\u044e\\u0431\\u0438\\u043c\\u044b\\u0439\", \"\\u043b\\u044e\\u0431\\u0438\\u0442\\u044c\", \"\\u043b\\u044e\\u0431\\u043e\\u0432\\u044c\", \"\\u043b\\u044e\\u0431\\u043e\\u0439\", \"\\u043c\\u0430\\u0433\\u0430\\u0437\\u0438\\u043d\", \"\\u043c\\u0430\\u0439\\u0434\\u0430\\u043d\", \"\\u043c\\u0430\\u043b\\u0435\\u043d\\u044c\\u043a\\u0438\\u0439\", \"\\u043c\\u0430\\u043b\\u043e\", \"\\u043c\\u0430\\u043b\\u044c\\u0447\\u0438\\u043a\", \"\\u043c\\u0430\\u043c\\u0430\", \"\\u043c\\u0430\\u0448\\u0438\\u043d\\u0430\", \"\\u043c\\u0435\\u0441\\u0442\\u043e\", \"\\u043c\\u0435\\u0441\\u044f\\u0446\", \"\\u043c\\u0438\\u043b\\u044b\\u0439\", \"\\u043c\\u0438\\u043d\\u0443\\u0442\\u0430\", \"\\u043c\\u0438\\u0440\", \"\\u043c\\u043e\\u043c\\u0435\\u043d\\u0442\", \"\\u043c\\u043e\\u0440\\u043e\\u0437\", \"\\u043c\\u043e\\u0441\\u043a\\u0432\\u0430\", \"\\u043c\\u043e\\u0447\\u044c\", \"\\u043c\\u0443\\u0437\\u044b\\u043a\\u0430\", \"\\u043d\\u0430\\u0432\\u0435\\u0440\\u043d\\u043e\\u0435\", \"\\u043d\\u0430\\u0434\\u0435\\u044f\\u0442\\u044c\\u0441\\u044f\", \"\\u043d\\u0430\\u0434\\u043f\\u0438\\u0441\\u044c\", \"\\u043d\\u0430\\u0437\\u044b\\u0432\\u0430\\u0442\\u044c\\u0441\\u044f\", \"\\u043d\\u0430\\u0439\\u0442\\u0438\", \"\\u043d\\u0430\\u043f\\u0438\\u0441\\u0430\\u0442\\u044c\", \"\\u043d\\u0430\\u043f\\u043e\\u043c\\u043d\\u0438\\u0442\\u044c\", \"\\u043d\\u0430\\u0441\\u0442\\u0440\\u043e\\u0435\\u043d\\u0438\\u0435\", \"\\u043d\\u0430\\u0447\\u0430\\u043b\\u043e\", \"\\u043d\\u0430\\u0447\\u0430\\u0442\\u044c\", \"\\u043d\\u0430\\u0447\\u0430\\u0442\\u044c\\u0441\\u044f\", \"\\u043d\\u0430\\u0447\\u0438\\u043d\\u0430\\u0442\\u044c\", \"\\u043d\\u0430\\u0447\\u0438\\u043d\\u0430\\u0442\\u044c\\u0441\\u044f\", \"\\u043d\\u0430\\u0448\", \"\\u043d\\u0435\\u0434\\u0435\\u043b\\u044f\", \"\\u043d\\u0435\\u043c\\u043d\\u043e\\u0433\\u043e\", \"\\u043d\\u0435\\u043d\\u0430\\u0432\\u0438\\u0434\\u0435\\u0442\\u044c\", \"\\u043d\\u0435\\u0442\\u0443\", \"\\u043d\\u0435\\u0447\\u0435\\u0433\\u043e\", \"\\u043d\\u0438\\u0431\\u044b\\u0442\\u044c\", \"\\u043d\\u0438\\u043a\\u0430\\u043a\\u043e\\u0439\", \"\\u043d\\u0438\\u043a\\u0442\\u043e\", \"\\u043d\\u043e\\u0432\\u043e\\u0433\\u043e\\u0434\\u043d\\u0438\\u0439\", \"\\u043d\\u043e\\u0432\\u043e\\u0441\\u0442\\u044c\", \"\\u043d\\u043e\\u0432\\u044b\\u0439\", \"\\u043d\\u043e\\u0433\\u0430\", \"\\u043d\\u043e\\u0440\\u043c\\u0430\", \"\\u043d\\u043e\\u0440\\u043c\\u0430\\u043b\\u044c\\u043d\\u043e\", \"\\u043d\\u043e\\u0447\\u044c\", \"\\u043d\\u0440\\u0430\\u0432\\u0438\\u0442\\u044c\\u0441\\u044f\", \"\\u043d\\u0443\\u0436\\u043d\\u043e\", \"\\u043d\\u0443\\u0436\\u043d\\u044b\\u0439\", \"\\u043e\\u0431\\u0435\\u0434\", \"\\u043e\\u0431\\u0438\\u0434\\u043d\\u043e\", \"\\u043e\\u0431\\u0440\\u0430\\u0442\\u043d\\u043e\", \"\\u043e\\u0431\\u044f\\u0437\\u0430\\u0442\\u0435\\u043b\\u044c\\u043d\\u043e\", \"\\u043e\\u0433\\u0440\\u043e\\u043c\\u043d\\u044b\\u0439\", \"\\u043e\\u043a\\u0430\\u0437\\u044b\\u0432\\u0430\\u0442\\u044c\\u0441\\u044f\", \"\\u043e\\u0441\\u043d\\u043e\\u0432\\u0430\", \"\\u043e\\u0441\\u043e\\u0431\\u0435\\u043d\\u043d\\u043e\", \"\\u043e\\u0441\\u0442\\u0430\\u0442\\u044c\\u0441\\u044f\", \"\\u043e\\u0442\\u043a\\u0443\\u0434\\u0430\", \"\\u043e\\u0442\\u043b\\u0438\\u0447\\u043d\\u043e\", \"\\u043e\\u0442\\u043b\\u0438\\u0447\\u043d\\u044b\\u0439\", \"\\u043e\\u0444\\u0438\\u0433\\u0435\\u043d\\u043d\\u044b\\u0439\", \"\\u043e\\u0447\\u0435\\u043d\\u044c\", \"\\u043f\\u0430\\u043f\\u0430\", \"\\u043f\\u0430\\u0440\\u0430\", \"\\u043f\\u0430\\u0440\\u0435\\u043d\\u044c\", \"\\u043f\\u0435\\u0440\\u0432\\u044b\\u0439\", \"\\u043f\\u0435\\u0440\\u0435\\u0441\\u0442\\u0430\\u0442\\u044c\", \"\\u043f\\u0435\\u0441\\u043d\\u044f\", \"\\u043f\\u0438\\u0437\\u0434\\u0435\\u0446\", \"\\u043f\\u0438\\u0441\\u0430\\u0442\\u044c\", \"\\u043f\\u0438\\u0441\\u044c\\u043c\\u043e\", \"\\u043f\\u0438\\u0442\\u044c\", \"\\u043f\\u043b\\u0430\\u043d\", \"\\u043f\\u043b\\u043e\\u0445\\u043e\", \"\\u043f\\u043b\\u043e\\u0445\\u043e\\u0439\", \"\\u043f\\u043e\\u0433\\u043e\\u0434\\u0430\", \"\\u043f\\u043e\\u0433\\u0443\\u043b\\u044f\\u0442\\u044c\", \"\\u043f\\u043e\\u0434\\u0430\\u0440\\u043e\\u043a\", \"\\u043f\\u043e\\u0434\\u043d\\u044f\\u0442\\u044c\", \"\\u043f\\u043e\\u0434\\u0440\\u0443\\u0433\\u0430\", \"\\u043f\\u043e\\u0436\\u0430\\u043b\\u0443\\u0439\\u0441\\u0442\\u0430\", \"\\u043f\\u043e\\u0439\\u0442\\u0438\", \"\\u043f\\u043e\\u043a\\u0430\", \"\\u043f\\u043e\\u043a\\u0443\\u043f\\u0430\\u0442\\u044c\", \"\\u043f\\u043e\\u043b\", \"\\u043f\\u043e\\u043b\\u043d\\u044b\\u0439\", \"\\u043f\\u043e\\u043b\\u0443\\u0447\\u0438\\u0442\\u044c\", \"\\u043f\\u043e\\u043b\\u0443\\u0447\\u0438\\u0442\\u044c\\u0441\\u044f\", \"\\u043f\\u043e\\u043c\\u043d\\u0438\\u0442\\u044c\", \"\\u043f\\u043e\\u043c\\u043e\\u0433\\u0430\\u0442\\u044c\", \"\\u043f\\u043e\\u043c\\u043e\\u0447\\u044c\", \"\\u043f\\u043e\\u043d\\u0435\\u0434\\u0435\\u043b\\u044c\\u043d\\u0438\\u043a\", \"\\u043f\\u043e\\u043d\\u0438\\u043c\\u0430\\u0442\\u044c\", \"\\u043f\\u043e\\u043d\\u0440\\u0430\\u0432\\u0438\\u0442\\u044c\\u0441\\u044f\", \"\\u043f\\u043e\\u043d\\u044f\\u0442\\u044c\", \"\\u043f\\u043e\\u0440\\u0430\", \"\\u043f\\u043e\\u0441\\u043b\\u0435\\u0434\\u043d\\u0438\\u0439\", \"\\u043f\\u043e\\u0441\\u043c\\u043e\\u0442\\u0440\\u0435\\u0442\\u044c\", \"\\u043f\\u043e\\u0445\\u043e\\u0434\", \"\\u043f\\u043e\\u0445\\u043e\\u0436\\u0435\", \"\\u043f\\u043e\\u0447\\u0435\\u043c\\u0443\", \"\\u043f\\u043e\\u044d\\u0442\\u043e\\u043c\\u0443\", \"\\u043f\\u0440\\u0430\\u0432\\u0434\\u0430\", \"\\u043f\\u0440\\u0430\\u0437\\u0434\\u043d\\u0438\\u043a\", \"\\u043f\\u0440\\u0435\\u0434\\u0441\\u0442\\u0430\\u0432\\u043b\\u044f\\u0442\\u044c\", \"\\u043f\\u0440\\u0435\\u0437\\u0438\\u0434\\u0435\\u043d\\u0442\", \"\\u043f\\u0440\\u0435\\u043a\\u0440\\u0430\\u0441\\u043d\\u044b\\u0439\", \"\\u043f\\u0440\\u0438\\u0432\\u0435\\u0442\", \"\\u043f\\u0440\\u0438\\u0435\\u0445\\u0430\\u0442\\u044c\", \"\\u043f\\u0440\\u0438\\u0439\\u0442\\u0438\", \"\\u043f\\u0440\\u0438\\u0439\\u0442\\u0438\\u0441\\u044c\", \"\\u043f\\u0440\\u0438\\u0445\\u043e\\u0434\\u0438\\u0442\\u044c\", \"\\u043f\\u0440\\u0438\\u044f\\u0442\\u043d\\u043e\", \"\\u043f\\u0440\\u043e\\u0431\\u043a\\u0430\", \"\\u043f\\u0440\\u043e\\u0431\\u043b\\u0435\\u043c\\u0430\", \"\\u043f\\u0440\\u043e\\u0432\\u0435\\u0441\\u0442\\u0438\", \"\\u043f\\u0440\\u043e\\u0439\\u0442\\u0438\", \"\\u043f\\u0440\\u043e\\u0441\\u043d\\u0443\\u0442\\u044c\\u0441\\u044f\", \"\\u043f\\u0440\\u043e\\u0441\\u0442\\u0438\\u0442\\u044c\", \"\\u043f\\u0440\\u043e\\u0441\\u0442\\u043e\", \"\\u043f\\u0440\\u043e\\u0441\\u044b\\u043f\\u0430\\u0442\\u044c\\u0441\\u044f\", \"\\u043f\\u0440\\u044f\\u043c\", \"\\u043f\\u0443\\u0441\\u0442\\u044c\", \"\\u043f\\u044b\\u0442\\u0430\\u0442\\u044c\\u0441\\u044f\", \"\\u0440\\u0430\\u0431\\u043e\\u0442\\u0430\", \"\\u0440\\u0430\\u0431\\u043e\\u0442\\u0430\\u0442\\u044c\", \"\\u0440\\u0430\\u0432\\u043d\\u043e\", \"\\u0440\\u0430\\u0434\\u043e\\u0441\\u0442\\u044c\", \"\\u0440\\u0430\\u043d\\u043d\\u0438\\u0439\", \"\\u0440\\u0430\\u043d\\u043e\", \"\\u0440\\u0430\\u0441\\u0441\\u043a\\u0430\\u0437\\u0430\\u0442\\u044c\", \"\\u0440\\u0435\\u0430\\u043b\\u044c\\u043d\\u043e\", \"\\u0440\\u0435\\u0431\\u044f\\u0442\\u0430\", \"\\u0440\\u0435\\u0431\\u0451\\u043d\\u043e\\u043a\", \"\\u0440\\u0435\\u0434\\u043a\\u043e\", \"\\u0440\\u0435\\u0442\\u0432\\u0438\\u0442\", \"\\u0440\\u0435\\u0448\\u0438\\u0442\\u044c\", \"\\u0440\\u043e\\u0434\\u0438\\u0442\\u0435\\u043b\\u044c\", \"\\u0440\\u043e\\u0436\\u0434\\u0435\\u043d\\u0438\\u0435\", \"\\u0440\\u043e\\u0441\\u0441\\u0438\\u044f\", \"\\u0440\\u0443\\u043a\\u0430\", \"\\u0440\\u0443\\u0441\\u0441\\u043a\\u0438\\u0439\", \"\\u0440\\u044f\\u0434\\u043e\\u043c\", \"\\u0441\\u0430\\u043c\\u044b\\u0439\", \"\\u0441\\u0432\\u0435\\u0442\", \"\\u0441\\u0432\\u043e\\u0431\\u043e\\u0434\\u043d\\u044b\\u0439\", \"\\u0441\\u0432\\u043e\\u0439\", \"\\u0441\\u0434\\u0430\\u0432\\u0430\\u0442\\u044c\", \"\\u0441\\u0434\\u0430\\u0442\\u044c\", \"\\u0441\\u0434\\u0435\\u043b\\u0430\\u0442\\u044c\", \"\\u0441\\u0435\\u0433\\u043e\\u0434\\u043d\\u044f\", \"\\u0441\\u0435\\u0437\\u043e\\u043d\", \"\\u0441\\u0435\\u043c\\u044c\\u044f\", \"\\u0441\\u0435\\u0440\\u0434\\u0446\\u0435\", \"\\u0441\\u0435\\u0440\\u0438\\u0430\\u043b\", \"\\u0441\\u0435\\u0440\\u0438\\u044f\", \"\\u0441\\u0435\\u0441\\u0441\\u0438\\u044f\", \"\\u0441\\u0438\\u0434\\u0435\\u0442\\u044c\", \"\\u0441\\u0438\\u043b\\u044c\\u043d\\u043e\", \"\\u0441\\u0438\\u0442\\u0443\\u0430\\u0446\\u0438\\u044f\", \"\\u0441\\u043a\\u0430\\u0437\\u0430\\u0442\\u044c\", \"\\u0441\\u043a\\u0438\\u043d\\u0443\\u0442\\u044c\", \"\\u0441\\u043a\\u043e\\u043b\\u044c\\u043a\\u043e\", \"\\u0441\\u043a\\u043e\\u0440\\u043e\", \"\\u0441\\u043a\\u0443\\u0447\\u0430\\u0442\\u044c\", \"\\u0441\\u043a\\u0443\\u0447\\u043d\\u043e\", \"\\u0441\\u043b\\u0435\\u0434\\u0443\\u044e\\u0449\\u0438\\u0439\", \"\\u0441\\u043b\\u0438\\u0448\\u043a\\u043e\\u043c\", \"\\u0441\\u043b\\u043e\\u0432\\u043e\", \"\\u0441\\u043b\\u0443\\u0448\\u0430\\u0442\\u044c\", \"\\u0441\\u043c\\u0435\\u044f\\u0442\\u044c\\u0441\\u044f\", \"\\u0441\\u043c\\u043e\\u0442\\u0440\\u0435\\u0442\\u044c\", \"\\u0441\\u043c\\u043e\\u0447\\u044c\", \"\\u0441\\u043d\\u0435\\u0433\", \"\\u0441\\u043d\\u043e\\u0432\\u0430\", \"\\u0441\\u043e\\u0431\\u0438\\u0440\\u0430\\u0442\\u044c\\u0441\\u044f\", \"\\u0441\\u043e\\u043d\", \"\\u0441\\u043f\\u0430\\u0441\\u0438\\u0431\\u043e\", \"\\u0441\\u043f\\u0430\\u0441\\u0442\\u044c\", \"\\u0441\\u043f\\u0430\\u0442\\u044c\", \"\\u0441\\u043f\\u043e\\u043a\\u043e\\u0439\\u043d\\u044b\\u0439\", \"\\u0441\\u043f\\u0440\\u043e\\u0441\\u0438\\u0442\\u044c\", \"\\u0441\\u0440\\u0430\\u0437\\u0443\", \"\\u0441\\u0442\\u0430\\u0440\\u044b\\u0439\", \"\\u0441\\u0442\\u0430\\u0442\\u044c\", \"\\u0441\\u0442\\u0438\\u0445\", \"\\u0441\\u0442\\u043e\\u0438\\u0442\\u044c\", \"\\u0441\\u0442\\u0440\\u0430\\u043d\\u0430\", \"\\u0441\\u0442\\u0440\\u0430\\u0448\\u043d\\u043e\", \"\\u0441\\u0443\\u043a\\u0430\", \"\\u0441\\u0445\\u043e\\u0434\\u0438\\u0442\\u044c\", \"\\u0441\\u0447\\u0430\\u0441\\u0442\\u0438\\u0435\", \"\\u0441\\u0447\\u0430\\u0441\\u0442\\u043b\\u0438\\u0432\\u044b\\u0439\", \"\\u0442\\u0430\\u043a\\u0438\", \"\\u0442\\u0432\\u0438\\u0442\", \"\\u0442\\u0432\\u0438\\u0442\\u0442\\u0435\\u0440\", \"\\u0442\\u0432\\u043e\\u0439\", \"\\u0442\\u0435\\u043b\\u0435\\u0444\\u043e\\u043d\", \"\\u0442\\u0435\\u043c\\u043f\\u0435\\u0440\\u0430\\u0442\\u0443\\u0440\\u0430\", \"\\u0442\\u043e\\u0447\\u043d\\u043e\", \"\\u0442\\u0443\\u0434\\u0430\", \"\\u0443\\u0432\\u0438\\u0434\\u0435\\u0442\\u044c\", \"\\u0443\\u0433\\u0430\\u0434\\u0430\\u0442\\u044c\", \"\\u0443\\u0434\\u0430\\u0447\\u0430\", \"\\u0443\\u0436\\u0430\\u0441\\u043d\\u043e\", \"\\u0443\\u0437\\u043d\\u0430\\u0442\\u044c\", \"\\u0443\\u0439\\u0442\\u0438\", \"\\u0443\\u043a\\u0440\\u0430\\u0438\\u043d\\u0430\", \"\\u0443\\u043b\\u0438\\u0446\\u0430\", \"\\u0443\\u043b\\u044b\\u0431\\u0430\\u0442\\u044c\\u0441\\u044f\", \"\\u0443\\u043c\\u0435\\u0442\\u044c\", \"\\u0443\\u0440\\u043e\\u043a\", \"\\u0443\\u0441\\u043d\\u0443\\u0442\\u044c\", \"\\u0443\\u0441\\u043f\\u0435\\u0442\\u044c\", \"\\u0443\\u0441\\u0442\\u0430\\u0442\\u044c\", \"\\u0443\\u0442\\u0440\\u043e\", \"\\u0443\\u0442\\u0440\\u043e\\u043c\", \"\\u0443\\u0447\\u0438\\u0442\\u044c\", \"\\u0443\\u0447\\u0438\\u0442\\u044c\\u0441\\u044f\", \"\\u0444\\u0438\\u0437\\u0438\\u043a\\u0430\", \"\\u0444\\u0438\\u043b\\u044c\\u043c\", \"\\u0444\\u043e\\u0442\\u043a\\u0430\", \"\\u0444\\u043e\\u0442\\u043e\", \"\\u0445\\u043e\\u0434\\u0438\\u0442\\u044c\", \"\\u0445\\u043e\\u0440\\u043e\\u0448\\u0438\\u0439\", \"\\u0445\\u043e\\u0442\\u0435\\u0442\\u044c\", \"\\u0445\\u043e\\u0442\\u0435\\u0442\\u044c\\u0441\\u044f\", \"\\u0445\\u043e\\u0442\\u044f\", \"\\u0445\\u0440\\u0435\\u043d\", \"\\u0446\\u0435\\u043b\\u044b\\u0439\", \"\\u0447\\u0430\\u0441\", \"\\u0447\\u0435\\u043b\\u043e\\u0432\\u0435\\u043a\", \"\\u0447\\u0435\\u0441\\u0442\\u043d\\u043e\", \"\\u0447\\u0435\\u0442\\u0432\\u0435\\u0440\\u0442\\u044c\", \"\\u0447\\u0438\\u0442\\u0430\\u0442\\u0435\\u043b\\u044c\", \"\\u0447\\u0438\\u0442\\u0430\\u0442\\u044c\", \"\\u0447\\u0443\\u0432\\u0441\\u0442\\u0432\\u043e\", \"\\u0447\\u0443\\u0432\\u0441\\u0442\\u0432\\u043e\\u0432\\u0430\\u0442\\u044c\", \"\\u0447\\u0451\\u0440\\u043d\\u044b\\u0439\", \"\\u0448\\u043a\\u043e\\u043b\\u0430\", \"\\u044d\\u043a\\u0437\\u0430\\u043c\\u0435\\u043d\", \"\\u044d\\u043c\\u043e\\u0446\\u0438\\u044f\", \"\\u044d\\u0442\\u043e\", \"\\u044f\\u043d\\u0432\\u0430\\u0440\\u044c\", \"\\u0451\\u043b\\u043a\\u0430\", \"\\u0454\\u0432\\u0440\\u043e\\u043c\\u0430\\u0439\\u0434\\u0430\\u043d\"]}, \"R\": 30, \"lambda.step\": 0.01, \"plot.opts\": {\"xlab\": \"PC1\", \"ylab\": \"PC2\"}, \"topic.order\": [7, 5, 12, 15, 10, 13, 3, 1, 8, 9, 14, 11, 2, 6, 4]};\n",
       "\n",
       "function LDAvis_load_lib(url, callback){\n",
       "  var s = document.createElement('script');\n",
       "  s.src = url;\n",
       "  s.async = true;\n",
       "  s.onreadystatechange = s.onload = callback;\n",
       "  s.onerror = function(){console.warn(\"failed to load library \" + url);};\n",
       "  document.getElementsByTagName(\"head\")[0].appendChild(s);\n",
       "}\n",
       "\n",
       "if(typeof(LDAvis) !== \"undefined\"){\n",
       "   // already loaded: just create the visualization\n",
       "   !function(LDAvis){\n",
       "       new LDAvis(\"#\" + \"ldavis_el413691405204256292646449728023\", ldavis_el413691405204256292646449728023_data);\n",
       "   }(LDAvis);\n",
       "}else if(typeof define === \"function\" && define.amd){\n",
       "   // require.js is available: use it to load d3/LDAvis\n",
       "   require.config({paths: {d3: \"https://d3js.org/d3.v5\"}});\n",
       "   require([\"d3\"], function(d3){\n",
       "      window.d3 = d3;\n",
       "      LDAvis_load_lib(\"https://cdn.jsdelivr.net/gh/bmabey/pyLDAvis@3.4.0/pyLDAvis/js/ldavis.v3.0.0.js\", function(){\n",
       "        new LDAvis(\"#\" + \"ldavis_el413691405204256292646449728023\", ldavis_el413691405204256292646449728023_data);\n",
       "      });\n",
       "    });\n",
       "}else{\n",
       "    // require.js not available: dynamically load d3 & LDAvis\n",
       "    LDAvis_load_lib(\"https://d3js.org/d3.v5.js\", function(){\n",
       "         LDAvis_load_lib(\"https://cdn.jsdelivr.net/gh/bmabey/pyLDAvis@3.4.0/pyLDAvis/js/ldavis.v3.0.0.js\", function(){\n",
       "                 new LDAvis(\"#\" + \"ldavis_el413691405204256292646449728023\", ldavis_el413691405204256292646449728023_data);\n",
       "            })\n",
       "         });\n",
       "}\n",
       "</script>"
      ],
      "text/plain": [
       "<IPython.core.display.HTML object>"
      ]
     },
     "execution_count": 24,
     "metadata": {},
     "output_type": "execute_result"
    }
   ],
   "source": [
    "# %time\n",
    "vis_data = gensimvis.prepare(lda, corpus, dictionary)\n",
    "pyLDAvis.display(vis_data)"
   ]
  },
  {
   "cell_type": "code",
   "execution_count": 20,
   "metadata": {},
   "outputs": [
    {
     "name": "stdout",
     "output_type": "stream",
     "text": [
      "-8.662099349025652\n"
     ]
    }
   ],
   "source": [
    "print(lda.log_perplexity(corpus))"
   ]
  },
  {
   "cell_type": "code",
   "execution_count": 21,
   "metadata": {},
   "outputs": [
    {
     "name": "stdout",
     "output_type": "stream",
     "text": [
      "Персплексия:  0.0001730242985318011\n"
     ]
    }
   ],
   "source": [
    "print('Персплексия: ', np.exp(lda.log_perplexity(corpus)))"
   ]
  },
  {
   "cell_type": "code",
   "execution_count": 22,
   "metadata": {},
   "outputs": [
    {
     "name": "stdout",
     "output_type": "stream",
     "text": [
      "Средняя когерентность:  0.21461534866777035\n"
     ]
    }
   ],
   "source": [
    "coherence_model_lda = CoherenceModel(model=lda, texts=data['text'], dictionary=dictionary, coherence='c_v')\n",
    "coherence_lda = coherence_model_lda.get_coherence()\n",
    "print('Средняя когерентность: ', coherence_lda)"
   ]
  },
  {
   "cell_type": "code",
   "execution_count": 23,
   "metadata": {},
   "outputs": [
    {
     "data": {
      "application/vnd.jupyter.widget-view+json": {
       "model_id": "8f2a47f555b74cc9a6afe630348c2d6a",
       "version_major": 2,
       "version_minor": 0
      },
      "text/plain": [
       "  0%|          | 0/3 [00:00<?, ?it/s]"
      ]
     },
     "metadata": {},
     "output_type": "display_data"
    },
    {
     "data": {
      "image/png": "[encoded data removed]",
      "text/plain": [
       "<Figure size 432x288 with 1 Axes>"
      ]
     },
     "metadata": {
      "needs_background": "light"
     },
     "output_type": "display_data"
    }
   ],
   "source": [
    "topics_list = [5, 10, 15]\n",
    "coherences = []\n",
    "\n",
    "for num in tqdm(topics_list):\n",
    "    lda = ldamodel.LdaModel(corpus, id2word=dictionary, num_topics=num, chunksize=50, update_every=1, passes=2)\n",
    "    coherences.append(CoherenceModel(model=lda, texts=data['text'], dictionary=dictionary, coherence='c_v').get_coherence())\n",
    "\n",
    "plt.plot(topics_list, coherences)\n",
    "plt.xlabel(\"Число тем\")\n",
    "plt.ylabel(\"Средняя когерентность\")\n",
    "plt.show()"
   ]
  }
 ],
 "metadata": {
  "kernelspec": {
   "display_name": "Python 3",
   "language": "python",
   "name": "python3"
  },
  "language_info": {
   "codemirror_mode": {
    "name": "ipython",
    "version": 3
   },
   "file_extension": ".py",
   "mimetype": "text/x-python",
   "name": "python",
   "nbconvert_exporter": "python",
   "pygments_lexer": "ipython3",
   "version": "3.10.12"
  }
 },
 "nbformat": 4,
 "nbformat_minor": 2
}
