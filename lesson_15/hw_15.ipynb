{
 "cells": [
  {
   "cell_type": "markdown",
   "metadata": {},
   "source": [
    "Реализовать сценарии поведения для диалоговой системы\n",
    "\n",
    "1-ый сценарий болталка\n",
    "\n",
    "2-ой погода в городе\n",
    "\n",
    "3-тий праздники\n",
    "\n",
    "4-ый фильмы\n",
    "\n",
    "5-ый покупка товара"
   ]
  },
  {
   "cell_type": "markdown",
   "metadata": {},
   "source": [
    "## Доделать не успел"
   ]
  },
  {
   "cell_type": "code",
   "execution_count": 12,
   "metadata": {},
   "outputs": [],
   "source": [
    "import dialogflow\n",
    "import logging\n",
    "import os\n",
    "from telegram import Update\n",
    "from telegram.ext  import Updater, CommandHandler, MessageHandler, Filters, CallbackContext"
   ]
  },
  {
   "cell_type": "code",
   "execution_count": 13,
   "metadata": {},
   "outputs": [],
   "source": [
    "main_path = r'/media/dmitriy/Disk/Downloads/ai_nlp_hw_data/hw_15/'"
   ]
  },
  {
   "cell_type": "code",
   "execution_count": 14,
   "metadata": {},
   "outputs": [],
   "source": [
    "with open(os.path.join(main_path, r'tb_creds')) as f:\n",
    "    tb_token = f.readline()\n",
    "updater = Updater(token=tb_token)\n",
    "dispatcher = updater.dispatcher"
   ]
  },
  {
   "cell_type": "code",
   "execution_count": 15,
   "metadata": {},
   "outputs": [],
   "source": [
    "def startCommand(bot, update):\n",
    "    bot.send_message(chat_id=update.message.chat_id, text='Добрый день')\n",
    "    \n",
    "    \n",
    "def textMessage(bot, update):\n",
    "    response = 'Ваше сообщение принял ' + update.message.text\n",
    "    bot.send_message(chat_id=update.message.chat_id, text=response)"
   ]
  },
  {
   "cell_type": "code",
   "execution_count": 16,
   "metadata": {},
   "outputs": [],
   "source": [
    "# Enable logging\n",
    "logging.basicConfig(\n",
    "    format='%(asctime)s - %(name)s - %(levelname)s - %(message)s', level=logging.INFO\n",
    ")\n",
    "\n",
    "logger = logging.getLogger()"
   ]
  },
  {
   "cell_type": "code",
   "execution_count": 17,
   "metadata": {},
   "outputs": [],
   "source": [
    "os.environ[\"GOOGLE_APPLICATION_CREDENTIALS\"] = os.path.join(main_path, 'newagent-iguu-654e947fdc02.json')\n",
    "DIALOGFLOW_PROJECT_ID = 'newagent-iguu' #PROJECT ID из DialogFlow \n",
    "DIALOGFLOW_LANGUAGE_CODE = 'ru' # язык\n",
    "SESSION_ID = 'GB_NLP_BOT'  # ID бота из телеграма"
   ]
  },
  {
   "cell_type": "code",
   "execution_count": 18,
   "metadata": {},
   "outputs": [],
   "source": [
    "def startCommand1(update: Update, context: CallbackContext):\n",
    "    update.message.reply_text('Добрый день!')\n",
    "\n",
    "    \n",
    "def textMessage1(update: Update, context: CallbackContext):\n",
    "    session_client = dialogflow.SessionsClient()\n",
    "    session = session_client.session_path(DIALOGFLOW_PROJECT_ID, SESSION_ID)\n",
    "    \n",
    "    text_input = dialogflow.types.TextInput(text=update.message.text , language_code=DIALOGFLOW_LANGUAGE_CODE)\n",
    "    query_input = dialogflow.types.QueryInput(text=text_input)\n",
    "    \n",
    "    try:\n",
    "        response = session_client.detect_intent(session=session, query_input=query_input)\n",
    "    except Exception as e:\n",
    "        print(e)\n",
    "\n",
    "    text = response.query_result.fulfillment_text\n",
    "    if text:\n",
    "        update.message.reply_text(response.query_result.fulfillment_text)\n",
    "    else:\n",
    "        update.message.reply_text('Что?')"
   ]
  },
  {
   "cell_type": "code",
   "execution_count": 19,
   "metadata": {},
   "outputs": [],
   "source": [
    "dispatcher.add_handler(CommandHandler(\"start\", startCommand1))\n",
    "dispatcher.add_handler(MessageHandler(Filters.text & ~Filters.command, textMessage1))"
   ]
  },
  {
   "cell_type": "code",
   "execution_count": 20,
   "metadata": {},
   "outputs": [
    {
     "name": "stderr",
     "output_type": "stream",
     "text": [
      "2024-01-30 23:47:19,662 - apscheduler.scheduler - INFO - Scheduler started\n",
      "2024-01-30 23:48:00,607 - telegram.ext.updater - INFO - Received signal 2 (SIGINT), stopping...\n",
      "2024-01-30 23:48:00,608 - apscheduler.scheduler - INFO - Scheduler has been shut down\n"
     ]
    }
   ],
   "source": [
    "updater.start_polling()\n",
    "updater.idle()"
   ]
  },
  {
   "cell_type": "markdown",
   "metadata": {},
   "source": [
    "![alternative text](работа.png)"
   ]
  }
 ],
 "metadata": {
  "kernelspec": {
   "display_name": "Python 3",
   "language": "python",
   "name": "python3"
  },
  "language_info": {
   "codemirror_mode": {
    "name": "ipython",
    "version": 3
   },
   "file_extension": ".py",
   "mimetype": "text/x-python",
   "name": "python",
   "nbconvert_exporter": "python",
   "pygments_lexer": "ipython3",
   "version": "3.10.12"
  }
 },
 "nbformat": 4,
 "nbformat_minor": 2
}
